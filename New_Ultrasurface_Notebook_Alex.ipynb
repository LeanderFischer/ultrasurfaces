{
 "cells": [
  {
   "cell_type": "code",
   "execution_count": 39,
   "id": "ea3bb7a3",
   "metadata": {},
   "outputs": [],
   "source": [
    "\n",
    "import matplotlib.pyplot as plt\n",
    "import numpy as np\n",
    "\n",
    "#plt.style.use(\"ultrasurfaces_plotstyle.mplstyle\")\n",
    "\n",
    "from toy_mc import generator\n",
    "from importlib import reload"
   ]
  },
  {
   "cell_type": "code",
   "execution_count": 40,
   "id": "24aab93a",
   "metadata": {
    "tags": []
   },
   "outputs": [],
   "source": [
    "delta_msq_31 = 2.515e-3\n",
    "sinsq_theta_23 = 0.565\n",
    "# convert this to sin**2(2 \\theta)\n",
    "theta_23 = np.arcsin(np.sqrt(sinsq_theta_23))\n",
    "sinsq_2theta_23 = np.sin(2 * theta_23)**2\n",
    "default_pars = generator.OscPars(delta_msq_31, sinsq_2theta_23)\n",
    "\n",
    "default_response = generator.Response(1., 0.05)\n",
    "\n",
    "bin_edges = np.logspace(1., 2., 26)"
   ]
  },
  {
   "cell_type": "code",
   "execution_count": 41,
   "id": "0aba8bba",
   "metadata": {},
   "outputs": [
    {
     "data": {
      "text/plain": [
       "<module 'toy_mc.generator' from '/Users/trettin/projects/ultrasurface paper/ultrasurfaces/toy_mc/generator.py'>"
      ]
     },
     "execution_count": 41,
     "metadata": {},
     "output_type": "execute_result"
    }
   ],
   "source": [
    "reload(generator)"
   ]
  },
  {
   "cell_type": "code",
   "execution_count": 42,
   "id": "865d5301",
   "metadata": {},
   "outputs": [
    {
     "name": "stdout",
     "output_type": "stream",
     "text": [
      "Generating events with log10(E / GeV) from a Gaussian with mean 1.3 and wdith 0.5 and cos(zenith) values uniformly sampled between -1.0 and -1.0.\n"
     ]
    }
   ],
   "source": [
    "gen = generator.Generator(int(1e5), default_response, default_pars)\n",
    "h0 = gen.get_histogram(bin_edges)"
   ]
  },
  {
   "cell_type": "code",
   "execution_count": 43,
   "id": "fd40a4a6",
   "metadata": {},
   "outputs": [
    {
     "data": {
      "text/plain": [
       "Response(mu=1.0, sigma=0.05)"
      ]
     },
     "execution_count": 43,
     "metadata": {},
     "output_type": "execute_result"
    }
   ],
   "source": [
    "gen.detector_response"
   ]
  },
  {
   "cell_type": "code",
   "execution_count": 44,
   "id": "78564409",
   "metadata": {},
   "outputs": [
    {
     "data": {
      "text/plain": [
       "array([33.59421447, 42.50269889, 46.99921488, 46.65973725, 43.03606944,\n",
       "       34.45511909, 27.28572562, 19.00390684, 12.58407246,  8.07485657,\n",
       "        6.06374492,  7.0210885 ,  9.06325938, 11.82372569, 15.02579504,\n",
       "       17.62444729, 21.09194844, 23.23389823, 25.27634969, 26.89109425,\n",
       "       28.66026969, 28.94748039, 28.44491692, 29.83079348, 28.51507872])"
      ]
     },
     "execution_count": 44,
     "metadata": {},
     "output_type": "execute_result"
    }
   ],
   "source": [
    "h0.hist_unc"
   ]
  },
  {
   "cell_type": "code",
   "execution_count": 45,
   "id": "7b08df05",
   "metadata": {},
   "outputs": [
    {
     "data": {
      "text/plain": [
       "array([1521.94639007, 2148.07046841, 2474.58339001, 2490.32232597,\n",
       "       2299.98262357, 1712.1865442 , 1311.81637922,  819.10174533,\n",
       "        497.96583807,  301.22689405,  237.59742055,  278.93678135,\n",
       "        372.69924266,  502.98460923,  678.89490153,  793.69515197,\n",
       "        972.62601894, 1062.28294866, 1129.04286081, 1169.68989122,\n",
       "       1227.85248761, 1181.34010354, 1086.14442722, 1132.7035983 ,\n",
       "        998.88773832])"
      ]
     },
     "execution_count": 45,
     "metadata": {},
     "output_type": "execute_result"
    }
   ],
   "source": [
    "h0.hist"
   ]
  },
  {
   "cell_type": "code",
   "execution_count": 46,
   "id": "71ff0791",
   "metadata": {},
   "outputs": [],
   "source": [
    "from toy_mc.histogram import plot_histogram"
   ]
  },
  {
   "cell_type": "code",
   "execution_count": 47,
   "id": "6b472c1e",
   "metadata": {},
   "outputs": [
    {
     "data": {
      "text/plain": [
       "[]"
      ]
     },
     "execution_count": 47,
     "metadata": {},
     "output_type": "execute_result"
    },
    {
     "data": {
      "image/png": "[encoded data removed]",
      "text/plain": [
       "<Figure size 640x480 with 1 Axes>"
      ]
     },
     "metadata": {},
     "output_type": "display_data"
    }
   ],
   "source": [
    "fig, ax = plt.subplots()\n",
    "plot_histogram(h0, ax=ax)\n",
    "plot_histogram(h0 / 2, ax=ax)\n",
    "plt.semilogx()"
   ]
  },
  {
   "cell_type": "code",
   "execution_count": 48,
   "id": "77cc38b2",
   "metadata": {},
   "outputs": [
    {
     "data": {
      "text/html": [
       "<div>\n",
       "<style scoped>\n",
       "    .dataframe tbody tr th:only-of-type {\n",
       "        vertical-align: middle;\n",
       "    }\n",
       "\n",
       "    .dataframe tbody tr th {\n",
       "        vertical-align: top;\n",
       "    }\n",
       "\n",
       "    .dataframe thead th {\n",
       "        text-align: right;\n",
       "    }\n",
       "</style>\n",
       "<table border=\"1\" class=\"dataframe\">\n",
       "  <thead>\n",
       "    <tr style=\"text-align: right;\">\n",
       "      <th></th>\n",
       "      <th>true_energy</th>\n",
       "      <th>true_cos(zen)</th>\n",
       "      <th>weights_pre_detector</th>\n",
       "      <th>reco_energy</th>\n",
       "      <th>weights</th>\n",
       "    </tr>\n",
       "  </thead>\n",
       "  <tbody>\n",
       "    <tr>\n",
       "      <th>0</th>\n",
       "      <td>21.759369</td>\n",
       "      <td>-1.0</td>\n",
       "      <td>0.101547</td>\n",
       "      <td>24.784118</td>\n",
       "      <td>0.101547</td>\n",
       "    </tr>\n",
       "    <tr>\n",
       "      <th>1</th>\n",
       "      <td>20.805690</td>\n",
       "      <td>-1.0</td>\n",
       "      <td>0.154514</td>\n",
       "      <td>26.781157</td>\n",
       "      <td>0.154514</td>\n",
       "    </tr>\n",
       "    <tr>\n",
       "      <th>2</th>\n",
       "      <td>14.351200</td>\n",
       "      <td>-1.0</td>\n",
       "      <td>0.909427</td>\n",
       "      <td>17.014481</td>\n",
       "      <td>0.909427</td>\n",
       "    </tr>\n",
       "    <tr>\n",
       "      <th>3</th>\n",
       "      <td>38.110655</td>\n",
       "      <td>-1.0</td>\n",
       "      <td>0.246106</td>\n",
       "      <td>35.445434</td>\n",
       "      <td>0.246106</td>\n",
       "    </tr>\n",
       "    <tr>\n",
       "      <th>4</th>\n",
       "      <td>7.943228</td>\n",
       "      <td>-1.0</td>\n",
       "      <td>0.170534</td>\n",
       "      <td>8.748588</td>\n",
       "      <td>0.170534</td>\n",
       "    </tr>\n",
       "    <tr>\n",
       "      <th>...</th>\n",
       "      <td>...</td>\n",
       "      <td>...</td>\n",
       "      <td>...</td>\n",
       "      <td>...</td>\n",
       "      <td>...</td>\n",
       "    </tr>\n",
       "    <tr>\n",
       "      <th>99995</th>\n",
       "      <td>6.921691</td>\n",
       "      <td>-1.0</td>\n",
       "      <td>0.844567</td>\n",
       "      <td>6.758038</td>\n",
       "      <td>0.844567</td>\n",
       "    </tr>\n",
       "    <tr>\n",
       "      <th>99996</th>\n",
       "      <td>35.598303</td>\n",
       "      <td>-1.0</td>\n",
       "      <td>0.186712</td>\n",
       "      <td>37.801956</td>\n",
       "      <td>0.186712</td>\n",
       "    </tr>\n",
       "    <tr>\n",
       "      <th>99997</th>\n",
       "      <td>3.331163</td>\n",
       "      <td>-1.0</td>\n",
       "      <td>0.877687</td>\n",
       "      <td>3.182964</td>\n",
       "      <td>0.877687</td>\n",
       "    </tr>\n",
       "    <tr>\n",
       "      <th>99998</th>\n",
       "      <td>19.478304</td>\n",
       "      <td>-1.0</td>\n",
       "      <td>0.256778</td>\n",
       "      <td>15.524013</td>\n",
       "      <td>0.256778</td>\n",
       "    </tr>\n",
       "    <tr>\n",
       "      <th>99999</th>\n",
       "      <td>22.442190</td>\n",
       "      <td>-1.0</td>\n",
       "      <td>0.072885</td>\n",
       "      <td>21.879447</td>\n",
       "      <td>0.072885</td>\n",
       "    </tr>\n",
       "  </tbody>\n",
       "</table>\n",
       "<p>100000 rows × 5 columns</p>\n",
       "</div>"
      ],
      "text/plain": [
       "       true_energy  true_cos(zen)  weights_pre_detector  reco_energy   weights\n",
       "0        21.759369           -1.0              0.101547    24.784118  0.101547\n",
       "1        20.805690           -1.0              0.154514    26.781157  0.154514\n",
       "2        14.351200           -1.0              0.909427    17.014481  0.909427\n",
       "3        38.110655           -1.0              0.246106    35.445434  0.246106\n",
       "4         7.943228           -1.0              0.170534     8.748588  0.170534\n",
       "...            ...            ...                   ...          ...       ...\n",
       "99995     6.921691           -1.0              0.844567     6.758038  0.844567\n",
       "99996    35.598303           -1.0              0.186712    37.801956  0.186712\n",
       "99997     3.331163           -1.0              0.877687     3.182964  0.877687\n",
       "99998    19.478304           -1.0              0.256778    15.524013  0.256778\n",
       "99999    22.442190           -1.0              0.072885    21.879447  0.072885\n",
       "\n",
       "[100000 rows x 5 columns]"
      ]
     },
     "execution_count": 48,
     "metadata": {},
     "output_type": "execute_result"
    }
   ],
   "source": [
    "gen.events"
   ]
  },
  {
   "cell_type": "code",
   "execution_count": 49,
   "id": "f3c756de",
   "metadata": {},
   "outputs": [
    {
     "name": "stdout",
     "output_type": "stream",
     "text": [
      "Generating events with log10(E / GeV) from a Gaussian with mean 1.3 and wdith 0.5 and cos(zenith) values uniformly sampled between -1.0 and -1.0.\n"
     ]
    }
   ],
   "source": [
    "gen_2 = generator.Generator(\n",
    "    int(1e5),\n",
    "    default_response,\n",
    "    generator.OscPars(1.2 * default_pars.delta_mqs, default_pars.sinsq_2theta),\n",
    ")\n",
    "h2 = gen_2.get_histogram(bin_edges)"
   ]
  },
  {
   "cell_type": "code",
   "execution_count": 50,
   "id": "6b9cd6a3",
   "metadata": {},
   "outputs": [
    {
     "name": "stdout",
     "output_type": "stream",
     "text": [
      "Generating events with log10(E / GeV) from a Gaussian with mean 1.3 and wdith 0.5 and cos(zenith) values uniformly sampled between -1.0 and -1.0.\n"
     ]
    }
   ],
   "source": [
    "gen_3 = generator.Generator(\n",
    "    int(1e5), generator.Response(1.2 * default_response.mu, default_response.sigma), default_pars\n",
    ")\n",
    "h3 = gen_3.get_histogram(bin_edges)"
   ]
  },
  {
   "cell_type": "code",
   "execution_count": 51,
   "id": "1e4f89a6",
   "metadata": {},
   "outputs": [
    {
     "data": {
      "text/plain": [
       "<matplotlib.legend.Legend at 0x1360b89a0>"
      ]
     },
     "execution_count": 51,
     "metadata": {},
     "output_type": "execute_result"
    },
    {
     "data": {
      "image/png": "[encoded data removed]",
      "text/plain": [
       "<Figure size 640x480 with 1 Axes>"
      ]
     },
     "metadata": {},
     "output_type": "display_data"
    }
   ],
   "source": [
    "from toy_mc.histogram import plot_histogram\n",
    "\n",
    "fig, ax = plt.subplots()\n",
    "\n",
    "plot_histogram(h0, ax=ax, label=r'default histogram')\n",
    "\n",
    "plot_histogram(h2, ax=ax, label=r'1.2 x $\\Delta_m^2$ ')\n",
    "\n",
    "plot_histogram(h3, ax=ax, label=r'1.2 x $\\mu$')\n",
    "\n",
    "\n",
    "plt.xscale('log')\n",
    "plt.xlabel(r'$E_{\\rm reco}$ [GeV]')\n",
    "plt.ylabel(r'$N_{\\rm events}$')\n",
    "\n",
    "plt.legend()"
   ]
  },
  {
   "cell_type": "code",
   "execution_count": 52,
   "id": "fd1ed4cb",
   "metadata": {},
   "outputs": [],
   "source": [
    "from surfaces import calculate_probs"
   ]
  },
  {
   "cell_type": "code",
   "execution_count": 53,
   "id": "79ca6a6c",
   "metadata": {},
   "outputs": [
    {
     "name": "stdout",
     "output_type": "stream",
     "text": [
      "Generating events with log10(E / GeV) from a Gaussian with mean 1.3 and wdith 0.5 and cos(zenith) values uniformly sampled between -1.0 and -1.0.\n",
      "Generating events with log10(E / GeV) from a Gaussian with mean 1.3 and wdith 0.5 and cos(zenith) values uniformly sampled between -1.0 and -1.0.\n",
      "Generating events with log10(E / GeV) from a Gaussian with mean 1.3 and wdith 0.5 and cos(zenith) values uniformly sampled between -1.0 and -1.0.\n",
      "Generating events with log10(E / GeV) from a Gaussian with mean 1.3 and wdith 0.5 and cos(zenith) values uniformly sampled between -1.0 and -1.0.\n",
      "Generating events with log10(E / GeV) from a Gaussian with mean 1.3 and wdith 0.5 and cos(zenith) values uniformly sampled between -1.0 and -1.0.\n"
     ]
    }
   ],
   "source": [
    "reload(generator)\n",
    "gen_nominal = generator.Generator(\n",
    "    int(1e5), default_response, default_pars, name=\"nominal\", rng_seed=0\n",
    ")\n",
    "# It looks like there is a breakdown point where, if the response is *too* different,\n",
    "# the whole thing doesn't work anymore.\n",
    "gen_sys_1 = generator.Generator(\n",
    "    int(1e5),\n",
    "    generator.Response(1.1 * default_response.mu, default_response.sigma),\n",
    "    default_pars,\n",
    "    name=\"sys_01\",\n",
    "    rng_seed=0\n",
    ")\n",
    "gen_sys_2 = generator.Generator(\n",
    "    int(1e5),\n",
    "    generator.Response(0.90 * default_response.mu, default_response.sigma),\n",
    "    default_pars,\n",
    "    name=\"sys_02\",\n",
    "    rng_seed=0\n",
    ")\n",
    "gen_sys_3 = generator.Generator(\n",
    "    int(1e5),\n",
    "    generator.Response(0.95 * default_response.mu, default_response.sigma),\n",
    "    default_pars,\n",
    "    name=\"sys_03\",\n",
    "    rng_seed=0\n",
    ")\n",
    "gen_sys_4 = generator.Generator(\n",
    "    int(1e5),\n",
    "    generator.Response(1.05 * default_response.mu, default_response.sigma),\n",
    "    default_pars,\n",
    "    name=\"sys_04\",\n",
    "    rng_seed=0\n",
    ")"
   ]
  },
  {
   "cell_type": "code",
   "execution_count": 54,
   "id": "5bdabeb0",
   "metadata": {},
   "outputs": [
    {
     "name": "stdout",
     "output_type": "stream",
     "text": [
      "Starting KNN evaluation...\n"
     ]
    },
    {
     "name": "stderr",
     "output_type": "stream",
     "text": [
      "100%|██████████| 10/10 [01:31<00:00,  9.17s/it]\n"
     ]
    }
   ],
   "source": [
    "reload(calculate_probs)\n",
    "df_with_probs = calculate_probs.calculate_probs_sklearn(\n",
    "    gen_nominal,\n",
    "    [gen_sys_1, gen_sys_2, gen_sys_3, gen_sys_4],\n",
    "    variables=[\"true_energy\", \"reco_energy\"],\n",
    "    tilt_bias_correction=True,\n",
    "    neighbors_per_class=200,\n",
    "    jobs=4\n",
    ")"
   ]
  },
  {
   "cell_type": "code",
   "execution_count": 55,
   "id": "33cd3331",
   "metadata": {},
   "outputs": [
    {
     "name": "stdout",
     "output_type": "stream",
     "text": [
      "Starting KNN evaluation...\n"
     ]
    },
    {
     "name": "stderr",
     "output_type": "stream",
     "text": [
      "100%|██████████| 10/10 [00:29<00:00,  2.93s/it]\n"
     ]
    }
   ],
   "source": [
    "df_with_probs_no_tilt_corr = calculate_probs.calculate_probs_sklearn(\n",
    "    gen_nominal,\n",
    "    [gen_sys_1, gen_sys_2, gen_sys_3, gen_sys_4],\n",
    "    variables=[\"true_energy\", \"reco_energy\"],\n",
    "    tilt_bias_correction=False,\n",
    "    neighbors_per_class=200,\n",
    "    jobs=4\n",
    ")"
   ]
  },
  {
   "cell_type": "code",
   "execution_count": 56,
   "id": "1893f138",
   "metadata": {},
   "outputs": [
    {
     "name": "stdout",
     "output_type": "stream",
     "text": [
      "Iteration 1, loss = 1.13763737\n",
      "Iteration 2, loss = 1.08577430\n",
      "Iteration 3, loss = 1.08402903\n",
      "Iteration 4, loss = 1.08329884\n",
      "Iteration 5, loss = 1.08260930\n",
      "Iteration 6, loss = 1.08217485\n",
      "Iteration 7, loss = 1.08184173\n",
      "Iteration 8, loss = 1.08162394\n",
      "Iteration 9, loss = 1.08147860\n",
      "Iteration 10, loss = 1.08139292\n",
      "Starting MLP evaluation...\n"
     ]
    },
    {
     "name": "stderr",
     "output_type": "stream",
     "text": [
      "/Users/trettin/projects/ultrasurface paper/ultrasurfaces/venv/lib/python3.10/site-packages/sklearn/neural_network/_multilayer_perceptron.py:684: ConvergenceWarning: Stochastic Optimizer: Maximum iterations (10) reached and the optimization hasn't converged yet.\n",
      "  warnings.warn(\n"
     ]
    }
   ],
   "source": [
    "reload(calculate_probs)\n",
    "df_with_probs_mlp = calculate_probs.calculate_probs_sklearn(\n",
    "    gen_nominal,\n",
    "    [gen_sys_1, gen_sys_2, gen_sys_3, gen_sys_4],\n",
    "    variables=[\"true_energy\", \"reco_energy\"],\n",
    "    classifiertype=\"mlp\",\n",
    "    verbose_training=True,\n",
    "    max_iter=10,\n",
    "    alpha=1e-7,\n",
    "    activation=\"relu\",\n",
    "    hidden_layer_sizes=(20, 20)\n",
    ")"
   ]
  },
  {
   "cell_type": "code",
   "execution_count": 57,
   "id": "8c787368",
   "metadata": {},
   "outputs": [
    {
     "data": {
      "text/html": [
       "<div>\n",
       "<style scoped>\n",
       "    .dataframe tbody tr th:only-of-type {\n",
       "        vertical-align: middle;\n",
       "    }\n",
       "\n",
       "    .dataframe tbody tr th {\n",
       "        vertical-align: top;\n",
       "    }\n",
       "\n",
       "    .dataframe thead th {\n",
       "        text-align: right;\n",
       "    }\n",
       "</style>\n",
       "<table border=\"1\" class=\"dataframe\">\n",
       "  <thead>\n",
       "    <tr style=\"text-align: right;\">\n",
       "      <th></th>\n",
       "      <th>true_energy</th>\n",
       "      <th>true_cos(zen)</th>\n",
       "      <th>weights_pre_detector</th>\n",
       "      <th>reco_energy</th>\n",
       "      <th>weights</th>\n",
       "      <th>set</th>\n",
       "      <th>prob_nominal</th>\n",
       "      <th>prob_sys_01</th>\n",
       "      <th>prob_sys_02</th>\n",
       "      <th>prob_sys_03</th>\n",
       "      <th>prob_sys_04</th>\n",
       "    </tr>\n",
       "  </thead>\n",
       "  <tbody>\n",
       "    <tr>\n",
       "      <th>0</th>\n",
       "      <td>30.012000</td>\n",
       "      <td>-1.0</td>\n",
       "      <td>0.062063</td>\n",
       "      <td>22.077279</td>\n",
       "      <td>0.062063</td>\n",
       "      <td>nominal</td>\n",
       "      <td>0.111864</td>\n",
       "      <td>0.000269</td>\n",
       "      <td>0.505569</td>\n",
       "      <td>0.372744</td>\n",
       "      <td>0.009554</td>\n",
       "    </tr>\n",
       "    <tr>\n",
       "      <th>1</th>\n",
       "      <td>12.509443</td>\n",
       "      <td>-1.0</td>\n",
       "      <td>0.988422</td>\n",
       "      <td>11.000129</td>\n",
       "      <td>0.988422</td>\n",
       "      <td>nominal</td>\n",
       "      <td>0.265507</td>\n",
       "      <td>0.004454</td>\n",
       "      <td>0.251104</td>\n",
       "      <td>0.419947</td>\n",
       "      <td>0.058988</td>\n",
       "    </tr>\n",
       "    <tr>\n",
       "      <th>2</th>\n",
       "      <td>4.223824</td>\n",
       "      <td>-1.0</td>\n",
       "      <td>0.960612</td>\n",
       "      <td>4.648659</td>\n",
       "      <td>0.960612</td>\n",
       "      <td>nominal</td>\n",
       "      <td>0.165402</td>\n",
       "      <td>0.384072</td>\n",
       "      <td>0.001581</td>\n",
       "      <td>0.027448</td>\n",
       "      <td>0.421497</td>\n",
       "    </tr>\n",
       "    <tr>\n",
       "      <th>3</th>\n",
       "      <td>80.468674</td>\n",
       "      <td>-1.0</td>\n",
       "      <td>0.769647</td>\n",
       "      <td>70.787222</td>\n",
       "      <td>0.769647</td>\n",
       "      <td>nominal</td>\n",
       "      <td>0.356750</td>\n",
       "      <td>0.018165</td>\n",
       "      <td>0.142512</td>\n",
       "      <td>0.361096</td>\n",
       "      <td>0.121477</td>\n",
       "    </tr>\n",
       "    <tr>\n",
       "      <th>4</th>\n",
       "      <td>89.158501</td>\n",
       "      <td>-1.0</td>\n",
       "      <td>0.809329</td>\n",
       "      <td>67.934656</td>\n",
       "      <td>0.809329</td>\n",
       "      <td>nominal</td>\n",
       "      <td>0.209996</td>\n",
       "      <td>0.002475</td>\n",
       "      <td>0.322276</td>\n",
       "      <td>0.426948</td>\n",
       "      <td>0.038304</td>\n",
       "    </tr>\n",
       "    <tr>\n",
       "      <th>...</th>\n",
       "      <td>...</td>\n",
       "      <td>...</td>\n",
       "      <td>...</td>\n",
       "      <td>...</td>\n",
       "      <td>...</td>\n",
       "      <td>...</td>\n",
       "      <td>...</td>\n",
       "      <td>...</td>\n",
       "      <td>...</td>\n",
       "      <td>...</td>\n",
       "      <td>...</td>\n",
       "    </tr>\n",
       "    <tr>\n",
       "      <th>99995</th>\n",
       "      <td>139.128666</td>\n",
       "      <td>-1.0</td>\n",
       "      <td>0.918399</td>\n",
       "      <td>117.615852</td>\n",
       "      <td>0.918399</td>\n",
       "      <td>nominal</td>\n",
       "      <td>0.333751</td>\n",
       "      <td>0.013685</td>\n",
       "      <td>0.169065</td>\n",
       "      <td>0.381606</td>\n",
       "      <td>0.101892</td>\n",
       "    </tr>\n",
       "    <tr>\n",
       "      <th>99996</th>\n",
       "      <td>329.298718</td>\n",
       "      <td>-1.0</td>\n",
       "      <td>0.985088</td>\n",
       "      <td>441.580076</td>\n",
       "      <td>0.985088</td>\n",
       "      <td>nominal</td>\n",
       "      <td>0.243546</td>\n",
       "      <td>0.266961</td>\n",
       "      <td>0.003850</td>\n",
       "      <td>0.051898</td>\n",
       "      <td>0.433744</td>\n",
       "    </tr>\n",
       "    <tr>\n",
       "      <th>99997</th>\n",
       "      <td>21.282419</td>\n",
       "      <td>-1.0</td>\n",
       "      <td>0.126044</td>\n",
       "      <td>21.576838</td>\n",
       "      <td>0.126044</td>\n",
       "      <td>nominal</td>\n",
       "      <td>0.397326</td>\n",
       "      <td>0.070637</td>\n",
       "      <td>0.043836</td>\n",
       "      <td>0.212424</td>\n",
       "      <td>0.275776</td>\n",
       "    </tr>\n",
       "    <tr>\n",
       "      <th>99998</th>\n",
       "      <td>80.893370</td>\n",
       "      <td>-1.0</td>\n",
       "      <td>0.771852</td>\n",
       "      <td>71.962719</td>\n",
       "      <td>0.771852</td>\n",
       "      <td>nominal</td>\n",
       "      <td>0.365722</td>\n",
       "      <td>0.020667</td>\n",
       "      <td>0.132103</td>\n",
       "      <td>0.350978</td>\n",
       "      <td>0.130530</td>\n",
       "    </tr>\n",
       "    <tr>\n",
       "      <th>99999</th>\n",
       "      <td>9.301123</td>\n",
       "      <td>-1.0</td>\n",
       "      <td>0.126788</td>\n",
       "      <td>10.565125</td>\n",
       "      <td>0.126788</td>\n",
       "      <td>nominal</td>\n",
       "      <td>0.220064</td>\n",
       "      <td>0.312159</td>\n",
       "      <td>0.002488</td>\n",
       "      <td>0.038592</td>\n",
       "      <td>0.426697</td>\n",
       "    </tr>\n",
       "  </tbody>\n",
       "</table>\n",
       "<p>100000 rows × 11 columns</p>\n",
       "</div>"
      ],
      "text/plain": [
       "       true_energy  true_cos(zen)  weights_pre_detector  reco_energy  \\\n",
       "0        30.012000           -1.0              0.062063    22.077279   \n",
       "1        12.509443           -1.0              0.988422    11.000129   \n",
       "2         4.223824           -1.0              0.960612     4.648659   \n",
       "3        80.468674           -1.0              0.769647    70.787222   \n",
       "4        89.158501           -1.0              0.809329    67.934656   \n",
       "...            ...            ...                   ...          ...   \n",
       "99995   139.128666           -1.0              0.918399   117.615852   \n",
       "99996   329.298718           -1.0              0.985088   441.580076   \n",
       "99997    21.282419           -1.0              0.126044    21.576838   \n",
       "99998    80.893370           -1.0              0.771852    71.962719   \n",
       "99999     9.301123           -1.0              0.126788    10.565125   \n",
       "\n",
       "        weights      set  prob_nominal  prob_sys_01  prob_sys_02  prob_sys_03  \\\n",
       "0      0.062063  nominal      0.111864     0.000269     0.505569     0.372744   \n",
       "1      0.988422  nominal      0.265507     0.004454     0.251104     0.419947   \n",
       "2      0.960612  nominal      0.165402     0.384072     0.001581     0.027448   \n",
       "3      0.769647  nominal      0.356750     0.018165     0.142512     0.361096   \n",
       "4      0.809329  nominal      0.209996     0.002475     0.322276     0.426948   \n",
       "...         ...      ...           ...          ...          ...          ...   \n",
       "99995  0.918399  nominal      0.333751     0.013685     0.169065     0.381606   \n",
       "99996  0.985088  nominal      0.243546     0.266961     0.003850     0.051898   \n",
       "99997  0.126044  nominal      0.397326     0.070637     0.043836     0.212424   \n",
       "99998  0.771852  nominal      0.365722     0.020667     0.132103     0.350978   \n",
       "99999  0.126788  nominal      0.220064     0.312159     0.002488     0.038592   \n",
       "\n",
       "       prob_sys_04  \n",
       "0         0.009554  \n",
       "1         0.058988  \n",
       "2         0.421497  \n",
       "3         0.121477  \n",
       "4         0.038304  \n",
       "...            ...  \n",
       "99995     0.101892  \n",
       "99996     0.433744  \n",
       "99997     0.275776  \n",
       "99998     0.130530  \n",
       "99999     0.426697  \n",
       "\n",
       "[100000 rows x 11 columns]"
      ]
     },
     "execution_count": 57,
     "metadata": {},
     "output_type": "execute_result"
    }
   ],
   "source": [
    "df_with_probs_mlp"
   ]
  },
  {
   "cell_type": "code",
   "execution_count": 58,
   "id": "d8fe2907",
   "metadata": {},
   "outputs": [],
   "source": [
    "from toy_mc.histogram import Histogram"
   ]
  },
  {
   "cell_type": "code",
   "execution_count": 59,
   "id": "3375d4b4",
   "metadata": {},
   "outputs": [],
   "source": [
    "weighted_hist = Histogram(bin_edges)\n",
    "weighted_hist.fill(\n",
    "    df_with_probs[\"reco_energy\"],\n",
    "    df_with_probs[\"weights\"]\n",
    "    * df_with_probs[\"prob_sys_01\"]\n",
    "    / df_with_probs[\"prob_nominal\"],\n",
    ")\n",
    "\n",
    "weighted_hist_no_tilt_corr = Histogram(bin_edges)\n",
    "weighted_hist_no_tilt_corr.fill(\n",
    "    df_with_probs_no_tilt_corr[\"reco_energy\"],\n",
    "    df_with_probs_no_tilt_corr[\"weights\"]\n",
    "    * df_with_probs_no_tilt_corr[\"prob_sys_01\"]\n",
    "    / df_with_probs_no_tilt_corr[\"prob_nominal\"],\n",
    ")\n",
    "\n",
    "weighted_hist_mlp = Histogram(bin_edges)\n",
    "weighted_hist_mlp.fill(\n",
    "    df_with_probs_mlp[\"reco_energy\"],\n",
    "    df_with_probs_mlp[\"weights\"]\n",
    "    * df_with_probs_mlp[\"prob_sys_01\"]\n",
    "    / df_with_probs_mlp[\"prob_nominal\"],\n",
    ")"
   ]
  },
  {
   "cell_type": "code",
   "execution_count": 60,
   "id": "d3d059b9",
   "metadata": {},
   "outputs": [
    {
     "data": {
      "image/png": "[encoded data removed]",
      "text/plain": [
       "<Figure size 640x480 with 1 Axes>"
      ]
     },
     "metadata": {},
     "output_type": "display_data"
    }
   ],
   "source": [
    "from toy_mc.histogram import plot_histogram\n",
    "\n",
    "fig, ax = plt.subplots()\n",
    "\n",
    "sys_hist = gen_sys_1.get_histogram(bin_edges)\n",
    "nominal_hist = gen_nominal.get_histogram(bin_edges)\n",
    "\n",
    "plot_histogram(nominal_hist, ax=ax, label=\"nominal\")\n",
    "plot_histogram(sys_hist, ax=ax, label=\"sys set 01\")\n",
    "plot_histogram(weighted_hist, ax=ax, label=\"nominal reweighted KNN\")\n",
    "# plot_histogram(weighted_hist_no_tilt_corr, ax=ax, label=\"without tilt corr\")\n",
    "plot_histogram(weighted_hist_mlp, ax=ax, label=\"nominal reweighted MLP\")\n",
    "plt.semilogx()\n",
    "plt.legend()\n",
    "plt.show()"
   ]
  },
  {
   "cell_type": "code",
   "execution_count": 61,
   "id": "092dfd3a",
   "metadata": {},
   "outputs": [
    {
     "data": {
      "text/plain": [
       "<module 'surfaces.calculate_grads' from '/Users/trettin/projects/ultrasurface paper/ultrasurfaces/surfaces/calculate_grads.py'>"
      ]
     },
     "execution_count": 61,
     "metadata": {},
     "output_type": "execute_result"
    }
   ],
   "source": [
    "from surfaces import calculate_grads\n",
    "reload(calculate_grads)"
   ]
  },
  {
   "cell_type": "code",
   "execution_count": 62,
   "id": "b461cda3",
   "metadata": {},
   "outputs": [
    {
     "data": {
      "text/plain": [
       "['grad__mu', 'grad__mu__mu']"
      ]
     },
     "execution_count": 62,
     "metadata": {},
     "output_type": "execute_result"
    }
   ],
   "source": [
    "# get gradient names for systematic \"mu\"\n",
    "grad_names = calculate_grads.make_gradient_names([\"mu\"], 2)\n",
    "grad_names"
   ]
  },
  {
   "cell_type": "code",
   "execution_count": 63,
   "id": "c90ccfe0",
   "metadata": {},
   "outputs": [
    {
     "data": {
      "text/plain": [
       "array([[ 0.    ,  0.1   , -0.1   , -0.05  ,  0.05  ],\n",
       "       [ 0.    ,  0.01  ,  0.01  ,  0.0025,  0.0025]])"
      ]
     },
     "execution_count": 63,
     "metadata": {},
     "output_type": "execute_result"
    }
   ],
   "source": [
    "# make delta_p matrix for the systematic \"mu\" \n",
    "# (i.e. the detector response)\n",
    "delta_p = calculate_grads.make_delta_p_from_grad_names(\n",
    "    grad_names, [gen_sys_1, gen_sys_2, gen_sys_3, gen_sys_4], gen_nominal\n",
    ")\n",
    "delta_p"
   ]
  },
  {
   "cell_type": "code",
   "execution_count": 64,
   "id": "e8191f83",
   "metadata": {},
   "outputs": [
    {
     "name": "stderr",
     "output_type": "stream",
     "text": [
      "100%|██████████| 100000/100000 [02:17<00:00, 726.66it/s]\n"
     ]
    }
   ],
   "source": [
    "# reload(calculate_grads)\n",
    "# Calculate the gradients\n",
    "df_with_grads = calculate_grads.fit_gradients(\n",
    "    # Dataframe with probabilities\n",
    "    df_with_probs, \n",
    "    # Columns with the probabilities\n",
    "    prob_columns=[\"prob_nominal\", \"prob_sys_01\", \"prob_sys_02\", \"prob_sys_03\", \"prob_sys_04\"], \n",
    "    # The size of the shift\n",
    "    delta_p=delta_p, \n",
    "    # The names of the new columns\n",
    "    grad_names=grad_names\n",
    ")"
   ]
  },
  {
   "cell_type": "code",
   "execution_count": 65,
   "id": "c8365951",
   "metadata": {},
   "outputs": [],
   "source": [
    "from surfaces import calculate_grad_net"
   ]
  },
  {
   "cell_type": "code",
   "execution_count": 159,
   "id": "07b43618",
   "metadata": {},
   "outputs": [
    {
     "data": {
      "text/plain": [
       "<module 'surfaces.calculate_grad_net' from '/Users/trettin/projects/ultrasurface paper/ultrasurfaces/surfaces/calculate_grad_net.py'>"
      ]
     },
     "execution_count": 159,
     "metadata": {},
     "output_type": "execute_result"
    }
   ],
   "source": [
    "reload(calculate_grad_net)"
   ]
  },
  {
   "cell_type": "code",
   "execution_count": null,
   "id": "6349d781",
   "metadata": {},
   "outputs": [],
   "source": [
    "df_grad_net = calculate_grad_net.run_grad_net(\n",
    "    gen_nominal,\n",
    "    [gen_sys_1, gen_sys_2, gen_sys_3, gen_sys_4],\n",
    "    variables=[\"true_energy\", \"reco_energy\"],\n",
    "    param_names=[\"mu\"],\n",
    "    verbose=1,\n",
    "    epochs=25,\n",
    "    shuffle=True,\n",
    "    activation=\"relu\",\n",
    "    hidden_layer_sizes=(20, 20, 20),\n",
    "    poly_order=3\n",
    ")"
   ]
  },
  {
   "cell_type": "code",
   "execution_count": 172,
   "id": "1d8b4882",
   "metadata": {},
   "outputs": [
    {
     "name": "stdout",
     "output_type": "stream",
     "text": [
      "Epoch 1/20\n",
      "500/500 [==============================] - 5s 8ms/step - loss: 1.2452\n",
      "Epoch 2/20\n",
      "500/500 [==============================] - 4s 7ms/step - loss: 1.0996\n",
      "Epoch 3/20\n",
      "500/500 [==============================] - 3s 7ms/step - loss: 1.0941\n",
      "Epoch 4/20\n",
      "500/500 [==============================] - 3s 6ms/step - loss: 1.0922\n",
      "Epoch 5/20\n",
      "500/500 [==============================] - 3s 5ms/step - loss: 1.0912\n",
      "Epoch 6/20\n",
      "500/500 [==============================] - 3s 6ms/step - loss: 1.0902\n",
      "Epoch 7/20\n",
      "500/500 [==============================] - 3s 6ms/step - loss: 1.0895\n",
      "Epoch 8/20\n",
      "500/500 [==============================] - 3s 6ms/step - loss: 1.0888\n",
      "Epoch 9/20\n",
      "500/500 [==============================] - 3s 6ms/step - loss: 1.0888\n",
      "Epoch 10/20\n",
      "500/500 [==============================] - 3s 5ms/step - loss: 1.0882\n",
      "Epoch 11/20\n",
      "500/500 [==============================] - 3s 6ms/step - loss: 1.0878\n",
      "Epoch 12/20\n",
      "500/500 [==============================] - 3s 6ms/step - loss: 1.0876\n",
      "Epoch 13/20\n",
      "500/500 [==============================] - 3s 7ms/step - loss: 1.0872\n",
      "Epoch 14/20\n",
      "500/500 [==============================] - 3s 6ms/step - loss: 1.0868\n",
      "Epoch 15/20\n",
      "500/500 [==============================] - 3s 6ms/step - loss: 1.0866\n",
      "Epoch 16/20\n",
      "500/500 [==============================] - 3s 6ms/step - loss: 1.0868\n",
      "Epoch 17/20\n",
      "500/500 [==============================] - 4s 7ms/step - loss: 1.0867\n",
      "Epoch 18/20\n",
      "500/500 [==============================] - 3s 6ms/step - loss: 1.0863\n",
      "Epoch 19/20\n",
      "500/500 [==============================] - 3s 7ms/step - loss: 1.0862\n",
      "Epoch 20/20\n",
      "500/500 [==============================] - 3s 6ms/step - loss: 1.0858\n",
      "3125/3125 [==============================] - 9s 3ms/step\n",
      "3125/3125 [==============================] - 8s 2ms/step\n"
     ]
    }
   ],
   "source": [
    "df_grad_net_poly3 = calculate_grad_net.run_grad_net(\n",
    "    gen_nominal,\n",
    "    [gen_sys_1, gen_sys_2, gen_sys_3, gen_sys_4],\n",
    "    variables=[\"true_energy\", \"reco_energy\"],\n",
    "    param_names=[\"mu\"],\n",
    "    verbose=1,\n",
    "    epochs=20,\n",
    "    shuffle=True,\n",
    "    activation=\"relu\",\n",
    "    hidden_layer_sizes=(100, 100),\n",
    "    poly_order=3,\n",
    "    learning_rate=1e-3\n",
    ")"
   ]
  },
  {
   "cell_type": "code",
   "execution_count": 173,
   "id": "7c1400b5",
   "metadata": {},
   "outputs": [
    {
     "data": {
      "text/html": [
       "<div>\n",
       "<style scoped>\n",
       "    .dataframe tbody tr th:only-of-type {\n",
       "        vertical-align: middle;\n",
       "    }\n",
       "\n",
       "    .dataframe tbody tr th {\n",
       "        vertical-align: top;\n",
       "    }\n",
       "\n",
       "    .dataframe thead th {\n",
       "        text-align: right;\n",
       "    }\n",
       "</style>\n",
       "<table border=\"1\" class=\"dataframe\">\n",
       "  <thead>\n",
       "    <tr style=\"text-align: right;\">\n",
       "      <th></th>\n",
       "      <th>true_energy</th>\n",
       "      <th>true_cos(zen)</th>\n",
       "      <th>weights_pre_detector</th>\n",
       "      <th>reco_energy</th>\n",
       "      <th>weights</th>\n",
       "      <th>set</th>\n",
       "      <th>prob_nominal</th>\n",
       "      <th>prob_sys_01</th>\n",
       "      <th>prob_sys_02</th>\n",
       "      <th>prob_sys_03</th>\n",
       "      <th>prob_sys_04</th>\n",
       "      <th>grad__mu</th>\n",
       "      <th>grad__mu__mu</th>\n",
       "      <th>grad__mu__mu__mu</th>\n",
       "    </tr>\n",
       "  </thead>\n",
       "  <tbody>\n",
       "    <tr>\n",
       "      <th>0</th>\n",
       "      <td>30.012000</td>\n",
       "      <td>-1.0</td>\n",
       "      <td>0.062063</td>\n",
       "      <td>22.077279</td>\n",
       "      <td>0.062063</td>\n",
       "      <td>nominal</td>\n",
       "      <td>0.099015</td>\n",
       "      <td>0.000357</td>\n",
       "      <td>0.516897</td>\n",
       "      <td>0.374026</td>\n",
       "      <td>0.009706</td>\n",
       "      <td>-36.555798</td>\n",
       "      <td>-198.686356</td>\n",
       "      <td>16.141947</td>\n",
       "    </tr>\n",
       "    <tr>\n",
       "      <th>1</th>\n",
       "      <td>12.509443</td>\n",
       "      <td>-1.0</td>\n",
       "      <td>0.988422</td>\n",
       "      <td>11.000129</td>\n",
       "      <td>0.988422</td>\n",
       "      <td>nominal</td>\n",
       "      <td>0.249349</td>\n",
       "      <td>0.004569</td>\n",
       "      <td>0.266931</td>\n",
       "      <td>0.424313</td>\n",
       "      <td>0.054838</td>\n",
       "      <td>-20.501696</td>\n",
       "      <td>-196.570969</td>\n",
       "      <td>16.323122</td>\n",
       "    </tr>\n",
       "    <tr>\n",
       "      <th>2</th>\n",
       "      <td>4.223824</td>\n",
       "      <td>-1.0</td>\n",
       "      <td>0.960612</td>\n",
       "      <td>4.648659</td>\n",
       "      <td>0.960612</td>\n",
       "      <td>nominal</td>\n",
       "      <td>0.183308</td>\n",
       "      <td>0.375562</td>\n",
       "      <td>0.002721</td>\n",
       "      <td>0.034763</td>\n",
       "      <td>0.403646</td>\n",
       "      <td>24.480600</td>\n",
       "      <td>-174.645950</td>\n",
       "      <td>15.657542</td>\n",
       "    </tr>\n",
       "    <tr>\n",
       "      <th>3</th>\n",
       "      <td>80.468674</td>\n",
       "      <td>-1.0</td>\n",
       "      <td>0.769647</td>\n",
       "      <td>70.787222</td>\n",
       "      <td>0.769647</td>\n",
       "      <td>nominal</td>\n",
       "      <td>0.340177</td>\n",
       "      <td>0.013144</td>\n",
       "      <td>0.154293</td>\n",
       "      <td>0.382234</td>\n",
       "      <td>0.110153</td>\n",
       "      <td>-12.484017</td>\n",
       "      <td>-202.205765</td>\n",
       "      <td>16.954826</td>\n",
       "    </tr>\n",
       "    <tr>\n",
       "      <th>4</th>\n",
       "      <td>89.158501</td>\n",
       "      <td>-1.0</td>\n",
       "      <td>0.809329</td>\n",
       "      <td>67.934656</td>\n",
       "      <td>0.809329</td>\n",
       "      <td>nominal</td>\n",
       "      <td>0.201661</td>\n",
       "      <td>0.002130</td>\n",
       "      <td>0.330614</td>\n",
       "      <td>0.431396</td>\n",
       "      <td>0.034198</td>\n",
       "      <td>-25.390305</td>\n",
       "      <td>-202.794708</td>\n",
       "      <td>16.720592</td>\n",
       "    </tr>\n",
       "    <tr>\n",
       "      <th>...</th>\n",
       "      <td>...</td>\n",
       "      <td>...</td>\n",
       "      <td>...</td>\n",
       "      <td>...</td>\n",
       "      <td>...</td>\n",
       "      <td>...</td>\n",
       "      <td>...</td>\n",
       "      <td>...</td>\n",
       "      <td>...</td>\n",
       "      <td>...</td>\n",
       "      <td>...</td>\n",
       "      <td>...</td>\n",
       "      <td>...</td>\n",
       "      <td>...</td>\n",
       "    </tr>\n",
       "    <tr>\n",
       "      <th>99995</th>\n",
       "      <td>139.128666</td>\n",
       "      <td>-1.0</td>\n",
       "      <td>0.918399</td>\n",
       "      <td>117.615852</td>\n",
       "      <td>0.918399</td>\n",
       "      <td>nominal</td>\n",
       "      <td>0.325981</td>\n",
       "      <td>0.009523</td>\n",
       "      <td>0.170738</td>\n",
       "      <td>0.400423</td>\n",
       "      <td>0.093335</td>\n",
       "      <td>-14.606964</td>\n",
       "      <td>-208.992004</td>\n",
       "      <td>17.485094</td>\n",
       "    </tr>\n",
       "    <tr>\n",
       "      <th>99996</th>\n",
       "      <td>329.298718</td>\n",
       "      <td>-1.0</td>\n",
       "      <td>0.985088</td>\n",
       "      <td>441.580076</td>\n",
       "      <td>0.985088</td>\n",
       "      <td>nominal</td>\n",
       "      <td>0.273138</td>\n",
       "      <td>0.228891</td>\n",
       "      <td>0.003264</td>\n",
       "      <td>0.053491</td>\n",
       "      <td>0.441217</td>\n",
       "      <td>21.050116</td>\n",
       "      <td>-230.181747</td>\n",
       "      <td>20.074272</td>\n",
       "    </tr>\n",
       "    <tr>\n",
       "      <th>99997</th>\n",
       "      <td>21.282419</td>\n",
       "      <td>-1.0</td>\n",
       "      <td>0.126044</td>\n",
       "      <td>21.576838</td>\n",
       "      <td>0.126044</td>\n",
       "      <td>nominal</td>\n",
       "      <td>0.400892</td>\n",
       "      <td>0.064603</td>\n",
       "      <td>0.046055</td>\n",
       "      <td>0.225161</td>\n",
       "      <td>0.263288</td>\n",
       "      <td>1.521721</td>\n",
       "      <td>-199.463547</td>\n",
       "      <td>17.039865</td>\n",
       "    </tr>\n",
       "    <tr>\n",
       "      <th>99998</th>\n",
       "      <td>80.893370</td>\n",
       "      <td>-1.0</td>\n",
       "      <td>0.771852</td>\n",
       "      <td>71.962719</td>\n",
       "      <td>0.771852</td>\n",
       "      <td>nominal</td>\n",
       "      <td>0.349554</td>\n",
       "      <td>0.014932</td>\n",
       "      <td>0.143162</td>\n",
       "      <td>0.373313</td>\n",
       "      <td>0.119039</td>\n",
       "      <td>-11.472143</td>\n",
       "      <td>-202.290985</td>\n",
       "      <td>16.984230</td>\n",
       "    </tr>\n",
       "    <tr>\n",
       "      <th>99999</th>\n",
       "      <td>9.301123</td>\n",
       "      <td>-1.0</td>\n",
       "      <td>0.126788</td>\n",
       "      <td>10.565125</td>\n",
       "      <td>0.126788</td>\n",
       "      <td>nominal</td>\n",
       "      <td>0.226772</td>\n",
       "      <td>0.301309</td>\n",
       "      <td>0.003487</td>\n",
       "      <td>0.046027</td>\n",
       "      <td>0.422405</td>\n",
       "      <td>22.124512</td>\n",
       "      <td>-194.537521</td>\n",
       "      <td>17.116617</td>\n",
       "    </tr>\n",
       "  </tbody>\n",
       "</table>\n",
       "<p>100000 rows × 14 columns</p>\n",
       "</div>"
      ],
      "text/plain": [
       "       true_energy  true_cos(zen)  weights_pre_detector  reco_energy  \\\n",
       "0        30.012000           -1.0              0.062063    22.077279   \n",
       "1        12.509443           -1.0              0.988422    11.000129   \n",
       "2         4.223824           -1.0              0.960612     4.648659   \n",
       "3        80.468674           -1.0              0.769647    70.787222   \n",
       "4        89.158501           -1.0              0.809329    67.934656   \n",
       "...            ...            ...                   ...          ...   \n",
       "99995   139.128666           -1.0              0.918399   117.615852   \n",
       "99996   329.298718           -1.0              0.985088   441.580076   \n",
       "99997    21.282419           -1.0              0.126044    21.576838   \n",
       "99998    80.893370           -1.0              0.771852    71.962719   \n",
       "99999     9.301123           -1.0              0.126788    10.565125   \n",
       "\n",
       "        weights      set  prob_nominal  prob_sys_01  prob_sys_02  prob_sys_03  \\\n",
       "0      0.062063  nominal      0.099015     0.000357     0.516897     0.374026   \n",
       "1      0.988422  nominal      0.249349     0.004569     0.266931     0.424313   \n",
       "2      0.960612  nominal      0.183308     0.375562     0.002721     0.034763   \n",
       "3      0.769647  nominal      0.340177     0.013144     0.154293     0.382234   \n",
       "4      0.809329  nominal      0.201661     0.002130     0.330614     0.431396   \n",
       "...         ...      ...           ...          ...          ...          ...   \n",
       "99995  0.918399  nominal      0.325981     0.009523     0.170738     0.400423   \n",
       "99996  0.985088  nominal      0.273138     0.228891     0.003264     0.053491   \n",
       "99997  0.126044  nominal      0.400892     0.064603     0.046055     0.225161   \n",
       "99998  0.771852  nominal      0.349554     0.014932     0.143162     0.373313   \n",
       "99999  0.126788  nominal      0.226772     0.301309     0.003487     0.046027   \n",
       "\n",
       "       prob_sys_04   grad__mu  grad__mu__mu  grad__mu__mu__mu  \n",
       "0         0.009706 -36.555798   -198.686356         16.141947  \n",
       "1         0.054838 -20.501696   -196.570969         16.323122  \n",
       "2         0.403646  24.480600   -174.645950         15.657542  \n",
       "3         0.110153 -12.484017   -202.205765         16.954826  \n",
       "4         0.034198 -25.390305   -202.794708         16.720592  \n",
       "...            ...        ...           ...               ...  \n",
       "99995     0.093335 -14.606964   -208.992004         17.485094  \n",
       "99996     0.441217  21.050116   -230.181747         20.074272  \n",
       "99997     0.263288   1.521721   -199.463547         17.039865  \n",
       "99998     0.119039 -11.472143   -202.290985         16.984230  \n",
       "99999     0.422405  22.124512   -194.537521         17.116617  \n",
       "\n",
       "[100000 rows x 14 columns]"
      ]
     },
     "execution_count": 173,
     "metadata": {},
     "output_type": "execute_result"
    }
   ],
   "source": [
    "df_grad_net_poly3"
   ]
  },
  {
   "cell_type": "code",
   "execution_count": 122,
   "id": "daa8afd7",
   "metadata": {},
   "outputs": [],
   "source": [
    "# generate a histogram by weighting the nominal events to any detector response using the gradients in the dataframe\n",
    "def generate_histogram_at_response(df, nominal_response, response, bin_edges, use_systs=None, variable=\"reco_energy\"):\n",
    "    \"\"\"Generate a histogram at a given detector response.\n",
    "\n",
    "    Parameters\n",
    "    ----------\n",
    "    df : pandas.DataFrame\n",
    "        DataFrame containing the events and gradients\n",
    "    nominal_response : toy_mc.generator.Response\n",
    "        Nominal detector response\n",
    "    response : toy_mc.generator.Response\n",
    "        Detector response to weight the events to\n",
    "    bin_edges : np.ndarray\n",
    "        Bin edges for the histogram\n",
    "    use_systs : list of str, optional\n",
    "        List of systematic names to use. If None, all systematics are used.\n",
    "    variable : str, optional\n",
    "        Variable to use for the histogram. Default is \"reco_energy\".\n",
    "    \"\"\"\n",
    "    if use_systs is None:\n",
    "        grad_names = df.columns[df.columns.str.startswith(\"grad__\")]\n",
    "    else:\n",
    "        grad_names = [\"grad_{}\".format(syst) for syst in use_systs]\n",
    "    delta_p = np.ones(len(grad_names))\n",
    "    for i, grad_name in enumerate(grad_names):\n",
    "        for param in grad_name.split(\"grad\")[-1].split(\"__\")[1:]:\n",
    "            delta_p[i] *= getattr(response, param) - getattr(nominal_response, param)\n",
    "    weights = df[\"weights\"] * np.exp(np.dot(df[grad_names], delta_p))\n",
    "    hist = Histogram(bin_edges)\n",
    "    hist.fill(df[variable], weights)\n",
    "    return hist"
   ]
  },
  {
   "cell_type": "code",
   "execution_count": 123,
   "id": "066b5bbb",
   "metadata": {},
   "outputs": [],
   "source": [
    "def chi_square(hist1, hist2):\n",
    "    \"\"\"Calculate the chi square between two Histogram objects.\n",
    "    This takes errors into account.\n",
    "    \"\"\"\n",
    "    # get values\n",
    "    values1 = hist1.hist\n",
    "    values2 = hist2.hist\n",
    "    # get errors\n",
    "    errors1 = hist1.hist_unc\n",
    "    errors2 = hist2.hist_unc\n",
    "    # calculate chi square\n",
    "    chi_square = np.sum((values1 - values2)**2 / (errors1**2 + errors2**2))\n",
    "    return chi_square"
   ]
  },
  {
   "cell_type": "code",
   "execution_count": 174,
   "id": "5e6efaf1",
   "metadata": {},
   "outputs": [
    {
     "name": "stdout",
     "output_type": "stream",
     "text": [
      "62.58416123690556\n"
     ]
    },
    {
     "data": {
      "image/png": "[encoded data removed]",
      "text/plain": [
       "<Figure size 640x480 with 1 Axes>"
      ]
     },
     "metadata": {},
     "output_type": "display_data"
    }
   ],
   "source": [
    "# generate a histogram at the response of sys set 01 using gradients\n",
    "\n",
    "hist_at_sys_01 = generate_histogram_at_response(\n",
    "    df_grad_net_poly3,\n",
    "    default_response,\n",
    "    gen_sys_1.detector_response,\n",
    "    bin_edges\n",
    ")\n",
    "sys_hist = gen_sys_1.get_histogram(bin_edges)\n",
    "nominal_hist = gen_nominal.get_histogram(bin_edges)\n",
    "\n",
    "print(chi_square(hist_at_sys_01, sys_hist))\n",
    "\n",
    "# plot the histograms\n",
    "fig, ax = plt.subplots()\n",
    "plot_histogram(hist_at_sys_01, ax=ax, label=\"weighted to sys set 1\")\n",
    "plot_histogram(sys_hist, ax=ax, label=\"sys set 1\")\n",
    "plot_histogram(nominal_hist, ax=ax, label=\"nominal\")\n",
    "plt.xlabel(\"reco energy\")\n",
    "plt.semilogx()\n",
    "plt.legend()\n",
    "plt.show()"
   ]
  },
  {
   "cell_type": "code",
   "execution_count": 175,
   "id": "eb597f7b",
   "metadata": {},
   "outputs": [
    {
     "data": {
      "image/png": "[encoded data removed]",
      "text/plain": [
       "<Figure size 640x480 with 1 Axes>"
      ]
     },
     "metadata": {},
     "output_type": "display_data"
    }
   ],
   "source": [
    "hist_at_sys_01 = generate_histogram_at_response(\n",
    "    df_grad_net_poly3, default_response, gen_sys_1.detector_response, bin_edges, variable=\"true_energy\"\n",
    ")\n",
    "sys_hist = gen_sys_1.get_histogram(bin_edges, variable=\"true_energy\")\n",
    "nominal_hist = gen_nominal.get_histogram(bin_edges, variable=\"true_energy\")\n",
    "\n",
    "# plot the histograms\n",
    "fig, ax = plt.subplots()\n",
    "plot_histogram(hist_at_sys_01, ax=ax, label=\"weighted to sys set 01\")\n",
    "plot_histogram(sys_hist, ax=ax, label=\"sys set 01\")\n",
    "plot_histogram(nominal_hist, ax=ax, label=\"nominal\")\n",
    "plt.xlabel(\"true energy\")\n",
    "plt.semilogx()\n",
    "plt.legend()\n",
    "plt.show()"
   ]
  },
  {
   "cell_type": "code",
   "execution_count": 176,
   "id": "ad33e6c4",
   "metadata": {},
   "outputs": [],
   "source": [
    "def chi_square_at_response(df, nominal_response, response, bin_edges, use_systs=None, variable=\"reco_energy\"):\n",
    "    \"\"\"Calculate the chi square between the nominal and a given detector response.\n",
    "    \"\"\"\n",
    "    # generate new independent dataset at response with high statistics using new Generator\n",
    "    gen_response = generator.Generator(\n",
    "        n_events=int(1e6), response=response, pars=default_pars, rng_seed=42\n",
    "    )\n",
    "    # divide by 10 because we have generated 10 times more events\n",
    "    hist_nominal = gen_response.get_histogram(bin_edges) / 10\n",
    "\n",
    "    hist_response = generate_histogram_at_response(\n",
    "        df, nominal_response, response, bin_edges, use_systs=use_systs, variable=variable\n",
    "    )\n",
    "    return chi_square(hist_nominal, hist_response)"
   ]
  },
  {
   "cell_type": "code",
   "execution_count": 177,
   "id": "21ea9052",
   "metadata": {},
   "outputs": [
    {
     "name": "stdout",
     "output_type": "stream",
     "text": [
      "Generating events with log10(E / GeV) from a Gaussian with mean 1.3 and wdith 0.5 and cos(zenith) values uniformly sampled between -1.0 and -1.0.\n"
     ]
    },
    {
     "data": {
      "text/plain": [
       "71.9055613098497"
      ]
     },
     "execution_count": 177,
     "metadata": {},
     "output_type": "execute_result"
    }
   ],
   "source": [
    "test_response = generator.Response(1.1 * default_response.mu, default_response.sigma)\n",
    "chi_square_at_response(df_grad_net_poly3, default_response, test_response, bin_edges)"
   ]
  },
  {
   "cell_type": "code",
   "execution_count": 178,
   "id": "6eeae73a",
   "metadata": {},
   "outputs": [
    {
     "name": "stdout",
     "output_type": "stream",
     "text": [
      "Generating events with log10(E / GeV) from a Gaussian with mean 1.3 and wdith 0.5 and cos(zenith) values uniformly sampled between -1.0 and -1.0.\n",
      "Generating events with log10(E / GeV) from a Gaussian with mean 1.3 and wdith 0.5 and cos(zenith) values uniformly sampled between -1.0 and -1.0.\n",
      "Generating events with log10(E / GeV) from a Gaussian with mean 1.3 and wdith 0.5 and cos(zenith) values uniformly sampled between -1.0 and -1.0.\n",
      "Generating events with log10(E / GeV) from a Gaussian with mean 1.3 and wdith 0.5 and cos(zenith) values uniformly sampled between -1.0 and -1.0.\n",
      "Generating events with log10(E / GeV) from a Gaussian with mean 1.3 and wdith 0.5 and cos(zenith) values uniformly sampled between -1.0 and -1.0.\n",
      "Generating events with log10(E / GeV) from a Gaussian with mean 1.3 and wdith 0.5 and cos(zenith) values uniformly sampled between -1.0 and -1.0.\n",
      "Generating events with log10(E / GeV) from a Gaussian with mean 1.3 and wdith 0.5 and cos(zenith) values uniformly sampled between -1.0 and -1.0.\n",
      "Generating events with log10(E / GeV) from a Gaussian with mean 1.3 and wdith 0.5 and cos(zenith) values uniformly sampled between -1.0 and -1.0.\n",
      "Generating events with log10(E / GeV) from a Gaussian with mean 1.3 and wdith 0.5 and cos(zenith) values uniformly sampled between -1.0 and -1.0.\n",
      "Generating events with log10(E / GeV) from a Gaussian with mean 1.3 and wdith 0.5 and cos(zenith) values uniformly sampled between -1.0 and -1.0.\n",
      "Generating events with log10(E / GeV) from a Gaussian with mean 1.3 and wdith 0.5 and cos(zenith) values uniformly sampled between -1.0 and -1.0.\n",
      "Generating events with log10(E / GeV) from a Gaussian with mean 1.3 and wdith 0.5 and cos(zenith) values uniformly sampled between -1.0 and -1.0.\n",
      "Generating events with log10(E / GeV) from a Gaussian with mean 1.3 and wdith 0.5 and cos(zenith) values uniformly sampled between -1.0 and -1.0.\n",
      "Generating events with log10(E / GeV) from a Gaussian with mean 1.3 and wdith 0.5 and cos(zenith) values uniformly sampled between -1.0 and -1.0.\n",
      "Generating events with log10(E / GeV) from a Gaussian with mean 1.3 and wdith 0.5 and cos(zenith) values uniformly sampled between -1.0 and -1.0.\n",
      "Generating events with log10(E / GeV) from a Gaussian with mean 1.3 and wdith 0.5 and cos(zenith) values uniformly sampled between -1.0 and -1.0.\n",
      "Generating events with log10(E / GeV) from a Gaussian with mean 1.3 and wdith 0.5 and cos(zenith) values uniformly sampled between -1.0 and -1.0.\n",
      "Generating events with log10(E / GeV) from a Gaussian with mean 1.3 and wdith 0.5 and cos(zenith) values uniformly sampled between -1.0 and -1.0.\n",
      "Generating events with log10(E / GeV) from a Gaussian with mean 1.3 and wdith 0.5 and cos(zenith) values uniformly sampled between -1.0 and -1.0.\n",
      "Generating events with log10(E / GeV) from a Gaussian with mean 1.3 and wdith 0.5 and cos(zenith) values uniformly sampled between -1.0 and -1.0.\n",
      "Generating events with log10(E / GeV) from a Gaussian with mean 1.3 and wdith 0.5 and cos(zenith) values uniformly sampled between -1.0 and -1.0.\n",
      "Generating events with log10(E / GeV) from a Gaussian with mean 1.3 and wdith 0.5 and cos(zenith) values uniformly sampled between -1.0 and -1.0.\n"
     ]
    }
   ],
   "source": [
    "chi2_grad_net = []\n",
    "chi2_knn_grads = []\n",
    "for mu in np.linspace(0.8, 1.2, 11):\n",
    "    test_response = generator.Response(mu, default_response.sigma)\n",
    "    chi2_grad_net.append(chi_square_at_response(df_grad_net, default_response, test_response, bin_edges))\n",
    "    chi2_knn_grads.append(chi_square_at_response(df_grad_net_poly3, default_response, test_response, bin_edges))"
   ]
  },
  {
   "cell_type": "code",
   "execution_count": 179,
   "id": "8d793cbc",
   "metadata": {},
   "outputs": [
    {
     "data": {
      "text/plain": [
       "[]"
      ]
     },
     "execution_count": 179,
     "metadata": {},
     "output_type": "execute_result"
    },
    {
     "data": {
      "image/png": "[encoded data removed]",
      "text/plain": [
       "<Figure size 640x480 with 1 Axes>"
      ]
     },
     "metadata": {},
     "output_type": "display_data"
    }
   ],
   "source": [
    "plt.plot(np.linspace(0.8, 1.2, 11), chi2_grad_net, label=\"grad net\")\n",
    "plt.plot(np.linspace(0.8, 1.2, 11), chi2_knn_grads, label=\"knn grads\")\n",
    "plt.xlabel(\"mu\")\n",
    "plt.ylabel(\"chi2\")\n",
    "plt.legend()\n",
    "plt.semilogy()"
   ]
  },
  {
   "cell_type": "code",
   "execution_count": 181,
   "id": "58d6b191",
   "metadata": {},
   "outputs": [
    {
     "data": {
      "image/png": "[encoded data removed]",
      "text/plain": [
       "<Figure size 640x480 with 2 Axes>"
      ]
     },
     "metadata": {},
     "output_type": "display_data"
    }
   ],
   "source": [
    "# sweep response parameter mu around nominal value and plot the histograms\n",
    "mus = np.linspace(0.95, 1.05, 100)\n",
    "hists = []\n",
    "for mu in mus:\n",
    "    response = generator.Response(mu * default_response.mu, default_response.sigma)\n",
    "    hists.append(generate_histogram_at_response(df_grad_net_poly3, default_response, response, bin_edges))\n",
    "\n",
    "fig, ax = plt.subplots()\n",
    "# make list of colors from a colormap\n",
    "colors = plt.cm.viridis(np.linspace(0, 1, len(mus)))\n",
    "for hist, mu, color in zip(hists, mus, colors):\n",
    "    plot_histogram(hist, ax=ax, show_errorband=False, label=\"mu = {}\".format(mu), color=color)\n",
    "# make colorbar\n",
    "sm = plt.cm.ScalarMappable(cmap=plt.cm.viridis, norm=plt.Normalize(vmin=mus.min(), vmax=mus.max()))\n",
    "sm._A = []\n",
    "cbar = plt.colorbar(sm, ax=ax)\n",
    "cbar.set_label(\"mu\")\n",
    "plt.xlabel(\"reco energy\")\n",
    "plt.ylabel(\"counts\")\n",
    "plt.semilogx()\n",
    "plt.show()\n"
   ]
  },
  {
   "cell_type": "code",
   "execution_count": null,
   "id": "0fbf10c5",
   "metadata": {},
   "outputs": [],
   "source": []
  }
 ],
 "metadata": {
  "kernelspec": {
   "display_name": "venv",
   "language": "python",
   "name": "python3"
  },
  "language_info": {
   "codemirror_mode": {
    "name": "ipython",
    "version": 3
   },
   "file_extension": ".py",
   "mimetype": "text/x-python",
   "name": "python",
   "nbconvert_exporter": "python",
   "pygments_lexer": "ipython3",
   "version": "3.10.10"
  },
  "vscode": {
   "interpreter": {
    "hash": "66ea1c9d025acb68a54b6c7c519f417c7044a190d03292453d0fe121ced166f8"
   }
  }
 },
 "nbformat": 4,
 "nbformat_minor": 5
}
