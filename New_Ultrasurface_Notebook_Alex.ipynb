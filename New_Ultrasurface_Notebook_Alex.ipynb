{
 "cells": [
  {
   "cell_type": "code",
   "execution_count": 1,
   "id": "ea3bb7a3",
   "metadata": {},
   "outputs": [],
   "source": [
    "import os\n",
    "\n",
    "import matplotlib.pyplot as plt\n",
    "import numpy as np\n",
    "import pandas as pd\n",
    "import tqdm\n",
    "\n",
    "#plt.style.use(\"ultrasurfaces_plotstyle.mplstyle\")\n",
    "\n",
    "from toy_mc import generator\n",
    "from importlib import reload"
   ]
  },
  {
   "cell_type": "code",
   "execution_count": 2,
   "id": "24aab93a",
   "metadata": {
    "tags": []
   },
   "outputs": [],
   "source": [
    "delta_msq_31 = 2.515e-3\n",
    "sinsq_theta_23 = 0.565\n",
    "# convert this to sin**2(2 \\theta)\n",
    "theta_23 = np.arcsin(np.sqrt(sinsq_theta_23))\n",
    "sinsq_2theta_23 = np.sin(2 * theta_23)**2\n",
    "default_pars = generator.OscPars(delta_msq_31, sinsq_2theta_23)\n",
    "\n",
    "default_response = generator.Response(1., 0.05)\n",
    "\n",
    "bin_edges = np.logspace(1., 2., 26)"
   ]
  },
  {
   "cell_type": "code",
   "execution_count": 3,
   "id": "0aba8bba",
   "metadata": {},
   "outputs": [
    {
     "data": {
      "text/plain": [
       "<module 'toy_mc.generator' from '/Users/trettin/Documents/ultrasurfaces/toy_mc/generator.py'>"
      ]
     },
     "execution_count": 3,
     "metadata": {},
     "output_type": "execute_result"
    }
   ],
   "source": [
    "reload(generator)"
   ]
  },
  {
   "cell_type": "code",
   "execution_count": 4,
   "id": "865d5301",
   "metadata": {},
   "outputs": [
    {
     "name": "stdout",
     "output_type": "stream",
     "text": [
      "Generating events with log10(E / GeV) from a Gaussian with mean 1.3 and wdith 0.5 and cos(zenith) values uniformly sampled between -1.0 and -1.0.\n"
     ]
    }
   ],
   "source": [
    "gen = generator.Generator(int(1e5), default_response, default_pars)\n",
    "h0 = gen.get_histogram(bin_edges)"
   ]
  },
  {
   "cell_type": "code",
   "execution_count": 5,
   "id": "fd40a4a6",
   "metadata": {},
   "outputs": [
    {
     "data": {
      "text/plain": [
       "Response(mu=1.0, sigma=0.05)"
      ]
     },
     "execution_count": 5,
     "metadata": {},
     "output_type": "execute_result"
    }
   ],
   "source": [
    "gen.detector_response"
   ]
  },
  {
   "cell_type": "code",
   "execution_count": 6,
   "id": "78564409",
   "metadata": {},
   "outputs": [
    {
     "data": {
      "text/plain": [
       "array([33.83869725, 43.21608821, 47.94658536, 46.53581866, 42.65531989,\n",
       "       34.85723642, 26.83777408, 18.51382382, 12.50109655,  8.107837  ,\n",
       "        6.32777148,  6.68701893,  9.17203256, 11.83692785, 14.7768683 ,\n",
       "       18.12772046, 20.39756704, 23.32489795, 25.25982064, 26.85072734,\n",
       "       27.96047924, 28.06707067, 29.01351913, 29.90337714, 28.75964775])"
      ]
     },
     "execution_count": 6,
     "metadata": {},
     "output_type": "execute_result"
    }
   ],
   "source": [
    "h0.hist_unc"
   ]
  },
  {
   "cell_type": "code",
   "execution_count": 7,
   "id": "7b08df05",
   "metadata": {},
   "outputs": [
    {
     "data": {
      "text/plain": [
       "array([1562.1205801 , 2213.62410442, 2574.05391317, 2474.58569693,\n",
       "       2259.15193936, 1742.86998376, 1281.80004344,  786.5287189 ,\n",
       "        482.8514794 ,  306.15962781,  244.16233425,  260.54504611,\n",
       "        379.15205689,  505.57245233,  663.32133851,  834.34145683,\n",
       "        913.60118152, 1070.09348456, 1129.03847191, 1169.88997286,\n",
       "       1175.90470307, 1106.87595238, 1124.52875187, 1140.93862766,\n",
       "       1014.83899598])"
      ]
     },
     "execution_count": 7,
     "metadata": {},
     "output_type": "execute_result"
    }
   ],
   "source": [
    "h0.hist"
   ]
  },
  {
   "cell_type": "code",
   "execution_count": 8,
   "id": "71ff0791",
   "metadata": {},
   "outputs": [],
   "source": [
    "from toy_mc.histogram import plot_histogram"
   ]
  },
  {
   "cell_type": "code",
   "execution_count": 9,
   "id": "6b472c1e",
   "metadata": {},
   "outputs": [
    {
     "data": {
      "image/png": "[encoded data removed]",
      "text/plain": [
       "<Figure size 640x480 with 1 Axes>"
      ]
     },
     "metadata": {},
     "output_type": "display_data"
    }
   ],
   "source": [
    "fig, ax = plt.subplots()\n",
    "plot_histogram(h0, ax=ax)\n",
    "plot_histogram(h0 / 2, ax=ax)"
   ]
  },
  {
   "cell_type": "code",
   "execution_count": 10,
   "id": "77cc38b2",
   "metadata": {},
   "outputs": [
    {
     "data": {
      "text/html": [
       "<div>\n",
       "<style scoped>\n",
       "    .dataframe tbody tr th:only-of-type {\n",
       "        vertical-align: middle;\n",
       "    }\n",
       "\n",
       "    .dataframe tbody tr th {\n",
       "        vertical-align: top;\n",
       "    }\n",
       "\n",
       "    .dataframe thead th {\n",
       "        text-align: right;\n",
       "    }\n",
       "</style>\n",
       "<table border=\"1\" class=\"dataframe\">\n",
       "  <thead>\n",
       "    <tr style=\"text-align: right;\">\n",
       "      <th></th>\n",
       "      <th>true_energy</th>\n",
       "      <th>true_cos(zen)</th>\n",
       "      <th>weights_pre_detector</th>\n",
       "      <th>reco_energy</th>\n",
       "      <th>weights</th>\n",
       "    </tr>\n",
       "  </thead>\n",
       "  <tbody>\n",
       "    <tr>\n",
       "      <th>0</th>\n",
       "      <td>65.166192</td>\n",
       "      <td>-1.0</td>\n",
       "      <td>0.664435</td>\n",
       "      <td>82.715613</td>\n",
       "      <td>0.664435</td>\n",
       "    </tr>\n",
       "    <tr>\n",
       "      <th>1</th>\n",
       "      <td>19.114741</td>\n",
       "      <td>-1.0</td>\n",
       "      <td>0.291064</td>\n",
       "      <td>20.530871</td>\n",
       "      <td>0.291064</td>\n",
       "    </tr>\n",
       "    <tr>\n",
       "      <th>2</th>\n",
       "      <td>11.749420</td>\n",
       "      <td>-1.0</td>\n",
       "      <td>0.903314</td>\n",
       "      <td>10.915170</td>\n",
       "      <td>0.903314</td>\n",
       "    </tr>\n",
       "    <tr>\n",
       "      <th>3</th>\n",
       "      <td>6.402365</td>\n",
       "      <td>-1.0</td>\n",
       "      <td>0.995519</td>\n",
       "      <td>6.567080</td>\n",
       "      <td>0.995519</td>\n",
       "    </tr>\n",
       "    <tr>\n",
       "      <th>4</th>\n",
       "      <td>8.857386</td>\n",
       "      <td>-1.0</td>\n",
       "      <td>0.031434</td>\n",
       "      <td>9.307020</td>\n",
       "      <td>0.031434</td>\n",
       "    </tr>\n",
       "    <tr>\n",
       "      <th>...</th>\n",
       "      <td>...</td>\n",
       "      <td>...</td>\n",
       "      <td>...</td>\n",
       "      <td>...</td>\n",
       "      <td>...</td>\n",
       "    </tr>\n",
       "    <tr>\n",
       "      <th>99995</th>\n",
       "      <td>22.585034</td>\n",
       "      <td>-1.0</td>\n",
       "      <td>0.067778</td>\n",
       "      <td>26.869382</td>\n",
       "      <td>0.067778</td>\n",
       "    </tr>\n",
       "    <tr>\n",
       "      <th>99996</th>\n",
       "      <td>34.812541</td>\n",
       "      <td>-1.0</td>\n",
       "      <td>0.167987</td>\n",
       "      <td>52.077941</td>\n",
       "      <td>0.167987</td>\n",
       "    </tr>\n",
       "    <tr>\n",
       "      <th>99997</th>\n",
       "      <td>17.278165</td>\n",
       "      <td>-1.0</td>\n",
       "      <td>0.505553</td>\n",
       "      <td>15.016200</td>\n",
       "      <td>0.505553</td>\n",
       "    </tr>\n",
       "    <tr>\n",
       "      <th>99998</th>\n",
       "      <td>6.504320</td>\n",
       "      <td>-1.0</td>\n",
       "      <td>0.998995</td>\n",
       "      <td>6.826396</td>\n",
       "      <td>0.998995</td>\n",
       "    </tr>\n",
       "    <tr>\n",
       "      <th>99999</th>\n",
       "      <td>5.701264</td>\n",
       "      <td>-1.0</td>\n",
       "      <td>0.446548</td>\n",
       "      <td>5.341753</td>\n",
       "      <td>0.446548</td>\n",
       "    </tr>\n",
       "  </tbody>\n",
       "</table>\n",
       "<p>100000 rows × 5 columns</p>\n",
       "</div>"
      ],
      "text/plain": [
       "       true_energy  true_cos(zen)  weights_pre_detector  reco_energy   weights\n",
       "0        65.166192           -1.0              0.664435    82.715613  0.664435\n",
       "1        19.114741           -1.0              0.291064    20.530871  0.291064\n",
       "2        11.749420           -1.0              0.903314    10.915170  0.903314\n",
       "3         6.402365           -1.0              0.995519     6.567080  0.995519\n",
       "4         8.857386           -1.0              0.031434     9.307020  0.031434\n",
       "...            ...            ...                   ...          ...       ...\n",
       "99995    22.585034           -1.0              0.067778    26.869382  0.067778\n",
       "99996    34.812541           -1.0              0.167987    52.077941  0.167987\n",
       "99997    17.278165           -1.0              0.505553    15.016200  0.505553\n",
       "99998     6.504320           -1.0              0.998995     6.826396  0.998995\n",
       "99999     5.701264           -1.0              0.446548     5.341753  0.446548\n",
       "\n",
       "[100000 rows x 5 columns]"
      ]
     },
     "execution_count": 10,
     "metadata": {},
     "output_type": "execute_result"
    }
   ],
   "source": [
    "gen.events"
   ]
  },
  {
   "cell_type": "code",
   "execution_count": 11,
   "id": "f3c756de",
   "metadata": {},
   "outputs": [
    {
     "name": "stdout",
     "output_type": "stream",
     "text": [
      "Generating events with log10(E / GeV) from a Gaussian with mean 1.3 and wdith 0.5 and cos(zenith) values uniformly sampled between -1.0 and -1.0.\n"
     ]
    }
   ],
   "source": [
    "gen_2 = generator.Generator(\n",
    "    int(1e5),\n",
    "    default_response,\n",
    "    generator.OscPars(1.2 * default_pars.delta_mqs, default_pars.sinsq_2theta),\n",
    ")\n",
    "h2 = gen_2.get_histogram(bin_edges)"
   ]
  },
  {
   "cell_type": "code",
   "execution_count": 12,
   "id": "6b9cd6a3",
   "metadata": {},
   "outputs": [
    {
     "name": "stdout",
     "output_type": "stream",
     "text": [
      "Generating events with log10(E / GeV) from a Gaussian with mean 1.3 and wdith 0.5 and cos(zenith) values uniformly sampled between -1.0 and -1.0.\n"
     ]
    }
   ],
   "source": [
    "gen_3 = generator.Generator(\n",
    "    int(1e5), generator.Response(1.2 * default_response.mu, default_response.sigma), default_pars\n",
    ")\n",
    "h3 = gen_3.get_histogram(bin_edges)"
   ]
  },
  {
   "cell_type": "code",
   "execution_count": 13,
   "id": "1e4f89a6",
   "metadata": {},
   "outputs": [
    {
     "data": {
      "text/plain": [
       "<matplotlib.legend.Legend at 0x16e6efbe0>"
      ]
     },
     "execution_count": 13,
     "metadata": {},
     "output_type": "execute_result"
    },
    {
     "data": {
      "image/png": "[encoded data removed]",
      "text/plain": [
       "<Figure size 640x480 with 1 Axes>"
      ]
     },
     "metadata": {},
     "output_type": "display_data"
    }
   ],
   "source": [
    "from toy_mc.histogram import plot_histogram\n",
    "\n",
    "fig, ax = plt.subplots()\n",
    "\n",
    "plot_histogram(h0, ax=ax, label=r'default histogram')\n",
    "\n",
    "plot_histogram(h2, ax=ax, label=r'1.2 x $\\Delta_m^2$ ')\n",
    "\n",
    "plot_histogram(h3, ax=ax, label=r'1.2 x $\\mu$')\n",
    "\n",
    "\n",
    "plt.xscale('log')\n",
    "plt.xlabel(r'$E_{\\rm reco}$ [GeV]')\n",
    "plt.ylabel(r'$N_{\\rm events}$')\n",
    "\n",
    "plt.legend()"
   ]
  },
  {
   "cell_type": "code",
   "execution_count": 14,
   "id": "a8bbac1b",
   "metadata": {},
   "outputs": [],
   "source": [
    "from sklearn import preprocessing\n",
    "from sklearn.compose import make_column_transformer"
   ]
  },
  {
   "cell_type": "code",
   "execution_count": 15,
   "id": "fd1ed4cb",
   "metadata": {},
   "outputs": [],
   "source": [
    "from surfaces import calculate_knn_probs as knn_probs"
   ]
  },
  {
   "cell_type": "code",
   "execution_count": 46,
   "id": "79ca6a6c",
   "metadata": {},
   "outputs": [
    {
     "name": "stdout",
     "output_type": "stream",
     "text": [
      "Generating events with log10(E / GeV) from a Gaussian with mean 1.3 and wdith 0.5 and cos(zenith) values uniformly sampled between -1.0 and -1.0.\n",
      "Generating events with log10(E / GeV) from a Gaussian with mean 1.3 and wdith 0.5 and cos(zenith) values uniformly sampled between -1.0 and -1.0.\n",
      "Generating events with log10(E / GeV) from a Gaussian with mean 1.3 and wdith 0.5 and cos(zenith) values uniformly sampled between -1.0 and -1.0.\n",
      "Generating events with log10(E / GeV) from a Gaussian with mean 1.3 and wdith 0.5 and cos(zenith) values uniformly sampled between -1.0 and -1.0.\n",
      "Generating events with log10(E / GeV) from a Gaussian with mean 1.3 and wdith 0.5 and cos(zenith) values uniformly sampled between -1.0 and -1.0.\n"
     ]
    }
   ],
   "source": [
    "reload(generator)\n",
    "gen_nominal = generator.Generator(\n",
    "    int(1e5), default_response, default_pars, name=\"nominal\"\n",
    ")\n",
    "# It looks like there is a breakdown point where, if the response is *too* different,\n",
    "# the whole thing doesn't work anymore.\n",
    "gen_sys_1 = generator.Generator(\n",
    "    int(1e5),\n",
    "    generator.Response(1.1 * default_response.mu, default_response.sigma),\n",
    "    default_pars,\n",
    "    name=\"sys_01\",\n",
    ")\n",
    "gen_sys_2 = generator.Generator(\n",
    "    int(1e5),\n",
    "    generator.Response(0.90 * default_response.mu, default_response.sigma),\n",
    "    default_pars,\n",
    "    name=\"sys_02\",\n",
    ")\n",
    "gen_sys_3 = generator.Generator(\n",
    "    int(1e5),\n",
    "    generator.Response(0.95 * default_response.mu, default_response.sigma),\n",
    "    default_pars,\n",
    "    name=\"sys_03\",\n",
    ")\n",
    "gen_sys_4 = generator.Generator(\n",
    "    int(1e5),\n",
    "    generator.Response(1.05 * default_response.mu, default_response.sigma),\n",
    "    default_pars,\n",
    "    name=\"sys_04\",\n",
    ")"
   ]
  },
  {
   "cell_type": "code",
   "execution_count": 47,
   "id": "5bdabeb0",
   "metadata": {},
   "outputs": [
    {
     "name": "stdout",
     "output_type": "stream",
     "text": [
      "Starting KNN evaluation on 10 chunks of data...\n"
     ]
    },
    {
     "name": "stderr",
     "output_type": "stream",
     "text": [
      "100%|██████████| 10/10 [00:23<00:00,  2.36s/it]\n"
     ]
    }
   ],
   "source": [
    "reload(knn_probs)\n",
    "df_with_probs = knn_probs.calculate_knn_probs(\n",
    "    gen_nominal,\n",
    "    [gen_sys_1, gen_sys_2, gen_sys_3, gen_sys_4],\n",
    "    variables=[\"true_energy\", \"reco_energy\"],\n",
    "    tilt_bias_correction=True,\n",
    "    neighbors_per_class=200\n",
    ")"
   ]
  },
  {
   "cell_type": "code",
   "execution_count": 48,
   "id": "33cd3331",
   "metadata": {},
   "outputs": [
    {
     "name": "stdout",
     "output_type": "stream",
     "text": [
      "Starting KNN evaluation on 10 chunks of data...\n"
     ]
    },
    {
     "name": "stderr",
     "output_type": "stream",
     "text": [
      "100%|██████████| 10/10 [00:13<00:00,  1.38s/it]\n"
     ]
    }
   ],
   "source": [
    "df_with_probs_no_tilt_corr = knn_probs.calculate_knn_probs(\n",
    "    gen_nominal,\n",
    "    [gen_sys_1, gen_sys_2, gen_sys_3, gen_sys_4],\n",
    "    variables=[\"true_energy\", \"reco_energy\"],\n",
    "    tilt_bias_correction=False,\n",
    "    neighbors_per_class=200\n",
    ")"
   ]
  },
  {
   "cell_type": "code",
   "execution_count": 49,
   "id": "8c787368",
   "metadata": {},
   "outputs": [
    {
     "data": {
      "text/html": [
       "<div>\n",
       "<style scoped>\n",
       "    .dataframe tbody tr th:only-of-type {\n",
       "        vertical-align: middle;\n",
       "    }\n",
       "\n",
       "    .dataframe tbody tr th {\n",
       "        vertical-align: top;\n",
       "    }\n",
       "\n",
       "    .dataframe thead th {\n",
       "        text-align: right;\n",
       "    }\n",
       "</style>\n",
       "<table border=\"1\" class=\"dataframe\">\n",
       "  <thead>\n",
       "    <tr style=\"text-align: right;\">\n",
       "      <th></th>\n",
       "      <th>true_energy</th>\n",
       "      <th>true_cos(zen)</th>\n",
       "      <th>weights_pre_detector</th>\n",
       "      <th>reco_energy</th>\n",
       "      <th>weights</th>\n",
       "      <th>set</th>\n",
       "      <th>prob_nominal</th>\n",
       "      <th>prob_sys_01</th>\n",
       "      <th>prob_sys_02</th>\n",
       "      <th>prob_sys_03</th>\n",
       "      <th>prob_sys_04</th>\n",
       "    </tr>\n",
       "  </thead>\n",
       "  <tbody>\n",
       "    <tr>\n",
       "      <th>0</th>\n",
       "      <td>33.258493</td>\n",
       "      <td>-1.0</td>\n",
       "      <td>0.131390</td>\n",
       "      <td>26.066214</td>\n",
       "      <td>0.131390</td>\n",
       "      <td>nominal</td>\n",
       "      <td>0.165370</td>\n",
       "      <td>0.000139</td>\n",
       "      <td>0.416436</td>\n",
       "      <td>0.392175</td>\n",
       "      <td>0.025881</td>\n",
       "    </tr>\n",
       "    <tr>\n",
       "      <th>1</th>\n",
       "      <td>8.169298</td>\n",
       "      <td>-1.0</td>\n",
       "      <td>0.084217</td>\n",
       "      <td>7.503749</td>\n",
       "      <td>0.084217</td>\n",
       "      <td>nominal</td>\n",
       "      <td>0.301421</td>\n",
       "      <td>0.007831</td>\n",
       "      <td>0.204295</td>\n",
       "      <td>0.420951</td>\n",
       "      <td>0.065502</td>\n",
       "    </tr>\n",
       "    <tr>\n",
       "      <th>2</th>\n",
       "      <td>2.949453</td>\n",
       "      <td>-1.0</td>\n",
       "      <td>0.133524</td>\n",
       "      <td>2.665779</td>\n",
       "      <td>0.133524</td>\n",
       "      <td>nominal</td>\n",
       "      <td>0.118895</td>\n",
       "      <td>0.002894</td>\n",
       "      <td>0.536277</td>\n",
       "      <td>0.329453</td>\n",
       "      <td>0.012480</td>\n",
       "    </tr>\n",
       "    <tr>\n",
       "      <th>3</th>\n",
       "      <td>13.555529</td>\n",
       "      <td>-1.0</td>\n",
       "      <td>0.980284</td>\n",
       "      <td>14.311910</td>\n",
       "      <td>0.980284</td>\n",
       "      <td>nominal</td>\n",
       "      <td>0.397116</td>\n",
       "      <td>0.105451</td>\n",
       "      <td>0.027754</td>\n",
       "      <td>0.143620</td>\n",
       "      <td>0.326059</td>\n",
       "    </tr>\n",
       "    <tr>\n",
       "      <th>4</th>\n",
       "      <td>48.205168</td>\n",
       "      <td>-1.0</td>\n",
       "      <td>0.451484</td>\n",
       "      <td>52.684665</td>\n",
       "      <td>0.451484</td>\n",
       "      <td>nominal</td>\n",
       "      <td>0.349906</td>\n",
       "      <td>0.120823</td>\n",
       "      <td>0.015643</td>\n",
       "      <td>0.161445</td>\n",
       "      <td>0.352183</td>\n",
       "    </tr>\n",
       "    <tr>\n",
       "      <th>...</th>\n",
       "      <td>...</td>\n",
       "      <td>...</td>\n",
       "      <td>...</td>\n",
       "      <td>...</td>\n",
       "      <td>...</td>\n",
       "      <td>...</td>\n",
       "      <td>...</td>\n",
       "      <td>...</td>\n",
       "      <td>...</td>\n",
       "      <td>...</td>\n",
       "      <td>...</td>\n",
       "    </tr>\n",
       "    <tr>\n",
       "      <th>99995</th>\n",
       "      <td>62.165890</td>\n",
       "      <td>-1.0</td>\n",
       "      <td>0.636095</td>\n",
       "      <td>57.541611</td>\n",
       "      <td>0.636095</td>\n",
       "      <td>nominal</td>\n",
       "      <td>0.391339</td>\n",
       "      <td>0.021675</td>\n",
       "      <td>0.110619</td>\n",
       "      <td>0.337400</td>\n",
       "      <td>0.138967</td>\n",
       "    </tr>\n",
       "    <tr>\n",
       "      <th>99996</th>\n",
       "      <td>70.087416</td>\n",
       "      <td>-1.0</td>\n",
       "      <td>0.704628</td>\n",
       "      <td>75.866925</td>\n",
       "      <td>0.704628</td>\n",
       "      <td>nominal</td>\n",
       "      <td>0.349717</td>\n",
       "      <td>0.100512</td>\n",
       "      <td>0.029075</td>\n",
       "      <td>0.177445</td>\n",
       "      <td>0.343252</td>\n",
       "    </tr>\n",
       "    <tr>\n",
       "      <th>99997</th>\n",
       "      <td>13.599458</td>\n",
       "      <td>-1.0</td>\n",
       "      <td>0.977525</td>\n",
       "      <td>14.156462</td>\n",
       "      <td>0.977525</td>\n",
       "      <td>nominal</td>\n",
       "      <td>0.414537</td>\n",
       "      <td>0.090820</td>\n",
       "      <td>0.023522</td>\n",
       "      <td>0.171842</td>\n",
       "      <td>0.299278</td>\n",
       "    </tr>\n",
       "    <tr>\n",
       "      <th>99998</th>\n",
       "      <td>8.544012</td>\n",
       "      <td>-1.0</td>\n",
       "      <td>0.019022</td>\n",
       "      <td>9.155865</td>\n",
       "      <td>0.019022</td>\n",
       "      <td>nominal</td>\n",
       "      <td>0.341414</td>\n",
       "      <td>0.155033</td>\n",
       "      <td>0.016187</td>\n",
       "      <td>0.108574</td>\n",
       "      <td>0.378791</td>\n",
       "    </tr>\n",
       "    <tr>\n",
       "      <th>99999</th>\n",
       "      <td>24.149827</td>\n",
       "      <td>-1.0</td>\n",
       "      <td>0.029367</td>\n",
       "      <td>28.690861</td>\n",
       "      <td>0.029367</td>\n",
       "      <td>nominal</td>\n",
       "      <td>0.231629</td>\n",
       "      <td>0.266679</td>\n",
       "      <td>0.006410</td>\n",
       "      <td>0.057210</td>\n",
       "      <td>0.438072</td>\n",
       "    </tr>\n",
       "  </tbody>\n",
       "</table>\n",
       "<p>100000 rows × 11 columns</p>\n",
       "</div>"
      ],
      "text/plain": [
       "       true_energy  true_cos(zen)  weights_pre_detector  reco_energy  \\\n",
       "0        33.258493           -1.0              0.131390    26.066214   \n",
       "1         8.169298           -1.0              0.084217     7.503749   \n",
       "2         2.949453           -1.0              0.133524     2.665779   \n",
       "3        13.555529           -1.0              0.980284    14.311910   \n",
       "4        48.205168           -1.0              0.451484    52.684665   \n",
       "...            ...            ...                   ...          ...   \n",
       "99995    62.165890           -1.0              0.636095    57.541611   \n",
       "99996    70.087416           -1.0              0.704628    75.866925   \n",
       "99997    13.599458           -1.0              0.977525    14.156462   \n",
       "99998     8.544012           -1.0              0.019022     9.155865   \n",
       "99999    24.149827           -1.0              0.029367    28.690861   \n",
       "\n",
       "        weights      set  prob_nominal  prob_sys_01  prob_sys_02  prob_sys_03  \\\n",
       "0      0.131390  nominal      0.165370     0.000139     0.416436     0.392175   \n",
       "1      0.084217  nominal      0.301421     0.007831     0.204295     0.420951   \n",
       "2      0.133524  nominal      0.118895     0.002894     0.536277     0.329453   \n",
       "3      0.980284  nominal      0.397116     0.105451     0.027754     0.143620   \n",
       "4      0.451484  nominal      0.349906     0.120823     0.015643     0.161445   \n",
       "...         ...      ...           ...          ...          ...          ...   \n",
       "99995  0.636095  nominal      0.391339     0.021675     0.110619     0.337400   \n",
       "99996  0.704628  nominal      0.349717     0.100512     0.029075     0.177445   \n",
       "99997  0.977525  nominal      0.414537     0.090820     0.023522     0.171842   \n",
       "99998  0.019022  nominal      0.341414     0.155033     0.016187     0.108574   \n",
       "99999  0.029367  nominal      0.231629     0.266679     0.006410     0.057210   \n",
       "\n",
       "       prob_sys_04  \n",
       "0         0.025881  \n",
       "1         0.065502  \n",
       "2         0.012480  \n",
       "3         0.326059  \n",
       "4         0.352183  \n",
       "...            ...  \n",
       "99995     0.138967  \n",
       "99996     0.343252  \n",
       "99997     0.299278  \n",
       "99998     0.378791  \n",
       "99999     0.438072  \n",
       "\n",
       "[100000 rows x 11 columns]"
      ]
     },
     "execution_count": 49,
     "metadata": {},
     "output_type": "execute_result"
    }
   ],
   "source": [
    "df_with_probs"
   ]
  },
  {
   "cell_type": "code",
   "execution_count": 50,
   "id": "d8fe2907",
   "metadata": {},
   "outputs": [],
   "source": [
    "from toy_mc.histogram import Histogram"
   ]
  },
  {
   "cell_type": "code",
   "execution_count": 51,
   "id": "3375d4b4",
   "metadata": {},
   "outputs": [],
   "source": [
    "weighted_hist = Histogram(bin_edges)\n",
    "weighted_hist.fill(\n",
    "    df_with_probs[\"reco_energy\"],\n",
    "    df_with_probs[\"weights\"]\n",
    "    * df_with_probs[\"prob_sys_01\"]\n",
    "    / df_with_probs[\"prob_nominal\"],\n",
    ")\n",
    "\n",
    "weighted_hist_no_tilt_corr = Histogram(bin_edges)\n",
    "weighted_hist_no_tilt_corr.fill(\n",
    "    df_with_probs_no_tilt_corr[\"reco_energy\"],\n",
    "    df_with_probs_no_tilt_corr[\"weights\"]\n",
    "    * df_with_probs_no_tilt_corr[\"prob_sys_01\"]\n",
    "    / df_with_probs_no_tilt_corr[\"prob_nominal\"],\n",
    ")"
   ]
  },
  {
   "cell_type": "code",
   "execution_count": 52,
   "id": "d3d059b9",
   "metadata": {},
   "outputs": [
    {
     "data": {
      "image/png": "[encoded data removed]",
      "text/plain": [
       "<Figure size 640x480 with 1 Axes>"
      ]
     },
     "metadata": {},
     "output_type": "display_data"
    }
   ],
   "source": [
    "from toy_mc.histogram import plot_histogram\n",
    "\n",
    "fig, ax = plt.subplots()\n",
    "\n",
    "sys_hist = gen_sys_1.get_histogram(bin_edges)\n",
    "nominal_hist = gen_nominal.get_histogram(bin_edges)\n",
    "\n",
    "plot_histogram(nominal_hist, ax=ax, label=\"nominal\")\n",
    "plot_histogram(sys_hist, ax=ax, label=\"sys set 01\")\n",
    "plot_histogram(weighted_hist, ax=ax, label=\"nominal reweighted to set 01\")\n",
    "plot_histogram(weighted_hist_no_tilt_corr, ax=ax, label=\"without tilt corr\")\n",
    "plt.semilogx()\n",
    "plt.legend()\n",
    "plt.show()"
   ]
  },
  {
   "cell_type": "code",
   "execution_count": 53,
   "id": "092dfd3a",
   "metadata": {},
   "outputs": [
    {
     "data": {
      "text/plain": [
       "<module 'surfaces.calculate_grads' from '/Users/trettin/Documents/ultrasurfaces/surfaces/calculate_grads.py'>"
      ]
     },
     "execution_count": 53,
     "metadata": {},
     "output_type": "execute_result"
    }
   ],
   "source": [
    "from surfaces import calculate_grads\n",
    "reload(calculate_grads)"
   ]
  },
  {
   "cell_type": "code",
   "execution_count": 54,
   "id": "b461cda3",
   "metadata": {},
   "outputs": [
    {
     "data": {
      "text/plain": [
       "['grad__mu', 'grad__mu__mu']"
      ]
     },
     "execution_count": 54,
     "metadata": {},
     "output_type": "execute_result"
    }
   ],
   "source": [
    "# get gradient names for systematic \"mu\"\n",
    "grad_names = calculate_grads.make_gradient_names([\"mu\"], 2)\n",
    "grad_names"
   ]
  },
  {
   "cell_type": "code",
   "execution_count": 56,
   "id": "c90ccfe0",
   "metadata": {},
   "outputs": [
    {
     "data": {
      "text/plain": [
       "array([[ 0.    ,  0.1   , -0.1   , -0.05  ,  0.05  ],\n",
       "       [ 0.    ,  0.01  ,  0.01  ,  0.0025,  0.0025]])"
      ]
     },
     "execution_count": 56,
     "metadata": {},
     "output_type": "execute_result"
    }
   ],
   "source": [
    "# make delta_p matrix for the systematic \"mu\" \n",
    "# (i.e. the detector response)\n",
    "delta_p = calculate_grads.make_delta_p_from_grad_names(\n",
    "    grad_names, [gen_sys_1, gen_sys_2, gen_sys_3, gen_sys_4], gen_nominal\n",
    ")\n",
    "delta_p"
   ]
  },
  {
   "cell_type": "code",
   "execution_count": 57,
   "id": "e8191f83",
   "metadata": {},
   "outputs": [
    {
     "name": "stderr",
     "output_type": "stream",
     "text": [
      "100%|██████████| 100000/100000 [00:20<00:00, 4856.43it/s]\n"
     ]
    }
   ],
   "source": [
    "# reload(calculate_grads)\n",
    "df_with_grads = calculate_grads.fit_gradients(\n",
    "    df_with_probs, prob_columns=[\"prob_nominal\", \"prob_sys_01\", \"prob_sys_02\", \"prob_sys_03\", \"prob_sys_04\"], delta_p=delta_p, grad_names=grad_names\n",
    ")"
   ]
  },
  {
   "cell_type": "code",
   "execution_count": 58,
   "id": "7c1400b5",
   "metadata": {},
   "outputs": [
    {
     "data": {
      "text/html": [
       "<div>\n",
       "<style scoped>\n",
       "    .dataframe tbody tr th:only-of-type {\n",
       "        vertical-align: middle;\n",
       "    }\n",
       "\n",
       "    .dataframe tbody tr th {\n",
       "        vertical-align: top;\n",
       "    }\n",
       "\n",
       "    .dataframe thead th {\n",
       "        text-align: right;\n",
       "    }\n",
       "</style>\n",
       "<table border=\"1\" class=\"dataframe\">\n",
       "  <thead>\n",
       "    <tr style=\"text-align: right;\">\n",
       "      <th></th>\n",
       "      <th>true_energy</th>\n",
       "      <th>true_cos(zen)</th>\n",
       "      <th>weights_pre_detector</th>\n",
       "      <th>reco_energy</th>\n",
       "      <th>weights</th>\n",
       "      <th>set</th>\n",
       "      <th>prob_nominal</th>\n",
       "      <th>prob_sys_01</th>\n",
       "      <th>prob_sys_02</th>\n",
       "      <th>prob_sys_03</th>\n",
       "      <th>prob_sys_04</th>\n",
       "      <th>grad__mu</th>\n",
       "      <th>grad__mu__mu</th>\n",
       "    </tr>\n",
       "  </thead>\n",
       "  <tbody>\n",
       "    <tr>\n",
       "      <th>0</th>\n",
       "      <td>33.258493</td>\n",
       "      <td>-1.0</td>\n",
       "      <td>0.131390</td>\n",
       "      <td>26.066214</td>\n",
       "      <td>0.131390</td>\n",
       "      <td>nominal</td>\n",
       "      <td>0.165370</td>\n",
       "      <td>0.000139</td>\n",
       "      <td>0.416436</td>\n",
       "      <td>0.392175</td>\n",
       "      <td>0.025881</td>\n",
       "      <td>-27.684743</td>\n",
       "      <td>-181.164206</td>\n",
       "    </tr>\n",
       "    <tr>\n",
       "      <th>1</th>\n",
       "      <td>8.169298</td>\n",
       "      <td>-1.0</td>\n",
       "      <td>0.084217</td>\n",
       "      <td>7.503749</td>\n",
       "      <td>0.084217</td>\n",
       "      <td>nominal</td>\n",
       "      <td>0.301421</td>\n",
       "      <td>0.007831</td>\n",
       "      <td>0.204295</td>\n",
       "      <td>0.420951</td>\n",
       "      <td>0.065502</td>\n",
       "      <td>-17.798928</td>\n",
       "      <td>-215.075784</td>\n",
       "    </tr>\n",
       "    <tr>\n",
       "      <th>2</th>\n",
       "      <td>2.949453</td>\n",
       "      <td>-1.0</td>\n",
       "      <td>0.133524</td>\n",
       "      <td>2.665779</td>\n",
       "      <td>0.133524</td>\n",
       "      <td>nominal</td>\n",
       "      <td>0.118895</td>\n",
       "      <td>0.002894</td>\n",
       "      <td>0.536277</td>\n",
       "      <td>0.329453</td>\n",
       "      <td>0.012480</td>\n",
       "      <td>-29.110072</td>\n",
       "      <td>-132.377982</td>\n",
       "    </tr>\n",
       "    <tr>\n",
       "      <th>3</th>\n",
       "      <td>13.555529</td>\n",
       "      <td>-1.0</td>\n",
       "      <td>0.980284</td>\n",
       "      <td>14.311910</td>\n",
       "      <td>0.980284</td>\n",
       "      <td>nominal</td>\n",
       "      <td>0.397116</td>\n",
       "      <td>0.105451</td>\n",
       "      <td>0.027754</td>\n",
       "      <td>0.143620</td>\n",
       "      <td>0.326059</td>\n",
       "      <td>7.483855</td>\n",
       "      <td>-204.269853</td>\n",
       "    </tr>\n",
       "    <tr>\n",
       "      <th>4</th>\n",
       "      <td>48.205168</td>\n",
       "      <td>-1.0</td>\n",
       "      <td>0.451484</td>\n",
       "      <td>52.684665</td>\n",
       "      <td>0.451484</td>\n",
       "      <td>nominal</td>\n",
       "      <td>0.349906</td>\n",
       "      <td>0.120823</td>\n",
       "      <td>0.015643</td>\n",
       "      <td>0.161445</td>\n",
       "      <td>0.352183</td>\n",
       "      <td>8.718361</td>\n",
       "      <td>-198.159616</td>\n",
       "    </tr>\n",
       "    <tr>\n",
       "      <th>...</th>\n",
       "      <td>...</td>\n",
       "      <td>...</td>\n",
       "      <td>...</td>\n",
       "      <td>...</td>\n",
       "      <td>...</td>\n",
       "      <td>...</td>\n",
       "      <td>...</td>\n",
       "      <td>...</td>\n",
       "      <td>...</td>\n",
       "      <td>...</td>\n",
       "      <td>...</td>\n",
       "      <td>...</td>\n",
       "      <td>...</td>\n",
       "    </tr>\n",
       "    <tr>\n",
       "      <th>99995</th>\n",
       "      <td>62.165890</td>\n",
       "      <td>-1.0</td>\n",
       "      <td>0.636095</td>\n",
       "      <td>57.541611</td>\n",
       "      <td>0.636095</td>\n",
       "      <td>nominal</td>\n",
       "      <td>0.391339</td>\n",
       "      <td>0.021675</td>\n",
       "      <td>0.110619</td>\n",
       "      <td>0.337400</td>\n",
       "      <td>0.138967</td>\n",
       "      <td>-8.547848</td>\n",
       "      <td>-210.658315</td>\n",
       "    </tr>\n",
       "    <tr>\n",
       "      <th>99996</th>\n",
       "      <td>70.087416</td>\n",
       "      <td>-1.0</td>\n",
       "      <td>0.704628</td>\n",
       "      <td>75.866925</td>\n",
       "      <td>0.704628</td>\n",
       "      <td>nominal</td>\n",
       "      <td>0.349717</td>\n",
       "      <td>0.100512</td>\n",
       "      <td>0.029075</td>\n",
       "      <td>0.177445</td>\n",
       "      <td>0.343252</td>\n",
       "      <td>6.447014</td>\n",
       "      <td>-188.713193</td>\n",
       "    </tr>\n",
       "    <tr>\n",
       "      <th>99997</th>\n",
       "      <td>13.599458</td>\n",
       "      <td>-1.0</td>\n",
       "      <td>0.977525</td>\n",
       "      <td>14.156462</td>\n",
       "      <td>0.977525</td>\n",
       "      <td>nominal</td>\n",
       "      <td>0.414537</td>\n",
       "      <td>0.090820</td>\n",
       "      <td>0.023522</td>\n",
       "      <td>0.171842</td>\n",
       "      <td>0.299278</td>\n",
       "      <td>6.041314</td>\n",
       "      <td>-216.048451</td>\n",
       "    </tr>\n",
       "    <tr>\n",
       "      <th>99998</th>\n",
       "      <td>8.544012</td>\n",
       "      <td>-1.0</td>\n",
       "      <td>0.019022</td>\n",
       "      <td>9.155865</td>\n",
       "      <td>0.019022</td>\n",
       "      <td>nominal</td>\n",
       "      <td>0.341414</td>\n",
       "      <td>0.155033</td>\n",
       "      <td>0.016187</td>\n",
       "      <td>0.108574</td>\n",
       "      <td>0.378791</td>\n",
       "      <td>12.010016</td>\n",
       "      <td>-197.554019</td>\n",
       "    </tr>\n",
       "    <tr>\n",
       "      <th>99999</th>\n",
       "      <td>24.149827</td>\n",
       "      <td>-1.0</td>\n",
       "      <td>0.029367</td>\n",
       "      <td>28.690861</td>\n",
       "      <td>0.029367</td>\n",
       "      <td>nominal</td>\n",
       "      <td>0.231629</td>\n",
       "      <td>0.266679</td>\n",
       "      <td>0.006410</td>\n",
       "      <td>0.057210</td>\n",
       "      <td>0.438072</td>\n",
       "      <td>20.238177</td>\n",
       "      <td>-192.119247</td>\n",
       "    </tr>\n",
       "  </tbody>\n",
       "</table>\n",
       "<p>100000 rows × 13 columns</p>\n",
       "</div>"
      ],
      "text/plain": [
       "       true_energy  true_cos(zen)  weights_pre_detector  reco_energy  \\\n",
       "0        33.258493           -1.0              0.131390    26.066214   \n",
       "1         8.169298           -1.0              0.084217     7.503749   \n",
       "2         2.949453           -1.0              0.133524     2.665779   \n",
       "3        13.555529           -1.0              0.980284    14.311910   \n",
       "4        48.205168           -1.0              0.451484    52.684665   \n",
       "...            ...            ...                   ...          ...   \n",
       "99995    62.165890           -1.0              0.636095    57.541611   \n",
       "99996    70.087416           -1.0              0.704628    75.866925   \n",
       "99997    13.599458           -1.0              0.977525    14.156462   \n",
       "99998     8.544012           -1.0              0.019022     9.155865   \n",
       "99999    24.149827           -1.0              0.029367    28.690861   \n",
       "\n",
       "        weights      set  prob_nominal  prob_sys_01  prob_sys_02  prob_sys_03  \\\n",
       "0      0.131390  nominal      0.165370     0.000139     0.416436     0.392175   \n",
       "1      0.084217  nominal      0.301421     0.007831     0.204295     0.420951   \n",
       "2      0.133524  nominal      0.118895     0.002894     0.536277     0.329453   \n",
       "3      0.980284  nominal      0.397116     0.105451     0.027754     0.143620   \n",
       "4      0.451484  nominal      0.349906     0.120823     0.015643     0.161445   \n",
       "...         ...      ...           ...          ...          ...          ...   \n",
       "99995  0.636095  nominal      0.391339     0.021675     0.110619     0.337400   \n",
       "99996  0.704628  nominal      0.349717     0.100512     0.029075     0.177445   \n",
       "99997  0.977525  nominal      0.414537     0.090820     0.023522     0.171842   \n",
       "99998  0.019022  nominal      0.341414     0.155033     0.016187     0.108574   \n",
       "99999  0.029367  nominal      0.231629     0.266679     0.006410     0.057210   \n",
       "\n",
       "       prob_sys_04   grad__mu  grad__mu__mu  \n",
       "0         0.025881 -27.684743   -181.164206  \n",
       "1         0.065502 -17.798928   -215.075784  \n",
       "2         0.012480 -29.110072   -132.377982  \n",
       "3         0.326059   7.483855   -204.269853  \n",
       "4         0.352183   8.718361   -198.159616  \n",
       "...            ...        ...           ...  \n",
       "99995     0.138967  -8.547848   -210.658315  \n",
       "99996     0.343252   6.447014   -188.713193  \n",
       "99997     0.299278   6.041314   -216.048451  \n",
       "99998     0.378791  12.010016   -197.554019  \n",
       "99999     0.438072  20.238177   -192.119247  \n",
       "\n",
       "[100000 rows x 13 columns]"
      ]
     },
     "execution_count": 58,
     "metadata": {},
     "output_type": "execute_result"
    }
   ],
   "source": [
    "df_with_grads"
   ]
  },
  {
   "cell_type": "code",
   "execution_count": 62,
   "id": "daa8afd7",
   "metadata": {},
   "outputs": [],
   "source": [
    "# generate a histogram by weighting the nominal events to any detector response using the gradients in the dataframe\n",
    "def generate_histogram_at_response(df, nominal_response, response, bin_edges, use_systs=None, variable=\"reco_energy\"):\n",
    "    \"\"\"Generate a histogram at a given detector response.\n",
    "\n",
    "    Parameters\n",
    "    ----------\n",
    "    df : pandas.DataFrame\n",
    "        DataFrame containing the events and gradients\n",
    "    nominal_response : toy_mc.generator.Response\n",
    "        Nominal detector response\n",
    "    response : toy_mc.generator.Response\n",
    "        Detector response to weight the events to\n",
    "    bin_edges : np.ndarray\n",
    "        Bin edges for the histogram\n",
    "    use_systs : list of str, optional\n",
    "        List of systematic names to use. If None, all systematics are used.\n",
    "    variable : str, optional\n",
    "        Variable to use for the histogram. Default is \"reco_energy\".\n",
    "    \"\"\"\n",
    "    if use_systs is None:\n",
    "        grad_names = df.columns[df.columns.str.startswith(\"grad__\")]\n",
    "    else:\n",
    "        grad_names = [\"grad_{}\".format(syst) for syst in use_systs]\n",
    "    delta_p = np.ones(len(grad_names))\n",
    "    for i, grad_name in enumerate(grad_names):\n",
    "        for param in grad_name.split(\"grad\")[-1].split(\"__\")[1:]:\n",
    "            delta_p[i] *= getattr(response, param) - getattr(nominal_response, param)\n",
    "    weights = df[\"weights\"] * np.exp(np.dot(df[grad_names], delta_p))\n",
    "    hist = Histogram(bin_edges)\n",
    "    hist.fill(df[variable], weights)\n",
    "    return hist"
   ]
  },
  {
   "cell_type": "code",
   "execution_count": 63,
   "id": "5e6efaf1",
   "metadata": {},
   "outputs": [
    {
     "data": {
      "image/png": "[encoded data removed]",
      "text/plain": [
       "<Figure size 640x480 with 1 Axes>"
      ]
     },
     "metadata": {},
     "output_type": "display_data"
    }
   ],
   "source": [
    "# generate a histogram at the response of sys set 01 using gradients\n",
    "\n",
    "hist_at_sys_01 = generate_histogram_at_response( df_with_grads, default_response, gen_sys_1.detector_response, bin_edges)\n",
    "sys_hist = gen_sys_1.get_histogram(bin_edges)\n",
    "nominal_hist = gen_nominal.get_histogram(bin_edges)\n",
    "\n",
    "# plot the histograms\n",
    "fig, ax = plt.subplots()\n",
    "plot_histogram(hist_at_sys_01, ax=ax, label=\"weighted to sys set 01\")\n",
    "plot_histogram(sys_hist, ax=ax, label=\"sys set 01\")\n",
    "plot_histogram(nominal_hist, ax=ax, label=\"nominal\")\n",
    "plt.semilogx()\n",
    "plt.legend()\n",
    "plt.show()"
   ]
  },
  {
   "cell_type": "code",
   "execution_count": 64,
   "id": "eb597f7b",
   "metadata": {},
   "outputs": [
    {
     "data": {
      "image/png": "[encoded data removed]",
      "text/plain": [
       "<Figure size 640x480 with 1 Axes>"
      ]
     },
     "metadata": {},
     "output_type": "display_data"
    }
   ],
   "source": [
    "hist_at_sys_01 = generate_histogram_at_response(\n",
    "    df_with_grads, default_response, gen_sys_1.detector_response, bin_edges, variable=\"true_energy\"\n",
    ")\n",
    "sys_hist = gen_sys_1.get_histogram(bin_edges)\n",
    "nominal_hist = gen_nominal.get_histogram(bin_edges)\n",
    "\n",
    "# plot the histograms\n",
    "fig, ax = plt.subplots()\n",
    "plot_histogram(hist_at_sys_01, ax=ax, label=\"weighted to sys set 01\")\n",
    "plot_histogram(sys_hist, ax=ax, label=\"sys set 01\")\n",
    "plot_histogram(nominal_hist, ax=ax, label=\"nominal\")\n",
    "plt.semilogx()\n",
    "plt.legend()\n",
    "plt.show()"
   ]
  },
  {
   "cell_type": "code",
   "execution_count": 61,
   "id": "58d6b191",
   "metadata": {},
   "outputs": [
    {
     "data": {
      "image/png": "[encoded data removed]",
      "text/plain": [
       "<Figure size 640x480 with 2 Axes>"
      ]
     },
     "metadata": {},
     "output_type": "display_data"
    }
   ],
   "source": [
    "# sweep response parameter mu around nominal value and plot the histograms\n",
    "mus = np.linspace(0.95, 1.05, 100)\n",
    "hists = []\n",
    "for mu in mus:\n",
    "    response = generator.Response(mu * default_response.mu, default_response.sigma)\n",
    "    hists.append(generate_histogram_at_response(df_with_grads, default_response, response, bin_edges))\n",
    "\n",
    "fig, ax = plt.subplots()\n",
    "# make list of colors from a colormap\n",
    "colors = plt.cm.viridis(np.linspace(0, 1, len(mus)))\n",
    "for hist, mu, color in zip(hists, mus, colors):\n",
    "    plot_histogram(hist, ax=ax, show_errorband=False, label=\"mu = {}\".format(mu), color=color)\n",
    "# make colorbar\n",
    "sm = plt.cm.ScalarMappable(cmap=plt.cm.viridis, norm=plt.Normalize(vmin=mus.min(), vmax=mus.max()))\n",
    "sm._A = []\n",
    "cbar = plt.colorbar(sm, ax=ax)\n",
    "cbar.set_label(\"mu\")\n",
    "plt.xlabel(\"reco energy\")\n",
    "plt.ylabel(\"counts\")\n",
    "plt.semilogx()\n",
    "plt.show()\n"
   ]
  },
  {
   "cell_type": "code",
   "execution_count": null,
   "id": "0fbf10c5",
   "metadata": {},
   "outputs": [],
   "source": []
  }
 ],
 "metadata": {
  "kernelspec": {
   "display_name": "venv",
   "language": "python",
   "name": "python3"
  },
  "language_info": {
   "codemirror_mode": {
    "name": "ipython",
    "version": 3
   },
   "file_extension": ".py",
   "mimetype": "text/x-python",
   "name": "python",
   "nbconvert_exporter": "python",
   "pygments_lexer": "ipython3",
   "version": "3.10.6"
  },
  "vscode": {
   "interpreter": {
    "hash": "2784ad643403f2dd4f50655d9c8ce199f08e51eaff9440c3911cd6de7f959aab"
   }
  }
 },
 "nbformat": 4,
 "nbformat_minor": 5
}
