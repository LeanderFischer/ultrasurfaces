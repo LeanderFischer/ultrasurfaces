{
 "cells": [
  {
   "cell_type": "code",
   "execution_count": 2,
   "id": "ea3bb7a3",
   "metadata": {},
   "outputs": [],
   "source": [
    "\n",
    "import matplotlib.pyplot as plt\n",
    "import numpy as np\n",
    "\n",
    "#plt.style.use(\"ultrasurfaces_plotstyle.mplstyle\")\n",
    "\n",
    "from toy_mc import generator\n",
    "from importlib import reload"
   ]
  },
  {
   "cell_type": "code",
   "execution_count": 3,
   "id": "24aab93a",
   "metadata": {
    "tags": []
   },
   "outputs": [],
   "source": [
    "delta_msq_31 = 2.515e-3\n",
    "sinsq_theta_23 = 0.565\n",
    "# convert this to sin**2(2 \\theta)\n",
    "theta_23 = np.arcsin(np.sqrt(sinsq_theta_23))\n",
    "sinsq_2theta_23 = np.sin(2 * theta_23)**2\n",
    "default_pars = generator.OscPars(delta_msq_31, sinsq_2theta_23)\n",
    "\n",
    "default_response = generator.Response(1., 0.05)\n",
    "\n",
    "bin_edges = np.logspace(1., 2., 26)"
   ]
  },
  {
   "cell_type": "code",
   "execution_count": 4,
   "id": "0aba8bba",
   "metadata": {},
   "outputs": [
    {
     "data": {
      "text/plain": [
       "<module 'toy_mc.generator' from '/Users/trettin/projects/ultrasurface paper/ultrasurfaces/toy_mc/generator.py'>"
      ]
     },
     "execution_count": 4,
     "metadata": {},
     "output_type": "execute_result"
    }
   ],
   "source": [
    "reload(generator)"
   ]
  },
  {
   "cell_type": "code",
   "execution_count": 5,
   "id": "865d5301",
   "metadata": {},
   "outputs": [
    {
     "name": "stdout",
     "output_type": "stream",
     "text": [
      "Generating events with log10(E / GeV) from a Gaussian with mean 1.3 and wdith 0.5 and cos(zenith) values uniformly sampled between -1.0 and -1.0.\n"
     ]
    }
   ],
   "source": [
    "gen = generator.Generator(int(1e5), default_response, default_pars)\n",
    "h0 = gen.get_histogram(bin_edges)"
   ]
  },
  {
   "cell_type": "code",
   "execution_count": 6,
   "id": "fd40a4a6",
   "metadata": {},
   "outputs": [
    {
     "data": {
      "text/plain": [
       "Response(mu=1.0, sigma=0.05)"
      ]
     },
     "execution_count": 6,
     "metadata": {},
     "output_type": "execute_result"
    }
   ],
   "source": [
    "gen.detector_response"
   ]
  },
  {
   "cell_type": "code",
   "execution_count": 7,
   "id": "78564409",
   "metadata": {},
   "outputs": [
    {
     "data": {
      "text/plain": [
       "array([33.27865464, 42.88173896, 47.71337492, 47.11425666, 42.02782378,\n",
       "       35.17651579, 27.08715798, 19.18073963, 12.34798327,  7.62172069,\n",
       "        5.90569043,  6.82848046,  8.8537266 , 11.99022565, 14.84698804,\n",
       "       17.91804394, 21.23276166, 23.61648686, 25.06541737, 26.60720462,\n",
       "       27.9941615 , 29.05136418, 29.76893886, 29.47297667, 28.29365945])"
      ]
     },
     "execution_count": 7,
     "metadata": {},
     "output_type": "execute_result"
    }
   ],
   "source": [
    "h0.hist_unc"
   ]
  },
  {
   "cell_type": "code",
   "execution_count": 8,
   "id": "7b08df05",
   "metadata": {},
   "outputs": [
    {
     "data": {
      "text/plain": [
       "array([1498.87361956, 2186.34441732, 2560.74771054, 2545.01646455,\n",
       "       2194.18748098, 1786.12577227, 1296.06033434,  820.97200561,\n",
       "        484.37749217,  285.79953276,  232.533083  ,  274.8573778 ,\n",
       "        358.39629736,  512.42040384,  658.56441747,  821.91538256,\n",
       "        993.17839205, 1076.56635367, 1108.6599225 , 1142.84873157,\n",
       "       1181.0403309 , 1187.08608385, 1180.95923099, 1107.77760565,\n",
       "        982.0564569 ])"
      ]
     },
     "execution_count": 8,
     "metadata": {},
     "output_type": "execute_result"
    }
   ],
   "source": [
    "h0.hist"
   ]
  },
  {
   "cell_type": "code",
   "execution_count": 9,
   "id": "71ff0791",
   "metadata": {},
   "outputs": [],
   "source": [
    "from toy_mc.histogram import plot_histogram"
   ]
  },
  {
   "cell_type": "code",
   "execution_count": 10,
   "id": "6b472c1e",
   "metadata": {},
   "outputs": [
    {
     "data": {
      "text/plain": [
       "[]"
      ]
     },
     "execution_count": 10,
     "metadata": {},
     "output_type": "execute_result"
    },
    {
     "data": {
      "image/png": "[encoded data removed]",
      "text/plain": [
       "<Figure size 640x480 with 1 Axes>"
      ]
     },
     "metadata": {},
     "output_type": "display_data"
    }
   ],
   "source": [
    "fig, ax = plt.subplots()\n",
    "plot_histogram(h0, ax=ax)\n",
    "plot_histogram(h0 / 2, ax=ax)\n",
    "plt.semilogx()"
   ]
  },
  {
   "cell_type": "code",
   "execution_count": 11,
   "id": "77cc38b2",
   "metadata": {},
   "outputs": [
    {
     "data": {
      "text/html": [
       "<div>\n",
       "<style scoped>\n",
       "    .dataframe tbody tr th:only-of-type {\n",
       "        vertical-align: middle;\n",
       "    }\n",
       "\n",
       "    .dataframe tbody tr th {\n",
       "        vertical-align: top;\n",
       "    }\n",
       "\n",
       "    .dataframe thead th {\n",
       "        text-align: right;\n",
       "    }\n",
       "</style>\n",
       "<table border=\"1\" class=\"dataframe\">\n",
       "  <thead>\n",
       "    <tr style=\"text-align: right;\">\n",
       "      <th></th>\n",
       "      <th>true_energy</th>\n",
       "      <th>true_cos(zen)</th>\n",
       "      <th>weights_pre_detector</th>\n",
       "      <th>reco_energy</th>\n",
       "      <th>weights</th>\n",
       "    </tr>\n",
       "  </thead>\n",
       "  <tbody>\n",
       "    <tr>\n",
       "      <th>0</th>\n",
       "      <td>12.290679</td>\n",
       "      <td>-1.0</td>\n",
       "      <td>0.972968</td>\n",
       "      <td>13.180859</td>\n",
       "      <td>0.972968</td>\n",
       "    </tr>\n",
       "    <tr>\n",
       "      <th>1</th>\n",
       "      <td>16.052763</td>\n",
       "      <td>-1.0</td>\n",
       "      <td>0.678562</td>\n",
       "      <td>17.195065</td>\n",
       "      <td>0.678562</td>\n",
       "    </tr>\n",
       "    <tr>\n",
       "      <th>2</th>\n",
       "      <td>28.319770</td>\n",
       "      <td>-1.0</td>\n",
       "      <td>0.034723</td>\n",
       "      <td>30.744905</td>\n",
       "      <td>0.034723</td>\n",
       "    </tr>\n",
       "    <tr>\n",
       "      <th>3</th>\n",
       "      <td>110.861260</td>\n",
       "      <td>-1.0</td>\n",
       "      <td>0.873582</td>\n",
       "      <td>74.040605</td>\n",
       "      <td>0.873582</td>\n",
       "    </tr>\n",
       "    <tr>\n",
       "      <th>4</th>\n",
       "      <td>93.481569</td>\n",
       "      <td>-1.0</td>\n",
       "      <td>0.825452</td>\n",
       "      <td>79.400554</td>\n",
       "      <td>0.825452</td>\n",
       "    </tr>\n",
       "    <tr>\n",
       "      <th>...</th>\n",
       "      <td>...</td>\n",
       "      <td>...</td>\n",
       "      <td>...</td>\n",
       "      <td>...</td>\n",
       "      <td>...</td>\n",
       "    </tr>\n",
       "    <tr>\n",
       "      <th>99995</th>\n",
       "      <td>9.176090</td>\n",
       "      <td>-1.0</td>\n",
       "      <td>0.092677</td>\n",
       "      <td>8.468000</td>\n",
       "      <td>0.092677</td>\n",
       "    </tr>\n",
       "    <tr>\n",
       "      <th>99996</th>\n",
       "      <td>10.661602</td>\n",
       "      <td>-1.0</td>\n",
       "      <td>0.618907</td>\n",
       "      <td>10.480433</td>\n",
       "      <td>0.618907</td>\n",
       "    </tr>\n",
       "    <tr>\n",
       "      <th>99997</th>\n",
       "      <td>10.404811</td>\n",
       "      <td>-1.0</td>\n",
       "      <td>0.527323</td>\n",
       "      <td>10.992658</td>\n",
       "      <td>0.527323</td>\n",
       "    </tr>\n",
       "    <tr>\n",
       "      <th>99998</th>\n",
       "      <td>8.013236</td>\n",
       "      <td>-1.0</td>\n",
       "      <td>0.139998</td>\n",
       "      <td>8.425204</td>\n",
       "      <td>0.139998</td>\n",
       "    </tr>\n",
       "    <tr>\n",
       "      <th>99999</th>\n",
       "      <td>40.408787</td>\n",
       "      <td>-1.0</td>\n",
       "      <td>0.298356</td>\n",
       "      <td>36.585005</td>\n",
       "      <td>0.298356</td>\n",
       "    </tr>\n",
       "  </tbody>\n",
       "</table>\n",
       "<p>100000 rows × 5 columns</p>\n",
       "</div>"
      ],
      "text/plain": [
       "       true_energy  true_cos(zen)  weights_pre_detector  reco_energy   weights\n",
       "0        12.290679           -1.0              0.972968    13.180859  0.972968\n",
       "1        16.052763           -1.0              0.678562    17.195065  0.678562\n",
       "2        28.319770           -1.0              0.034723    30.744905  0.034723\n",
       "3       110.861260           -1.0              0.873582    74.040605  0.873582\n",
       "4        93.481569           -1.0              0.825452    79.400554  0.825452\n",
       "...            ...            ...                   ...          ...       ...\n",
       "99995     9.176090           -1.0              0.092677     8.468000  0.092677\n",
       "99996    10.661602           -1.0              0.618907    10.480433  0.618907\n",
       "99997    10.404811           -1.0              0.527323    10.992658  0.527323\n",
       "99998     8.013236           -1.0              0.139998     8.425204  0.139998\n",
       "99999    40.408787           -1.0              0.298356    36.585005  0.298356\n",
       "\n",
       "[100000 rows x 5 columns]"
      ]
     },
     "execution_count": 11,
     "metadata": {},
     "output_type": "execute_result"
    }
   ],
   "source": [
    "gen.events"
   ]
  },
  {
   "cell_type": "code",
   "execution_count": 12,
   "id": "f3c756de",
   "metadata": {},
   "outputs": [
    {
     "name": "stdout",
     "output_type": "stream",
     "text": [
      "Generating events with log10(E / GeV) from a Gaussian with mean 1.3 and wdith 0.5 and cos(zenith) values uniformly sampled between -1.0 and -1.0.\n"
     ]
    }
   ],
   "source": [
    "gen_2 = generator.Generator(\n",
    "    int(1e5),\n",
    "    default_response,\n",
    "    generator.OscPars(1.2 * default_pars.delta_mqs, default_pars.sinsq_2theta),\n",
    ")\n",
    "h2 = gen_2.get_histogram(bin_edges)"
   ]
  },
  {
   "cell_type": "code",
   "execution_count": 13,
   "id": "6b9cd6a3",
   "metadata": {},
   "outputs": [
    {
     "name": "stdout",
     "output_type": "stream",
     "text": [
      "Generating events with log10(E / GeV) from a Gaussian with mean 1.3 and wdith 0.5 and cos(zenith) values uniformly sampled between -1.0 and -1.0.\n"
     ]
    }
   ],
   "source": [
    "gen_3 = generator.Generator(\n",
    "    int(1e5), generator.Response(1.2 * default_response.mu, default_response.sigma), default_pars\n",
    ")\n",
    "h3 = gen_3.get_histogram(bin_edges)"
   ]
  },
  {
   "cell_type": "code",
   "execution_count": 14,
   "id": "1e4f89a6",
   "metadata": {},
   "outputs": [
    {
     "data": {
      "text/plain": [
       "<matplotlib.legend.Legend at 0x128367d60>"
      ]
     },
     "execution_count": 14,
     "metadata": {},
     "output_type": "execute_result"
    },
    {
     "data": {
      "image/png": "[encoded data removed]",
      "text/plain": [
       "<Figure size 640x480 with 1 Axes>"
      ]
     },
     "metadata": {},
     "output_type": "display_data"
    }
   ],
   "source": [
    "from toy_mc.histogram import plot_histogram\n",
    "\n",
    "fig, ax = plt.subplots()\n",
    "\n",
    "plot_histogram(h0, ax=ax, label=r'default histogram')\n",
    "\n",
    "plot_histogram(h2, ax=ax, label=r'1.2 x $\\Delta_m^2$ ')\n",
    "\n",
    "plot_histogram(h3, ax=ax, label=r'1.2 x $\\mu$')\n",
    "\n",
    "\n",
    "plt.xscale('log')\n",
    "plt.xlabel(r'$E_{\\rm reco}$ [GeV]')\n",
    "plt.ylabel(r'$N_{\\rm events}$')\n",
    "\n",
    "plt.legend()"
   ]
  },
  {
   "cell_type": "code",
   "execution_count": 15,
   "id": "fd1ed4cb",
   "metadata": {},
   "outputs": [],
   "source": [
    "from surfaces import calculate_probs"
   ]
  },
  {
   "cell_type": "code",
   "execution_count": 16,
   "id": "79ca6a6c",
   "metadata": {},
   "outputs": [
    {
     "name": "stdout",
     "output_type": "stream",
     "text": [
      "Generating events with log10(E / GeV) from a Gaussian with mean 1.3 and wdith 0.5 and cos(zenith) values uniformly sampled between -1.0 and -1.0.\n",
      "Generating events with log10(E / GeV) from a Gaussian with mean 1.3 and wdith 0.5 and cos(zenith) values uniformly sampled between -1.0 and -1.0.\n",
      "Generating events with log10(E / GeV) from a Gaussian with mean 1.3 and wdith 0.5 and cos(zenith) values uniformly sampled between -1.0 and -1.0.\n",
      "Generating events with log10(E / GeV) from a Gaussian with mean 1.3 and wdith 0.5 and cos(zenith) values uniformly sampled between -1.0 and -1.0.\n",
      "Generating events with log10(E / GeV) from a Gaussian with mean 1.3 and wdith 0.5 and cos(zenith) values uniformly sampled between -1.0 and -1.0.\n"
     ]
    }
   ],
   "source": [
    "reload(generator)\n",
    "gen_nominal = generator.Generator(\n",
    "    int(1e5), default_response, default_pars, name=\"nominal\"\n",
    ")\n",
    "# It looks like there is a breakdown point where, if the response is *too* different,\n",
    "# the whole thing doesn't work anymore.\n",
    "gen_sys_1 = generator.Generator(\n",
    "    int(1e5),\n",
    "    generator.Response(1.1 * default_response.mu, default_response.sigma),\n",
    "    default_pars,\n",
    "    name=\"sys_01\",\n",
    ")\n",
    "gen_sys_2 = generator.Generator(\n",
    "    int(1e5),\n",
    "    generator.Response(0.90 * default_response.mu, default_response.sigma),\n",
    "    default_pars,\n",
    "    name=\"sys_02\",\n",
    ")\n",
    "gen_sys_3 = generator.Generator(\n",
    "    int(1e5),\n",
    "    generator.Response(0.95 * default_response.mu, default_response.sigma),\n",
    "    default_pars,\n",
    "    name=\"sys_03\",\n",
    ")\n",
    "gen_sys_4 = generator.Generator(\n",
    "    int(1e5),\n",
    "    generator.Response(1.05 * default_response.mu, default_response.sigma),\n",
    "    default_pars,\n",
    "    name=\"sys_04\",\n",
    ")"
   ]
  },
  {
   "cell_type": "code",
   "execution_count": 17,
   "id": "5bdabeb0",
   "metadata": {},
   "outputs": [
    {
     "name": "stdout",
     "output_type": "stream",
     "text": [
      "Starting KNN evaluation on 10 chunks of data...\n"
     ]
    },
    {
     "name": "stderr",
     "output_type": "stream",
     "text": [
      "  0%|          | 0/10 [00:00<?, ?it/s]OMP: Info #276: omp_set_nested routine deprecated, please use omp_set_max_active_levels instead.\n",
      "100%|██████████| 10/10 [01:25<00:00,  8.51s/it]\n"
     ]
    }
   ],
   "source": [
    "reload(calculate_probs)\n",
    "df_with_probs = calculate_probs.calculate_probs_sklearn(\n",
    "    gen_nominal,\n",
    "    [gen_sys_1, gen_sys_2, gen_sys_3, gen_sys_4],\n",
    "    variables=[\"true_energy\", \"reco_energy\"],\n",
    "    tilt_bias_correction=True,\n",
    "    neighbors_per_class=200\n",
    ")"
   ]
  },
  {
   "cell_type": "code",
   "execution_count": 18,
   "id": "33cd3331",
   "metadata": {},
   "outputs": [
    {
     "name": "stdout",
     "output_type": "stream",
     "text": [
      "Starting KNN evaluation on 10 chunks of data...\n"
     ]
    },
    {
     "name": "stderr",
     "output_type": "stream",
     "text": [
      "100%|██████████| 10/10 [01:02<00:00,  6.23s/it]\n"
     ]
    }
   ],
   "source": [
    "df_with_probs_no_tilt_corr = calculate_probs.calculate_probs_sklearn(\n",
    "    gen_nominal,\n",
    "    [gen_sys_1, gen_sys_2, gen_sys_3, gen_sys_4],\n",
    "    variables=[\"true_energy\", \"reco_energy\"],\n",
    "    tilt_bias_correction=False,\n",
    "    neighbors_per_class=200\n",
    ")"
   ]
  },
  {
   "cell_type": "code",
   "execution_count": 54,
   "id": "1893f138",
   "metadata": {},
   "outputs": [
    {
     "name": "stdout",
     "output_type": "stream",
     "text": [
      "Iteration 1, loss = 1.13845445\n",
      "Iteration 2, loss = 1.08604982\n",
      "Iteration 3, loss = 1.08403529\n",
      "Iteration 4, loss = 1.08317233\n",
      "Iteration 5, loss = 1.08282490\n",
      "Iteration 6, loss = 1.08231550\n",
      "Iteration 7, loss = 1.08204736\n",
      "Iteration 8, loss = 1.08186783\n",
      "Iteration 9, loss = 1.08163777\n",
      "Iteration 10, loss = 1.08137652\n",
      "Starting MLP evaluation...\n"
     ]
    },
    {
     "name": "stderr",
     "output_type": "stream",
     "text": [
      "/Users/trettin/projects/ultrasurface paper/ultrasurfaces/venv/lib/python3.10/site-packages/sklearn/neural_network/_multilayer_perceptron.py:684: ConvergenceWarning: Stochastic Optimizer: Maximum iterations (10) reached and the optimization hasn't converged yet.\n",
      "  warnings.warn(\n"
     ]
    }
   ],
   "source": [
    "reload(calculate_probs)\n",
    "df_with_probs_mlp = calculate_probs.calculate_probs_sklearn(\n",
    "    gen_nominal,\n",
    "    [gen_sys_1, gen_sys_2, gen_sys_3, gen_sys_4],\n",
    "    variables=[\"true_energy\", \"reco_energy\"],\n",
    "    classifiertype=\"mlp\",\n",
    "    verbose_training=True,\n",
    "    max_iter=10,\n",
    "    alpha=1e-7,\n",
    "    activation=\"relu\",\n",
    "    hidden_layer_sizes=(20, 20)\n",
    ")"
   ]
  },
  {
   "cell_type": "code",
   "execution_count": 48,
   "id": "8c787368",
   "metadata": {},
   "outputs": [
    {
     "data": {
      "text/html": [
       "<div>\n",
       "<style scoped>\n",
       "    .dataframe tbody tr th:only-of-type {\n",
       "        vertical-align: middle;\n",
       "    }\n",
       "\n",
       "    .dataframe tbody tr th {\n",
       "        vertical-align: top;\n",
       "    }\n",
       "\n",
       "    .dataframe thead th {\n",
       "        text-align: right;\n",
       "    }\n",
       "</style>\n",
       "<table border=\"1\" class=\"dataframe\">\n",
       "  <thead>\n",
       "    <tr style=\"text-align: right;\">\n",
       "      <th></th>\n",
       "      <th>true_energy</th>\n",
       "      <th>true_cos(zen)</th>\n",
       "      <th>weights_pre_detector</th>\n",
       "      <th>reco_energy</th>\n",
       "      <th>weights</th>\n",
       "      <th>set</th>\n",
       "      <th>prob_nominal</th>\n",
       "      <th>prob_sys_01</th>\n",
       "      <th>prob_sys_02</th>\n",
       "      <th>prob_sys_03</th>\n",
       "      <th>prob_sys_04</th>\n",
       "    </tr>\n",
       "  </thead>\n",
       "  <tbody>\n",
       "    <tr>\n",
       "      <th>0</th>\n",
       "      <td>31.374007</td>\n",
       "      <td>-1.0</td>\n",
       "      <td>0.089302</td>\n",
       "      <td>38.120890</td>\n",
       "      <td>0.089302</td>\n",
       "      <td>nominal</td>\n",
       "      <td>0.214937</td>\n",
       "      <td>0.314162</td>\n",
       "      <td>0.003486</td>\n",
       "      <td>0.045591</td>\n",
       "      <td>0.421825</td>\n",
       "    </tr>\n",
       "    <tr>\n",
       "      <th>1</th>\n",
       "      <td>7.825748</td>\n",
       "      <td>-1.0</td>\n",
       "      <td>0.229164</td>\n",
       "      <td>7.622602</td>\n",
       "      <td>0.229164</td>\n",
       "      <td>nominal</td>\n",
       "      <td>0.378925</td>\n",
       "      <td>0.036561</td>\n",
       "      <td>0.086943</td>\n",
       "      <td>0.303728</td>\n",
       "      <td>0.193844</td>\n",
       "    </tr>\n",
       "    <tr>\n",
       "      <th>2</th>\n",
       "      <td>35.390873</td>\n",
       "      <td>-1.0</td>\n",
       "      <td>0.181765</td>\n",
       "      <td>52.844779</td>\n",
       "      <td>0.181765</td>\n",
       "      <td>nominal</td>\n",
       "      <td>0.047451</td>\n",
       "      <td>0.668806</td>\n",
       "      <td>0.000128</td>\n",
       "      <td>0.003770</td>\n",
       "      <td>0.279844</td>\n",
       "    </tr>\n",
       "    <tr>\n",
       "      <th>3</th>\n",
       "      <td>8.440775</td>\n",
       "      <td>-1.0</td>\n",
       "      <td>0.027634</td>\n",
       "      <td>8.589416</td>\n",
       "      <td>0.027634</td>\n",
       "      <td>nominal</td>\n",
       "      <td>0.382941</td>\n",
       "      <td>0.084311</td>\n",
       "      <td>0.038471</td>\n",
       "      <td>0.203558</td>\n",
       "      <td>0.290720</td>\n",
       "    </tr>\n",
       "    <tr>\n",
       "      <th>4</th>\n",
       "      <td>27.984758</td>\n",
       "      <td>-1.0</td>\n",
       "      <td>0.030495</td>\n",
       "      <td>38.445595</td>\n",
       "      <td>0.030495</td>\n",
       "      <td>nominal</td>\n",
       "      <td>0.080716</td>\n",
       "      <td>0.569538</td>\n",
       "      <td>0.000348</td>\n",
       "      <td>0.008365</td>\n",
       "      <td>0.341032</td>\n",
       "    </tr>\n",
       "    <tr>\n",
       "      <th>...</th>\n",
       "      <td>...</td>\n",
       "      <td>...</td>\n",
       "      <td>...</td>\n",
       "      <td>...</td>\n",
       "      <td>...</td>\n",
       "      <td>...</td>\n",
       "      <td>...</td>\n",
       "      <td>...</td>\n",
       "      <td>...</td>\n",
       "      <td>...</td>\n",
       "      <td>...</td>\n",
       "    </tr>\n",
       "    <tr>\n",
       "      <th>99995</th>\n",
       "      <td>6.927205</td>\n",
       "      <td>-1.0</td>\n",
       "      <td>0.841198</td>\n",
       "      <td>6.304942</td>\n",
       "      <td>0.841198</td>\n",
       "      <td>nominal</td>\n",
       "      <td>0.259609</td>\n",
       "      <td>0.005818</td>\n",
       "      <td>0.247656</td>\n",
       "      <td>0.417835</td>\n",
       "      <td>0.069082</td>\n",
       "    </tr>\n",
       "    <tr>\n",
       "      <th>99996</th>\n",
       "      <td>3.982570</td>\n",
       "      <td>-1.0</td>\n",
       "      <td>0.509175</td>\n",
       "      <td>3.988231</td>\n",
       "      <td>0.509175</td>\n",
       "      <td>nominal</td>\n",
       "      <td>0.389516</td>\n",
       "      <td>0.064297</td>\n",
       "      <td>0.049937</td>\n",
       "      <td>0.226919</td>\n",
       "      <td>0.269331</td>\n",
       "    </tr>\n",
       "    <tr>\n",
       "      <th>99997</th>\n",
       "      <td>17.164698</td>\n",
       "      <td>-1.0</td>\n",
       "      <td>0.520845</td>\n",
       "      <td>19.293136</td>\n",
       "      <td>0.520845</td>\n",
       "      <td>nominal</td>\n",
       "      <td>0.282388</td>\n",
       "      <td>0.222846</td>\n",
       "      <td>0.007747</td>\n",
       "      <td>0.078965</td>\n",
       "      <td>0.408055</td>\n",
       "    </tr>\n",
       "    <tr>\n",
       "      <th>99998</th>\n",
       "      <td>3.207663</td>\n",
       "      <td>-1.0</td>\n",
       "      <td>0.988267</td>\n",
       "      <td>3.186803</td>\n",
       "      <td>0.988267</td>\n",
       "      <td>nominal</td>\n",
       "      <td>0.394139</td>\n",
       "      <td>0.049180</td>\n",
       "      <td>0.061775</td>\n",
       "      <td>0.251242</td>\n",
       "      <td>0.243664</td>\n",
       "    </tr>\n",
       "    <tr>\n",
       "      <th>99999</th>\n",
       "      <td>44.372759</td>\n",
       "      <td>-1.0</td>\n",
       "      <td>0.381203</td>\n",
       "      <td>45.790125</td>\n",
       "      <td>0.381203</td>\n",
       "      <td>nominal</td>\n",
       "      <td>0.377270</td>\n",
       "      <td>0.080192</td>\n",
       "      <td>0.040414</td>\n",
       "      <td>0.212486</td>\n",
       "      <td>0.289639</td>\n",
       "    </tr>\n",
       "  </tbody>\n",
       "</table>\n",
       "<p>100000 rows × 11 columns</p>\n",
       "</div>"
      ],
      "text/plain": [
       "       true_energy  true_cos(zen)  weights_pre_detector  reco_energy  \\\n",
       "0        31.374007           -1.0              0.089302    38.120890   \n",
       "1         7.825748           -1.0              0.229164     7.622602   \n",
       "2        35.390873           -1.0              0.181765    52.844779   \n",
       "3         8.440775           -1.0              0.027634     8.589416   \n",
       "4        27.984758           -1.0              0.030495    38.445595   \n",
       "...            ...            ...                   ...          ...   \n",
       "99995     6.927205           -1.0              0.841198     6.304942   \n",
       "99996     3.982570           -1.0              0.509175     3.988231   \n",
       "99997    17.164698           -1.0              0.520845    19.293136   \n",
       "99998     3.207663           -1.0              0.988267     3.186803   \n",
       "99999    44.372759           -1.0              0.381203    45.790125   \n",
       "\n",
       "        weights      set  prob_nominal  prob_sys_01  prob_sys_02  prob_sys_03  \\\n",
       "0      0.089302  nominal      0.214937     0.314162     0.003486     0.045591   \n",
       "1      0.229164  nominal      0.378925     0.036561     0.086943     0.303728   \n",
       "2      0.181765  nominal      0.047451     0.668806     0.000128     0.003770   \n",
       "3      0.027634  nominal      0.382941     0.084311     0.038471     0.203558   \n",
       "4      0.030495  nominal      0.080716     0.569538     0.000348     0.008365   \n",
       "...         ...      ...           ...          ...          ...          ...   \n",
       "99995  0.841198  nominal      0.259609     0.005818     0.247656     0.417835   \n",
       "99996  0.509175  nominal      0.389516     0.064297     0.049937     0.226919   \n",
       "99997  0.520845  nominal      0.282388     0.222846     0.007747     0.078965   \n",
       "99998  0.988267  nominal      0.394139     0.049180     0.061775     0.251242   \n",
       "99999  0.381203  nominal      0.377270     0.080192     0.040414     0.212486   \n",
       "\n",
       "       prob_sys_04  \n",
       "0         0.421825  \n",
       "1         0.193844  \n",
       "2         0.279844  \n",
       "3         0.290720  \n",
       "4         0.341032  \n",
       "...            ...  \n",
       "99995     0.069082  \n",
       "99996     0.269331  \n",
       "99997     0.408055  \n",
       "99998     0.243664  \n",
       "99999     0.289639  \n",
       "\n",
       "[100000 rows x 11 columns]"
      ]
     },
     "execution_count": 48,
     "metadata": {},
     "output_type": "execute_result"
    }
   ],
   "source": [
    "df_with_probs_mlp"
   ]
  },
  {
   "cell_type": "code",
   "execution_count": 28,
   "id": "d8fe2907",
   "metadata": {},
   "outputs": [],
   "source": [
    "from toy_mc.histogram import Histogram"
   ]
  },
  {
   "cell_type": "code",
   "execution_count": 55,
   "id": "3375d4b4",
   "metadata": {},
   "outputs": [],
   "source": [
    "weighted_hist = Histogram(bin_edges)\n",
    "weighted_hist.fill(\n",
    "    df_with_probs[\"reco_energy\"],\n",
    "    df_with_probs[\"weights\"]\n",
    "    * df_with_probs[\"prob_sys_01\"]\n",
    "    / df_with_probs[\"prob_nominal\"],\n",
    ")\n",
    "\n",
    "weighted_hist_no_tilt_corr = Histogram(bin_edges)\n",
    "weighted_hist_no_tilt_corr.fill(\n",
    "    df_with_probs_no_tilt_corr[\"reco_energy\"],\n",
    "    df_with_probs_no_tilt_corr[\"weights\"]\n",
    "    * df_with_probs_no_tilt_corr[\"prob_sys_01\"]\n",
    "    / df_with_probs_no_tilt_corr[\"prob_nominal\"],\n",
    ")\n",
    "\n",
    "weighted_hist_mlp = Histogram(bin_edges)\n",
    "weighted_hist_mlp.fill(\n",
    "    df_with_probs_mlp[\"reco_energy\"],\n",
    "    df_with_probs_mlp[\"weights\"]\n",
    "    * df_with_probs_mlp[\"prob_sys_01\"]\n",
    "    / df_with_probs_mlp[\"prob_nominal\"],\n",
    ")"
   ]
  },
  {
   "cell_type": "code",
   "execution_count": 57,
   "id": "d3d059b9",
   "metadata": {},
   "outputs": [
    {
     "data": {
      "image/png": "[encoded data removed]",
      "text/plain": [
       "<Figure size 640x480 with 1 Axes>"
      ]
     },
     "metadata": {},
     "output_type": "display_data"
    }
   ],
   "source": [
    "from toy_mc.histogram import plot_histogram\n",
    "\n",
    "fig, ax = plt.subplots()\n",
    "\n",
    "sys_hist = gen_sys_1.get_histogram(bin_edges)\n",
    "nominal_hist = gen_nominal.get_histogram(bin_edges)\n",
    "\n",
    "plot_histogram(nominal_hist, ax=ax, label=\"nominal\")\n",
    "plot_histogram(sys_hist, ax=ax, label=\"sys set 01\")\n",
    "plot_histogram(weighted_hist, ax=ax, label=\"nominal reweighted KNN\")\n",
    "# plot_histogram(weighted_hist_no_tilt_corr, ax=ax, label=\"without tilt corr\")\n",
    "plot_histogram(weighted_hist_mlp, ax=ax, label=\"nominal reweighted MLP\")\n",
    "plt.semilogx()\n",
    "plt.legend()\n",
    "plt.show()"
   ]
  },
  {
   "cell_type": "code",
   "execution_count": 53,
   "id": "092dfd3a",
   "metadata": {},
   "outputs": [
    {
     "data": {
      "text/plain": [
       "<module 'surfaces.calculate_grads' from '/Users/trettin/Documents/ultrasurfaces/surfaces/calculate_grads.py'>"
      ]
     },
     "execution_count": 53,
     "metadata": {},
     "output_type": "execute_result"
    }
   ],
   "source": [
    "from surfaces import calculate_grads\n",
    "reload(calculate_grads)"
   ]
  },
  {
   "cell_type": "code",
   "execution_count": 54,
   "id": "b461cda3",
   "metadata": {},
   "outputs": [
    {
     "data": {
      "text/plain": [
       "['grad__mu', 'grad__mu__mu']"
      ]
     },
     "execution_count": 54,
     "metadata": {},
     "output_type": "execute_result"
    }
   ],
   "source": [
    "# get gradient names for systematic \"mu\"\n",
    "grad_names = calculate_grads.make_gradient_names([\"mu\"], 2)\n",
    "grad_names"
   ]
  },
  {
   "cell_type": "code",
   "execution_count": 56,
   "id": "c90ccfe0",
   "metadata": {},
   "outputs": [
    {
     "data": {
      "text/plain": [
       "array([[ 0.    ,  0.1   , -0.1   , -0.05  ,  0.05  ],\n",
       "       [ 0.    ,  0.01  ,  0.01  ,  0.0025,  0.0025]])"
      ]
     },
     "execution_count": 56,
     "metadata": {},
     "output_type": "execute_result"
    }
   ],
   "source": [
    "# make delta_p matrix for the systematic \"mu\" \n",
    "# (i.e. the detector response)\n",
    "delta_p = calculate_grads.make_delta_p_from_grad_names(\n",
    "    grad_names, [gen_sys_1, gen_sys_2, gen_sys_3, gen_sys_4], gen_nominal\n",
    ")\n",
    "delta_p"
   ]
  },
  {
   "cell_type": "code",
   "execution_count": 57,
   "id": "e8191f83",
   "metadata": {},
   "outputs": [
    {
     "name": "stderr",
     "output_type": "stream",
     "text": [
      "100%|██████████| 100000/100000 [00:20<00:00, 4856.43it/s]\n"
     ]
    }
   ],
   "source": [
    "# reload(calculate_grads)\n",
    "df_with_grads = calculate_grads.fit_gradients(\n",
    "    df_with_probs, prob_columns=[\"prob_nominal\", \"prob_sys_01\", \"prob_sys_02\", \"prob_sys_03\", \"prob_sys_04\"], delta_p=delta_p, grad_names=grad_names\n",
    ")"
   ]
  },
  {
   "cell_type": "code",
   "execution_count": 59,
   "id": "c8365951",
   "metadata": {},
   "outputs": [
    {
     "name": "stderr",
     "output_type": "stream",
     "text": [
      "2023-03-01 17:13:43.990130: I tensorflow/core/platform/cpu_feature_guard.cc:193] This TensorFlow binary is optimized with oneAPI Deep Neural Network Library (oneDNN) to use the following CPU instructions in performance-critical operations:  AVX2 FMA\n",
      "To enable them in other operations, rebuild TensorFlow with the appropriate compiler flags.\n"
     ]
    }
   ],
   "source": [
    "from surfaces import calculate_grad_net"
   ]
  },
  {
   "cell_type": "code",
   "execution_count": 72,
   "id": "07b43618",
   "metadata": {},
   "outputs": [
    {
     "data": {
      "text/plain": [
       "<module 'surfaces.calculate_grad_net' from '/Users/trettin/projects/ultrasurface paper/ultrasurfaces/surfaces/calculate_grad_net.py'>"
      ]
     },
     "execution_count": 72,
     "metadata": {},
     "output_type": "execute_result"
    }
   ],
   "source": [
    "reload(calculate_grad_net)"
   ]
  },
  {
   "cell_type": "code",
   "execution_count": 82,
   "id": "1d8b4882",
   "metadata": {},
   "outputs": [
    {
     "name": "stdout",
     "output_type": "stream",
     "text": [
      "Epoch 1/30\n",
      "500/500 [==============================] - 6s 9ms/step - loss: 1.2792\n",
      "Epoch 2/30\n",
      "500/500 [==============================] - 4s 8ms/step - loss: 1.1020\n",
      "Epoch 3/30\n",
      "500/500 [==============================] - 4s 9ms/step - loss: 1.0935\n",
      "Epoch 4/30\n",
      "500/500 [==============================] - 5s 10ms/step - loss: 1.0919\n",
      "Epoch 5/30\n",
      "500/500 [==============================] - 5s 10ms/step - loss: 1.0908\n",
      "Epoch 6/30\n",
      "500/500 [==============================] - 8s 17ms/step - loss: 1.0904\n",
      "Epoch 7/30\n",
      "500/500 [==============================] - 7s 15ms/step - loss: 1.0899\n",
      "Epoch 8/30\n",
      "500/500 [==============================] - 7s 13ms/step - loss: 1.0895\n",
      "Epoch 9/30\n",
      "500/500 [==============================] - 7s 13ms/step - loss: 1.0895\n",
      "Epoch 10/30\n",
      "500/500 [==============================] - 7s 13ms/step - loss: 1.0889\n",
      "Epoch 11/30\n",
      "500/500 [==============================] - 6s 12ms/step - loss: 1.0886\n",
      "Epoch 12/30\n",
      "500/500 [==============================] - 11s 21ms/step - loss: 1.0885\n",
      "Epoch 13/30\n",
      "500/500 [==============================] - 7s 14ms/step - loss: 1.0882\n",
      "Epoch 14/30\n",
      "500/500 [==============================] - 7s 14ms/step - loss: 1.0881\n",
      "Epoch 15/30\n",
      "500/500 [==============================] - 7s 14ms/step - loss: 1.0875\n",
      "Epoch 16/30\n",
      "500/500 [==============================] - 7s 14ms/step - loss: 1.0876\n",
      "Epoch 17/30\n",
      "500/500 [==============================] - 7s 14ms/step - loss: 1.0874\n",
      "Epoch 18/30\n",
      "500/500 [==============================] - 7s 14ms/step - loss: 1.0870\n",
      "Epoch 19/30\n",
      "500/500 [==============================] - 7s 15ms/step - loss: 1.0873\n",
      "Epoch 20/30\n",
      "500/500 [==============================] - 6s 13ms/step - loss: 1.0870\n",
      "Epoch 21/30\n",
      "500/500 [==============================] - 6s 12ms/step - loss: 1.0867\n",
      "Epoch 22/30\n",
      "500/500 [==============================] - 6s 12ms/step - loss: 1.0868\n",
      "Epoch 23/30\n",
      "500/500 [==============================] - 7s 13ms/step - loss: 1.0863\n",
      "Epoch 24/30\n",
      "500/500 [==============================] - 6s 13ms/step - loss: 1.0864\n",
      "Epoch 25/30\n",
      "500/500 [==============================] - 6s 13ms/step - loss: 1.0863\n",
      "Epoch 26/30\n",
      "500/500 [==============================] - 7s 15ms/step - loss: 1.0861\n",
      "Epoch 27/30\n",
      "500/500 [==============================] - 7s 14ms/step - loss: 1.0860\n",
      "Epoch 28/30\n",
      "500/500 [==============================] - 7s 15ms/step - loss: 1.0859\n",
      "Epoch 29/30\n",
      "500/500 [==============================] - 6s 13ms/step - loss: 1.0860\n",
      "Epoch 30/30\n",
      "500/500 [==============================] - 6s 13ms/step - loss: 1.0857\n",
      "3125/3125 [==============================] - 13s 4ms/step\n",
      "3125/3125 [==============================] - 10s 3ms/step\n"
     ]
    }
   ],
   "source": [
    "df_grad_net = calculate_grad_net.run_grad_net(\n",
    "    gen_nominal,\n",
    "    [gen_sys_1, gen_sys_2, gen_sys_3, gen_sys_4],\n",
    "    variables=[\"true_energy\", \"reco_energy\"],\n",
    "    param_names=[\"mu\"],\n",
    "    verbose=1,\n",
    "    epochs=30,\n",
    ")"
   ]
  },
  {
   "cell_type": "code",
   "execution_count": 83,
   "id": "7c1400b5",
   "metadata": {},
   "outputs": [
    {
     "data": {
      "text/html": [
       "<div>\n",
       "<style scoped>\n",
       "    .dataframe tbody tr th:only-of-type {\n",
       "        vertical-align: middle;\n",
       "    }\n",
       "\n",
       "    .dataframe tbody tr th {\n",
       "        vertical-align: top;\n",
       "    }\n",
       "\n",
       "    .dataframe thead th {\n",
       "        text-align: right;\n",
       "    }\n",
       "</style>\n",
       "<table border=\"1\" class=\"dataframe\">\n",
       "  <thead>\n",
       "    <tr style=\"text-align: right;\">\n",
       "      <th></th>\n",
       "      <th>true_energy</th>\n",
       "      <th>true_cos(zen)</th>\n",
       "      <th>weights_pre_detector</th>\n",
       "      <th>reco_energy</th>\n",
       "      <th>weights</th>\n",
       "      <th>set</th>\n",
       "      <th>prob_nominal</th>\n",
       "      <th>prob_sys_01</th>\n",
       "      <th>prob_sys_02</th>\n",
       "      <th>prob_sys_03</th>\n",
       "      <th>prob_sys_04</th>\n",
       "      <th>grad__mu</th>\n",
       "      <th>grad__mu__mu</th>\n",
       "    </tr>\n",
       "  </thead>\n",
       "  <tbody>\n",
       "    <tr>\n",
       "      <th>0</th>\n",
       "      <td>31.374007</td>\n",
       "      <td>-1.0</td>\n",
       "      <td>0.089302</td>\n",
       "      <td>38.120890</td>\n",
       "      <td>0.089302</td>\n",
       "      <td>nominal</td>\n",
       "      <td>0.235246</td>\n",
       "      <td>0.285522</td>\n",
       "      <td>0.003469</td>\n",
       "      <td>0.047236</td>\n",
       "      <td>0.428526</td>\n",
       "      <td>22.051861</td>\n",
       "      <td>-201.149948</td>\n",
       "    </tr>\n",
       "    <tr>\n",
       "      <th>1</th>\n",
       "      <td>7.825748</td>\n",
       "      <td>-1.0</td>\n",
       "      <td>0.229164</td>\n",
       "      <td>7.622602</td>\n",
       "      <td>0.229164</td>\n",
       "      <td>nominal</td>\n",
       "      <td>0.389135</td>\n",
       "      <td>0.028500</td>\n",
       "      <td>0.092667</td>\n",
       "      <td>0.315005</td>\n",
       "      <td>0.174693</td>\n",
       "      <td>-5.895605</td>\n",
       "      <td>-202.447357</td>\n",
       "    </tr>\n",
       "    <tr>\n",
       "      <th>2</th>\n",
       "      <td>35.390873</td>\n",
       "      <td>-1.0</td>\n",
       "      <td>0.181765</td>\n",
       "      <td>52.844779</td>\n",
       "      <td>0.181765</td>\n",
       "      <td>nominal</td>\n",
       "      <td>0.053070</td>\n",
       "      <td>0.637331</td>\n",
       "      <td>0.000075</td>\n",
       "      <td>0.003318</td>\n",
       "      <td>0.306206</td>\n",
       "      <td>45.249172</td>\n",
       "      <td>-203.923615</td>\n",
       "    </tr>\n",
       "    <tr>\n",
       "      <th>3</th>\n",
       "      <td>8.440775</td>\n",
       "      <td>-1.0</td>\n",
       "      <td>0.027634</td>\n",
       "      <td>8.589416</td>\n",
       "      <td>0.027634</td>\n",
       "      <td>nominal</td>\n",
       "      <td>0.402649</td>\n",
       "      <td>0.068015</td>\n",
       "      <td>0.040922</td>\n",
       "      <td>0.213355</td>\n",
       "      <td>0.275059</td>\n",
       "      <td>2.540293</td>\n",
       "      <td>-203.237045</td>\n",
       "    </tr>\n",
       "    <tr>\n",
       "      <th>4</th>\n",
       "      <td>27.984758</td>\n",
       "      <td>-1.0</td>\n",
       "      <td>0.030495</td>\n",
       "      <td>38.445595</td>\n",
       "      <td>0.030495</td>\n",
       "      <td>nominal</td>\n",
       "      <td>0.090257</td>\n",
       "      <td>0.535840</td>\n",
       "      <td>0.000261</td>\n",
       "      <td>0.008064</td>\n",
       "      <td>0.365578</td>\n",
       "      <td>38.140976</td>\n",
       "      <td>-203.292435</td>\n",
       "    </tr>\n",
       "    <tr>\n",
       "      <th>...</th>\n",
       "      <td>...</td>\n",
       "      <td>...</td>\n",
       "      <td>...</td>\n",
       "      <td>...</td>\n",
       "      <td>...</td>\n",
       "      <td>...</td>\n",
       "      <td>...</td>\n",
       "      <td>...</td>\n",
       "      <td>...</td>\n",
       "      <td>...</td>\n",
       "      <td>...</td>\n",
       "      <td>...</td>\n",
       "      <td>...</td>\n",
       "    </tr>\n",
       "    <tr>\n",
       "      <th>99995</th>\n",
       "      <td>6.927205</td>\n",
       "      <td>-1.0</td>\n",
       "      <td>0.841198</td>\n",
       "      <td>6.304942</td>\n",
       "      <td>0.841198</td>\n",
       "      <td>nominal</td>\n",
       "      <td>0.254636</td>\n",
       "      <td>0.004534</td>\n",
       "      <td>0.260091</td>\n",
       "      <td>0.424669</td>\n",
       "      <td>0.056070</td>\n",
       "      <td>-20.247059</td>\n",
       "      <td>-200.350815</td>\n",
       "    </tr>\n",
       "    <tr>\n",
       "      <th>99996</th>\n",
       "      <td>3.982570</td>\n",
       "      <td>-1.0</td>\n",
       "      <td>0.509175</td>\n",
       "      <td>3.988231</td>\n",
       "      <td>0.509175</td>\n",
       "      <td>nominal</td>\n",
       "      <td>0.381630</td>\n",
       "      <td>0.062225</td>\n",
       "      <td>0.066767</td>\n",
       "      <td>0.248999</td>\n",
       "      <td>0.240380</td>\n",
       "      <td>-0.352268</td>\n",
       "      <td>-177.847366</td>\n",
       "    </tr>\n",
       "    <tr>\n",
       "      <th>99997</th>\n",
       "      <td>17.164698</td>\n",
       "      <td>-1.0</td>\n",
       "      <td>0.520845</td>\n",
       "      <td>19.293136</td>\n",
       "      <td>0.520845</td>\n",
       "      <td>nominal</td>\n",
       "      <td>0.307092</td>\n",
       "      <td>0.194318</td>\n",
       "      <td>0.008214</td>\n",
       "      <td>0.083625</td>\n",
       "      <td>0.406750</td>\n",
       "      <td>15.818556</td>\n",
       "      <td>-203.950562</td>\n",
       "    </tr>\n",
       "    <tr>\n",
       "      <th>99998</th>\n",
       "      <td>3.207663</td>\n",
       "      <td>-1.0</td>\n",
       "      <td>0.988267</td>\n",
       "      <td>3.186803</td>\n",
       "      <td>0.988267</td>\n",
       "      <td>nominal</td>\n",
       "      <td>0.359390</td>\n",
       "      <td>0.056824</td>\n",
       "      <td>0.095815</td>\n",
       "      <td>0.275673</td>\n",
       "      <td>0.212298</td>\n",
       "      <td>-2.612270</td>\n",
       "      <td>-158.321899</td>\n",
       "    </tr>\n",
       "    <tr>\n",
       "      <th>99999</th>\n",
       "      <td>44.372759</td>\n",
       "      <td>-1.0</td>\n",
       "      <td>0.381203</td>\n",
       "      <td>45.790125</td>\n",
       "      <td>0.381203</td>\n",
       "      <td>nominal</td>\n",
       "      <td>0.398419</td>\n",
       "      <td>0.070295</td>\n",
       "      <td>0.042496</td>\n",
       "      <td>0.213805</td>\n",
       "      <td>0.274985</td>\n",
       "      <td>2.516510</td>\n",
       "      <td>-198.645508</td>\n",
       "    </tr>\n",
       "  </tbody>\n",
       "</table>\n",
       "<p>100000 rows × 13 columns</p>\n",
       "</div>"
      ],
      "text/plain": [
       "       true_energy  true_cos(zen)  weights_pre_detector  reco_energy  \\\n",
       "0        31.374007           -1.0              0.089302    38.120890   \n",
       "1         7.825748           -1.0              0.229164     7.622602   \n",
       "2        35.390873           -1.0              0.181765    52.844779   \n",
       "3         8.440775           -1.0              0.027634     8.589416   \n",
       "4        27.984758           -1.0              0.030495    38.445595   \n",
       "...            ...            ...                   ...          ...   \n",
       "99995     6.927205           -1.0              0.841198     6.304942   \n",
       "99996     3.982570           -1.0              0.509175     3.988231   \n",
       "99997    17.164698           -1.0              0.520845    19.293136   \n",
       "99998     3.207663           -1.0              0.988267     3.186803   \n",
       "99999    44.372759           -1.0              0.381203    45.790125   \n",
       "\n",
       "        weights      set  prob_nominal  prob_sys_01  prob_sys_02  prob_sys_03  \\\n",
       "0      0.089302  nominal      0.235246     0.285522     0.003469     0.047236   \n",
       "1      0.229164  nominal      0.389135     0.028500     0.092667     0.315005   \n",
       "2      0.181765  nominal      0.053070     0.637331     0.000075     0.003318   \n",
       "3      0.027634  nominal      0.402649     0.068015     0.040922     0.213355   \n",
       "4      0.030495  nominal      0.090257     0.535840     0.000261     0.008064   \n",
       "...         ...      ...           ...          ...          ...          ...   \n",
       "99995  0.841198  nominal      0.254636     0.004534     0.260091     0.424669   \n",
       "99996  0.509175  nominal      0.381630     0.062225     0.066767     0.248999   \n",
       "99997  0.520845  nominal      0.307092     0.194318     0.008214     0.083625   \n",
       "99998  0.988267  nominal      0.359390     0.056824     0.095815     0.275673   \n",
       "99999  0.381203  nominal      0.398419     0.070295     0.042496     0.213805   \n",
       "\n",
       "       prob_sys_04   grad__mu  grad__mu__mu  \n",
       "0         0.428526  22.051861   -201.149948  \n",
       "1         0.174693  -5.895605   -202.447357  \n",
       "2         0.306206  45.249172   -203.923615  \n",
       "3         0.275059   2.540293   -203.237045  \n",
       "4         0.365578  38.140976   -203.292435  \n",
       "...            ...        ...           ...  \n",
       "99995     0.056070 -20.247059   -200.350815  \n",
       "99996     0.240380  -0.352268   -177.847366  \n",
       "99997     0.406750  15.818556   -203.950562  \n",
       "99998     0.212298  -2.612270   -158.321899  \n",
       "99999     0.274985   2.516510   -198.645508  \n",
       "\n",
       "[100000 rows x 13 columns]"
      ]
     },
     "execution_count": 83,
     "metadata": {},
     "output_type": "execute_result"
    }
   ],
   "source": [
    "df_grad_net"
   ]
  },
  {
   "cell_type": "code",
   "execution_count": 75,
   "id": "daa8afd7",
   "metadata": {},
   "outputs": [],
   "source": [
    "# generate a histogram by weighting the nominal events to any detector response using the gradients in the dataframe\n",
    "def generate_histogram_at_response(df, nominal_response, response, bin_edges, use_systs=None, variable=\"reco_energy\"):\n",
    "    \"\"\"Generate a histogram at a given detector response.\n",
    "\n",
    "    Parameters\n",
    "    ----------\n",
    "    df : pandas.DataFrame\n",
    "        DataFrame containing the events and gradients\n",
    "    nominal_response : toy_mc.generator.Response\n",
    "        Nominal detector response\n",
    "    response : toy_mc.generator.Response\n",
    "        Detector response to weight the events to\n",
    "    bin_edges : np.ndarray\n",
    "        Bin edges for the histogram\n",
    "    use_systs : list of str, optional\n",
    "        List of systematic names to use. If None, all systematics are used.\n",
    "    variable : str, optional\n",
    "        Variable to use for the histogram. Default is \"reco_energy\".\n",
    "    \"\"\"\n",
    "    if use_systs is None:\n",
    "        grad_names = df.columns[df.columns.str.startswith(\"grad__\")]\n",
    "    else:\n",
    "        grad_names = [\"grad_{}\".format(syst) for syst in use_systs]\n",
    "    delta_p = np.ones(len(grad_names))\n",
    "    for i, grad_name in enumerate(grad_names):\n",
    "        for param in grad_name.split(\"grad\")[-1].split(\"__\")[1:]:\n",
    "            delta_p[i] *= getattr(response, param) - getattr(nominal_response, param)\n",
    "    weights = df[\"weights\"] * np.exp(np.dot(df[grad_names], delta_p))\n",
    "    hist = Histogram(bin_edges)\n",
    "    hist.fill(df[variable], weights)\n",
    "    return hist"
   ]
  },
  {
   "cell_type": "code",
   "execution_count": 86,
   "id": "5e6efaf1",
   "metadata": {},
   "outputs": [
    {
     "data": {
      "image/png": "[encoded data removed]",
      "text/plain": [
       "<Figure size 640x480 with 1 Axes>"
      ]
     },
     "metadata": {},
     "output_type": "display_data"
    }
   ],
   "source": [
    "# generate a histogram at the response of sys set 01 using gradients\n",
    "\n",
    "hist_at_sys_01 = generate_histogram_at_response(df_grad_net, default_response, gen_sys_1.detector_response, bin_edges)\n",
    "sys_hist = gen_sys_1.get_histogram(bin_edges)\n",
    "nominal_hist = gen_nominal.get_histogram(bin_edges)\n",
    "\n",
    "# plot the histograms\n",
    "fig, ax = plt.subplots()\n",
    "plot_histogram(hist_at_sys_01, ax=ax, label=\"weighted to sys set 01\")\n",
    "plot_histogram(sys_hist, ax=ax, label=\"sys set 01\")\n",
    "plot_histogram(nominal_hist, ax=ax, label=\"nominal\")\n",
    "plt.xlabel(\"reco energy\")\n",
    "plt.semilogx()\n",
    "plt.legend()\n",
    "plt.show()"
   ]
  },
  {
   "cell_type": "code",
   "execution_count": 87,
   "id": "eb597f7b",
   "metadata": {},
   "outputs": [
    {
     "data": {
      "image/png": "[encoded data removed]",
      "text/plain": [
       "<Figure size 640x480 with 1 Axes>"
      ]
     },
     "metadata": {},
     "output_type": "display_data"
    }
   ],
   "source": [
    "hist_at_sys_01 = generate_histogram_at_response(\n",
    "    df_grad_net, default_response, gen_sys_1.detector_response, bin_edges, variable=\"true_energy\"\n",
    ")\n",
    "sys_hist = gen_sys_1.get_histogram(bin_edges, variable=\"true_energy\")\n",
    "nominal_hist = gen_nominal.get_histogram(bin_edges, variable=\"true_energy\")\n",
    "\n",
    "# plot the histograms\n",
    "fig, ax = plt.subplots()\n",
    "plot_histogram(hist_at_sys_01, ax=ax, label=\"weighted to sys set 01\")\n",
    "plot_histogram(sys_hist, ax=ax, label=\"sys set 01\")\n",
    "plot_histogram(nominal_hist, ax=ax, label=\"nominal\")\n",
    "plt.xlabel(\"true energy\")\n",
    "plt.semilogx()\n",
    "plt.legend()\n",
    "plt.show()"
   ]
  },
  {
   "cell_type": "code",
   "execution_count": 81,
   "id": "58d6b191",
   "metadata": {},
   "outputs": [
    {
     "data": {
      "image/png": "[encoded data removed]",
      "text/plain": [
       "<Figure size 640x480 with 2 Axes>"
      ]
     },
     "metadata": {},
     "output_type": "display_data"
    }
   ],
   "source": [
    "# sweep response parameter mu around nominal value and plot the histograms\n",
    "mus = np.linspace(0.95, 1.05, 100)\n",
    "hists = []\n",
    "for mu in mus:\n",
    "    response = generator.Response(mu * default_response.mu, default_response.sigma)\n",
    "    hists.append(generate_histogram_at_response(df_grad_net, default_response, response, bin_edges))\n",
    "\n",
    "fig, ax = plt.subplots()\n",
    "# make list of colors from a colormap\n",
    "colors = plt.cm.viridis(np.linspace(0, 1, len(mus)))\n",
    "for hist, mu, color in zip(hists, mus, colors):\n",
    "    plot_histogram(hist, ax=ax, show_errorband=False, label=\"mu = {}\".format(mu), color=color)\n",
    "# make colorbar\n",
    "sm = plt.cm.ScalarMappable(cmap=plt.cm.viridis, norm=plt.Normalize(vmin=mus.min(), vmax=mus.max()))\n",
    "sm._A = []\n",
    "cbar = plt.colorbar(sm, ax=ax)\n",
    "cbar.set_label(\"mu\")\n",
    "plt.xlabel(\"reco energy\")\n",
    "plt.ylabel(\"counts\")\n",
    "plt.semilogx()\n",
    "plt.show()\n"
   ]
  },
  {
   "cell_type": "code",
   "execution_count": null,
   "id": "0fbf10c5",
   "metadata": {},
   "outputs": [],
   "source": []
  }
 ],
 "metadata": {
  "kernelspec": {
   "display_name": "venv",
   "language": "python",
   "name": "python3"
  },
  "language_info": {
   "codemirror_mode": {
    "name": "ipython",
    "version": 3
   },
   "file_extension": ".py",
   "mimetype": "text/x-python",
   "name": "python",
   "nbconvert_exporter": "python",
   "pygments_lexer": "ipython3",
   "version": "3.10.10"
  },
  "vscode": {
   "interpreter": {
    "hash": "66ea1c9d025acb68a54b6c7c519f417c7044a190d03292453d0fe121ced166f8"
   }
  }
 },
 "nbformat": 4,
 "nbformat_minor": 5
}
