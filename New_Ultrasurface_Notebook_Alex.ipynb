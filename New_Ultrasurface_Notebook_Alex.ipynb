{
 "cells": [
  {
   "cell_type": "code",
   "execution_count": 1,
   "id": "ea3bb7a3",
   "metadata": {},
   "outputs": [],
   "source": [
    "import os\n",
    "\n",
    "import matplotlib.pyplot as plt\n",
    "import numpy as np\n",
    "import pandas as pd\n",
    "import tqdm\n",
    "\n",
    "#plt.style.use(\"ultrasurfaces_plotstyle.mplstyle\")\n",
    "\n",
    "from toy_mc import generator\n",
    "from importlib import reload"
   ]
  },
  {
   "cell_type": "code",
   "execution_count": 2,
   "id": "24aab93a",
   "metadata": {
    "tags": []
   },
   "outputs": [],
   "source": [
    "delta_msq_31 = 2.515e-3\n",
    "sinsq_theta_23 = 0.565\n",
    "# convert this to sin**2(2 \\theta)\n",
    "theta_23 = np.arcsin(np.sqrt(sinsq_theta_23))\n",
    "sinsq_2theta_23 = np.sin(2 * theta_23)**2\n",
    "default_pars = generator.OscPars(delta_msq_31, sinsq_2theta_23)\n",
    "\n",
    "default_response = generator.Response(1., 0.05)\n",
    "\n",
    "bin_edges = np.logspace(1., 2., 26)"
   ]
  },
  {
   "cell_type": "code",
   "execution_count": 3,
   "id": "0aba8bba",
   "metadata": {},
   "outputs": [
    {
     "data": {
      "text/plain": [
       "<module 'toy_mc.generator' from '/Users/trettin/Documents/ultrasurfaces/toy_mc/generator.py'>"
      ]
     },
     "execution_count": 3,
     "metadata": {},
     "output_type": "execute_result"
    }
   ],
   "source": [
    "reload(generator)"
   ]
  },
  {
   "cell_type": "code",
   "execution_count": 4,
   "id": "865d5301",
   "metadata": {},
   "outputs": [
    {
     "name": "stdout",
     "output_type": "stream",
     "text": [
      "Generating events with log10(E / GeV) from a Gaussian with mean 1.3 and wdith 0.5 and cos(zenith) values uniformly sampled between -1.0 and -1.0.\n"
     ]
    }
   ],
   "source": [
    "gen = generator.Generator(int(1e5), default_response, default_pars)\n",
    "h0 = gen.get_histogram(bin_edges)"
   ]
  },
  {
   "cell_type": "code",
   "execution_count": 5,
   "id": "fd40a4a6",
   "metadata": {},
   "outputs": [
    {
     "data": {
      "text/plain": [
       "Response(mu=1.0, sigma=0.05)"
      ]
     },
     "execution_count": 5,
     "metadata": {},
     "output_type": "execute_result"
    }
   ],
   "source": [
    "gen.detector_response"
   ]
  },
  {
   "cell_type": "code",
   "execution_count": 6,
   "id": "78564409",
   "metadata": {},
   "outputs": [
    {
     "data": {
      "text/plain": [
       "array([34.23677811, 42.13328073, 47.18529237, 47.34169062, 42.38404775,\n",
       "       35.02243502, 27.04827081, 18.93463071, 12.78249099,  7.99674273,\n",
       "        6.16437829,  7.00959242,  9.25194024, 12.23818217, 14.96052308,\n",
       "       18.04377172, 20.76493268, 23.60023021, 24.55630499, 27.31751442,\n",
       "       28.04885297, 29.10839798, 29.24230985, 28.69309373, 28.83835312])"
      ]
     },
     "execution_count": 6,
     "metadata": {},
     "output_type": "execute_result"
    }
   ],
   "source": [
    "h0.hist_unc"
   ]
  },
  {
   "cell_type": "code",
   "execution_count": 7,
   "id": "7b08df05",
   "metadata": {},
   "outputs": [
    {
     "data": {
      "text/plain": [
       "array([1569.13043433, 2115.40572856, 2495.55888032, 2553.64596552,\n",
       "       2226.70133493, 1775.063787  , 1285.82623571,  822.19937904,\n",
       "        493.88926465,  293.53375762,  238.01451821,  280.50455775,\n",
       "        387.15922895,  531.12209925,  682.02449989,  828.63342304,\n",
       "        966.3818732 , 1089.62395316, 1062.25373671, 1204.15760817,\n",
       "       1180.60259311, 1190.468666  , 1143.9332755 , 1052.49367052,\n",
       "       1023.59848693])"
      ]
     },
     "execution_count": 7,
     "metadata": {},
     "output_type": "execute_result"
    }
   ],
   "source": [
    "h0.hist"
   ]
  },
  {
   "cell_type": "code",
   "execution_count": 8,
   "id": "71ff0791",
   "metadata": {},
   "outputs": [],
   "source": [
    "from toy_mc.histogram import plot_histogram"
   ]
  },
  {
   "cell_type": "code",
   "execution_count": 9,
   "id": "6b472c1e",
   "metadata": {},
   "outputs": [
    {
     "data": {
      "image/png": "[encoded data removed]",
      "text/plain": [
       "<Figure size 640x480 with 1 Axes>"
      ]
     },
     "metadata": {},
     "output_type": "display_data"
    }
   ],
   "source": [
    "fig, ax = plt.subplots()\n",
    "plot_histogram(h0, ax=ax)\n",
    "plot_histogram(h0 / 2, ax=ax)"
   ]
  },
  {
   "cell_type": "code",
   "execution_count": 10,
   "id": "77cc38b2",
   "metadata": {},
   "outputs": [
    {
     "data": {
      "text/html": [
       "<div>\n",
       "<style scoped>\n",
       "    .dataframe tbody tr th:only-of-type {\n",
       "        vertical-align: middle;\n",
       "    }\n",
       "\n",
       "    .dataframe tbody tr th {\n",
       "        vertical-align: top;\n",
       "    }\n",
       "\n",
       "    .dataframe thead th {\n",
       "        text-align: right;\n",
       "    }\n",
       "</style>\n",
       "<table border=\"1\" class=\"dataframe\">\n",
       "  <thead>\n",
       "    <tr style=\"text-align: right;\">\n",
       "      <th></th>\n",
       "      <th>true_energy</th>\n",
       "      <th>true_cos(zen)</th>\n",
       "      <th>weights_pre_detector</th>\n",
       "      <th>reco_energy</th>\n",
       "      <th>weights</th>\n",
       "    </tr>\n",
       "  </thead>\n",
       "  <tbody>\n",
       "    <tr>\n",
       "      <th>0</th>\n",
       "      <td>4.472318</td>\n",
       "      <td>-1.0</td>\n",
       "      <td>0.894749</td>\n",
       "      <td>4.204319</td>\n",
       "      <td>0.894749</td>\n",
       "    </tr>\n",
       "    <tr>\n",
       "      <th>1</th>\n",
       "      <td>12.123394</td>\n",
       "      <td>-1.0</td>\n",
       "      <td>0.956377</td>\n",
       "      <td>11.012076</td>\n",
       "      <td>0.956377</td>\n",
       "    </tr>\n",
       "    <tr>\n",
       "      <th>2</th>\n",
       "      <td>8.168107</td>\n",
       "      <td>-1.0</td>\n",
       "      <td>0.084578</td>\n",
       "      <td>7.948751</td>\n",
       "      <td>0.084578</td>\n",
       "    </tr>\n",
       "    <tr>\n",
       "      <th>3</th>\n",
       "      <td>16.215172</td>\n",
       "      <td>-1.0</td>\n",
       "      <td>0.654954</td>\n",
       "      <td>16.568242</td>\n",
       "      <td>0.654954</td>\n",
       "    </tr>\n",
       "    <tr>\n",
       "      <th>4</th>\n",
       "      <td>8.324575</td>\n",
       "      <td>-1.0</td>\n",
       "      <td>0.045672</td>\n",
       "      <td>8.628784</td>\n",
       "      <td>0.045672</td>\n",
       "    </tr>\n",
       "    <tr>\n",
       "      <th>...</th>\n",
       "      <td>...</td>\n",
       "      <td>...</td>\n",
       "      <td>...</td>\n",
       "      <td>...</td>\n",
       "      <td>...</td>\n",
       "    </tr>\n",
       "    <tr>\n",
       "      <th>99995</th>\n",
       "      <td>15.903282</td>\n",
       "      <td>-1.0</td>\n",
       "      <td>0.700320</td>\n",
       "      <td>19.642015</td>\n",
       "      <td>0.700320</td>\n",
       "    </tr>\n",
       "    <tr>\n",
       "      <th>99996</th>\n",
       "      <td>2.397543</td>\n",
       "      <td>-1.0</td>\n",
       "      <td>0.114069</td>\n",
       "      <td>2.304488</td>\n",
       "      <td>0.114069</td>\n",
       "    </tr>\n",
       "    <tr>\n",
       "      <th>99997</th>\n",
       "      <td>37.500158</td>\n",
       "      <td>-1.0</td>\n",
       "      <td>0.231827</td>\n",
       "      <td>38.124071</td>\n",
       "      <td>0.231827</td>\n",
       "    </tr>\n",
       "    <tr>\n",
       "      <th>99998</th>\n",
       "      <td>6.368550</td>\n",
       "      <td>-1.0</td>\n",
       "      <td>0.989950</td>\n",
       "      <td>5.885231</td>\n",
       "      <td>0.989950</td>\n",
       "    </tr>\n",
       "    <tr>\n",
       "      <th>99999</th>\n",
       "      <td>1.871433</td>\n",
       "      <td>-1.0</td>\n",
       "      <td>0.932769</td>\n",
       "      <td>1.965275</td>\n",
       "      <td>0.932769</td>\n",
       "    </tr>\n",
       "  </tbody>\n",
       "</table>\n",
       "<p>100000 rows × 5 columns</p>\n",
       "</div>"
      ],
      "text/plain": [
       "       true_energy  true_cos(zen)  weights_pre_detector  reco_energy   weights\n",
       "0         4.472318           -1.0              0.894749     4.204319  0.894749\n",
       "1        12.123394           -1.0              0.956377    11.012076  0.956377\n",
       "2         8.168107           -1.0              0.084578     7.948751  0.084578\n",
       "3        16.215172           -1.0              0.654954    16.568242  0.654954\n",
       "4         8.324575           -1.0              0.045672     8.628784  0.045672\n",
       "...            ...            ...                   ...          ...       ...\n",
       "99995    15.903282           -1.0              0.700320    19.642015  0.700320\n",
       "99996     2.397543           -1.0              0.114069     2.304488  0.114069\n",
       "99997    37.500158           -1.0              0.231827    38.124071  0.231827\n",
       "99998     6.368550           -1.0              0.989950     5.885231  0.989950\n",
       "99999     1.871433           -1.0              0.932769     1.965275  0.932769\n",
       "\n",
       "[100000 rows x 5 columns]"
      ]
     },
     "execution_count": 10,
     "metadata": {},
     "output_type": "execute_result"
    }
   ],
   "source": [
    "gen.events"
   ]
  },
  {
   "cell_type": "code",
   "execution_count": 11,
   "id": "f3c756de",
   "metadata": {},
   "outputs": [
    {
     "name": "stdout",
     "output_type": "stream",
     "text": [
      "Generating events with log10(E / GeV) from a Gaussian with mean 1.3 and wdith 0.5 and cos(zenith) values uniformly sampled between -1.0 and -1.0.\n"
     ]
    }
   ],
   "source": [
    "gen_2 = generator.Generator(\n",
    "    int(1e5),\n",
    "    default_response,\n",
    "    generator.OscPars(1.2 * default_pars.delta_mqs, default_pars.sinsq_2theta),\n",
    ")\n",
    "h2 = gen_2.get_histogram(bin_edges)"
   ]
  },
  {
   "cell_type": "code",
   "execution_count": 12,
   "id": "6b9cd6a3",
   "metadata": {},
   "outputs": [
    {
     "name": "stdout",
     "output_type": "stream",
     "text": [
      "Generating events with log10(E / GeV) from a Gaussian with mean 1.3 and wdith 0.5 and cos(zenith) values uniformly sampled between -1.0 and -1.0.\n"
     ]
    }
   ],
   "source": [
    "gen_3 = generator.Generator(\n",
    "    int(1e5), generator.Response(1.2 * default_response.mu, default_response.sigma), default_pars\n",
    ")\n",
    "h3 = gen_3.get_histogram(bin_edges)"
   ]
  },
  {
   "cell_type": "code",
   "execution_count": 13,
   "id": "1e4f89a6",
   "metadata": {},
   "outputs": [
    {
     "data": {
      "text/plain": [
       "<matplotlib.legend.Legend at 0x12fae7c70>"
      ]
     },
     "execution_count": 13,
     "metadata": {},
     "output_type": "execute_result"
    },
    {
     "data": {
      "image/png": "[encoded data removed]",
      "text/plain": [
       "<Figure size 640x480 with 1 Axes>"
      ]
     },
     "metadata": {},
     "output_type": "display_data"
    }
   ],
   "source": [
    "from toy_mc.histogram import plot_histogram\n",
    "\n",
    "fig, ax = plt.subplots()\n",
    "\n",
    "plot_histogram(h0, ax=ax, label=r'default histogram')\n",
    "\n",
    "plot_histogram(h2, ax=ax, label=r'1.2 x $\\Delta_m^2$ ')\n",
    "\n",
    "plot_histogram(h3, ax=ax, label=r'1.2 x $\\mu$')\n",
    "\n",
    "\n",
    "plt.xscale('log')\n",
    "plt.xlabel(r'$E_{\\rm reco}$ [GeV]')\n",
    "plt.ylabel(r'$N_{\\rm events}$')\n",
    "\n",
    "plt.legend()"
   ]
  },
  {
   "cell_type": "code",
   "execution_count": 14,
   "id": "a8bbac1b",
   "metadata": {},
   "outputs": [],
   "source": [
    "from sklearn import preprocessing\n",
    "from sklearn.compose import make_column_transformer"
   ]
  },
  {
   "cell_type": "code",
   "execution_count": 15,
   "id": "fd1ed4cb",
   "metadata": {},
   "outputs": [],
   "source": [
    "from surfaces import calculate_knn_probs as knn_probs"
   ]
  },
  {
   "cell_type": "code",
   "execution_count": 16,
   "id": "79ca6a6c",
   "metadata": {},
   "outputs": [
    {
     "name": "stdout",
     "output_type": "stream",
     "text": [
      "Generating events with log10(E / GeV) from a Gaussian with mean 1.3 and wdith 0.5 and cos(zenith) values uniformly sampled between -1.0 and -1.0.\n",
      "Generating events with log10(E / GeV) from a Gaussian with mean 1.3 and wdith 0.5 and cos(zenith) values uniformly sampled between -1.0 and -1.0.\n",
      "Generating events with log10(E / GeV) from a Gaussian with mean 1.3 and wdith 0.5 and cos(zenith) values uniformly sampled between -1.0 and -1.0.\n"
     ]
    }
   ],
   "source": [
    "reload(generator)\n",
    "gen_nominal = generator.Generator(\n",
    "    int(1e5), default_response, default_pars, name=\"nominal\"\n",
    ")\n",
    "# It looks like there is a breakdown point where, if the response is *too* different,\n",
    "# the whole thing doesn't work anymore.\n",
    "gen_sys_1 = generator.Generator(\n",
    "    int(1e5),\n",
    "    generator.Response(1.1 * default_response.mu, default_response.sigma),\n",
    "    default_pars,\n",
    "    name=\"sys_01\",\n",
    ")\n",
    "gen_sys_2 = generator.Generator(\n",
    "    int(1e5),\n",
    "    generator.Response(0.90 * default_response.mu, default_response.sigma),\n",
    "    default_pars,\n",
    "    name=\"sys_02\",\n",
    ")"
   ]
  },
  {
   "cell_type": "code",
   "execution_count": 17,
   "id": "5bdabeb0",
   "metadata": {},
   "outputs": [
    {
     "name": "stdout",
     "output_type": "stream",
     "text": [
      "Starting KNN evaluation on 10 chunks of data...\n"
     ]
    },
    {
     "name": "stderr",
     "output_type": "stream",
     "text": [
      "  0%|          | 0/10 [00:00<?, ?it/s]OMP: Info #276: omp_set_nested routine deprecated, please use omp_set_max_active_levels instead.\n",
      "100%|██████████| 10/10 [00:13<00:00,  1.39s/it]\n"
     ]
    }
   ],
   "source": [
    "reload(knn_probs)\n",
    "df_with_probs = knn_probs.calculate_knn_probs(\n",
    "    gen_nominal,\n",
    "    [gen_sys_1, gen_sys_2],\n",
    "    variables=[\"true_energy\", \"reco_energy\"],\n",
    "    tilt_bias_correction=True,\n",
    "    neighbors_per_class=200\n",
    ")"
   ]
  },
  {
   "cell_type": "code",
   "execution_count": 18,
   "id": "33cd3331",
   "metadata": {},
   "outputs": [
    {
     "name": "stdout",
     "output_type": "stream",
     "text": [
      "Starting KNN evaluation on 10 chunks of data...\n"
     ]
    },
    {
     "name": "stderr",
     "output_type": "stream",
     "text": [
      "100%|██████████| 10/10 [00:07<00:00,  1.34it/s]\n"
     ]
    }
   ],
   "source": [
    "df_with_probs_no_tilt_corr = knn_probs.calculate_knn_probs(\n",
    "    gen_nominal,\n",
    "    [gen_sys_1, gen_sys_2],\n",
    "    variables=[\"true_energy\", \"reco_energy\"],\n",
    "    tilt_bias_correction=False,\n",
    "    neighbors_per_class=200\n",
    ")"
   ]
  },
  {
   "cell_type": "code",
   "execution_count": 19,
   "id": "8c787368",
   "metadata": {},
   "outputs": [
    {
     "data": {
      "text/html": [
       "<div>\n",
       "<style scoped>\n",
       "    .dataframe tbody tr th:only-of-type {\n",
       "        vertical-align: middle;\n",
       "    }\n",
       "\n",
       "    .dataframe tbody tr th {\n",
       "        vertical-align: top;\n",
       "    }\n",
       "\n",
       "    .dataframe thead th {\n",
       "        text-align: right;\n",
       "    }\n",
       "</style>\n",
       "<table border=\"1\" class=\"dataframe\">\n",
       "  <thead>\n",
       "    <tr style=\"text-align: right;\">\n",
       "      <th></th>\n",
       "      <th>true_energy</th>\n",
       "      <th>true_cos(zen)</th>\n",
       "      <th>weights_pre_detector</th>\n",
       "      <th>reco_energy</th>\n",
       "      <th>weights</th>\n",
       "      <th>set</th>\n",
       "      <th>prob_nominal</th>\n",
       "      <th>prob_sys_01</th>\n",
       "      <th>prob_sys_02</th>\n",
       "    </tr>\n",
       "  </thead>\n",
       "  <tbody>\n",
       "    <tr>\n",
       "      <th>0</th>\n",
       "      <td>15.359421</td>\n",
       "      <td>-1.0</td>\n",
       "      <td>0.778676</td>\n",
       "      <td>16.658319</td>\n",
       "      <td>0.778676</td>\n",
       "      <td>nominal</td>\n",
       "      <td>0.678363</td>\n",
       "      <td>0.299540</td>\n",
       "      <td>0.022098</td>\n",
       "    </tr>\n",
       "    <tr>\n",
       "      <th>1</th>\n",
       "      <td>3.288955</td>\n",
       "      <td>-1.0</td>\n",
       "      <td>0.959714</td>\n",
       "      <td>3.646297</td>\n",
       "      <td>0.959714</td>\n",
       "      <td>nominal</td>\n",
       "      <td>0.191253</td>\n",
       "      <td>0.808247</td>\n",
       "      <td>0.000499</td>\n",
       "    </tr>\n",
       "    <tr>\n",
       "      <th>2</th>\n",
       "      <td>8.062961</td>\n",
       "      <td>-1.0</td>\n",
       "      <td>0.120370</td>\n",
       "      <td>8.160160</td>\n",
       "      <td>0.120370</td>\n",
       "      <td>nominal</td>\n",
       "      <td>0.783779</td>\n",
       "      <td>0.148108</td>\n",
       "      <td>0.068114</td>\n",
       "    </tr>\n",
       "    <tr>\n",
       "      <th>3</th>\n",
       "      <td>8.035772</td>\n",
       "      <td>-1.0</td>\n",
       "      <td>0.130889</td>\n",
       "      <td>8.010161</td>\n",
       "      <td>0.130889</td>\n",
       "      <td>nominal</td>\n",
       "      <td>0.768255</td>\n",
       "      <td>0.121775</td>\n",
       "      <td>0.109971</td>\n",
       "    </tr>\n",
       "    <tr>\n",
       "      <th>4</th>\n",
       "      <td>38.951530</td>\n",
       "      <td>-1.0</td>\n",
       "      <td>0.265525</td>\n",
       "      <td>37.449274</td>\n",
       "      <td>0.265525</td>\n",
       "      <td>nominal</td>\n",
       "      <td>0.790360</td>\n",
       "      <td>0.059422</td>\n",
       "      <td>0.150218</td>\n",
       "    </tr>\n",
       "    <tr>\n",
       "      <th>...</th>\n",
       "      <td>...</td>\n",
       "      <td>...</td>\n",
       "      <td>...</td>\n",
       "      <td>...</td>\n",
       "      <td>...</td>\n",
       "      <td>...</td>\n",
       "      <td>...</td>\n",
       "      <td>...</td>\n",
       "      <td>...</td>\n",
       "    </tr>\n",
       "    <tr>\n",
       "      <th>99995</th>\n",
       "      <td>10.482301</td>\n",
       "      <td>-1.0</td>\n",
       "      <td>0.555655</td>\n",
       "      <td>12.735878</td>\n",
       "      <td>0.555655</td>\n",
       "      <td>nominal</td>\n",
       "      <td>0.216161</td>\n",
       "      <td>0.783611</td>\n",
       "      <td>0.000229</td>\n",
       "    </tr>\n",
       "    <tr>\n",
       "      <th>99996</th>\n",
       "      <td>19.151503</td>\n",
       "      <td>-1.0</td>\n",
       "      <td>0.287471</td>\n",
       "      <td>16.335219</td>\n",
       "      <td>0.287471</td>\n",
       "      <td>nominal</td>\n",
       "      <td>0.447413</td>\n",
       "      <td>0.012236</td>\n",
       "      <td>0.540351</td>\n",
       "    </tr>\n",
       "    <tr>\n",
       "      <th>99997</th>\n",
       "      <td>2.437564</td>\n",
       "      <td>-1.0</td>\n",
       "      <td>0.328732</td>\n",
       "      <td>2.622619</td>\n",
       "      <td>0.328732</td>\n",
       "      <td>nominal</td>\n",
       "      <td>0.246719</td>\n",
       "      <td>0.748373</td>\n",
       "      <td>0.004907</td>\n",
       "    </tr>\n",
       "    <tr>\n",
       "      <th>99998</th>\n",
       "      <td>8.134756</td>\n",
       "      <td>-1.0</td>\n",
       "      <td>0.095088</td>\n",
       "      <td>8.592097</td>\n",
       "      <td>0.095088</td>\n",
       "      <td>nominal</td>\n",
       "      <td>0.720300</td>\n",
       "      <td>0.255498</td>\n",
       "      <td>0.024202</td>\n",
       "    </tr>\n",
       "    <tr>\n",
       "      <th>99999</th>\n",
       "      <td>9.722809</td>\n",
       "      <td>-1.0</td>\n",
       "      <td>0.268566</td>\n",
       "      <td>8.739757</td>\n",
       "      <td>0.268566</td>\n",
       "      <td>nominal</td>\n",
       "      <td>0.524004</td>\n",
       "      <td>0.015573</td>\n",
       "      <td>0.460423</td>\n",
       "    </tr>\n",
       "  </tbody>\n",
       "</table>\n",
       "<p>100000 rows × 9 columns</p>\n",
       "</div>"
      ],
      "text/plain": [
       "       true_energy  true_cos(zen)  weights_pre_detector  reco_energy  \\\n",
       "0        15.359421           -1.0              0.778676    16.658319   \n",
       "1         3.288955           -1.0              0.959714     3.646297   \n",
       "2         8.062961           -1.0              0.120370     8.160160   \n",
       "3         8.035772           -1.0              0.130889     8.010161   \n",
       "4        38.951530           -1.0              0.265525    37.449274   \n",
       "...            ...            ...                   ...          ...   \n",
       "99995    10.482301           -1.0              0.555655    12.735878   \n",
       "99996    19.151503           -1.0              0.287471    16.335219   \n",
       "99997     2.437564           -1.0              0.328732     2.622619   \n",
       "99998     8.134756           -1.0              0.095088     8.592097   \n",
       "99999     9.722809           -1.0              0.268566     8.739757   \n",
       "\n",
       "        weights      set  prob_nominal  prob_sys_01  prob_sys_02  \n",
       "0      0.778676  nominal      0.678363     0.299540     0.022098  \n",
       "1      0.959714  nominal      0.191253     0.808247     0.000499  \n",
       "2      0.120370  nominal      0.783779     0.148108     0.068114  \n",
       "3      0.130889  nominal      0.768255     0.121775     0.109971  \n",
       "4      0.265525  nominal      0.790360     0.059422     0.150218  \n",
       "...         ...      ...           ...          ...          ...  \n",
       "99995  0.555655  nominal      0.216161     0.783611     0.000229  \n",
       "99996  0.287471  nominal      0.447413     0.012236     0.540351  \n",
       "99997  0.328732  nominal      0.246719     0.748373     0.004907  \n",
       "99998  0.095088  nominal      0.720300     0.255498     0.024202  \n",
       "99999  0.268566  nominal      0.524004     0.015573     0.460423  \n",
       "\n",
       "[100000 rows x 9 columns]"
      ]
     },
     "execution_count": 19,
     "metadata": {},
     "output_type": "execute_result"
    }
   ],
   "source": [
    "df_with_probs"
   ]
  },
  {
   "cell_type": "code",
   "execution_count": 20,
   "id": "d8fe2907",
   "metadata": {},
   "outputs": [],
   "source": [
    "from toy_mc.histogram import Histogram"
   ]
  },
  {
   "cell_type": "code",
   "execution_count": 21,
   "id": "3375d4b4",
   "metadata": {},
   "outputs": [],
   "source": [
    "weighted_hist = Histogram(bin_edges)\n",
    "weighted_hist.fill(\n",
    "    df_with_probs[\"reco_energy\"],\n",
    "    df_with_probs[\"weights\"]\n",
    "    * df_with_probs[\"prob_sys_01\"]\n",
    "    / df_with_probs[\"prob_nominal\"],\n",
    ")\n",
    "\n",
    "weighted_hist_no_tilt_corr = Histogram(bin_edges)\n",
    "weighted_hist_no_tilt_corr.fill(\n",
    "    df_with_probs_no_tilt_corr[\"reco_energy\"],\n",
    "    df_with_probs_no_tilt_corr[\"weights\"]\n",
    "    * df_with_probs_no_tilt_corr[\"prob_sys_01\"]\n",
    "    / df_with_probs_no_tilt_corr[\"prob_nominal\"],\n",
    ")"
   ]
  },
  {
   "cell_type": "code",
   "execution_count": 22,
   "id": "d3d059b9",
   "metadata": {},
   "outputs": [
    {
     "data": {
      "image/png": "[encoded data removed]",
      "text/plain": [
       "<Figure size 640x480 with 1 Axes>"
      ]
     },
     "metadata": {},
     "output_type": "display_data"
    }
   ],
   "source": [
    "from toy_mc.histogram import plot_histogram\n",
    "\n",
    "fig, ax = plt.subplots()\n",
    "\n",
    "sys_hist = gen_sys_1.get_histogram(bin_edges)\n",
    "nominal_hist = gen_nominal.get_histogram(bin_edges)\n",
    "\n",
    "plot_histogram(nominal_hist, ax=ax, label=\"nominal\")\n",
    "plot_histogram(sys_hist, ax=ax, label=\"sys set 01\")\n",
    "plot_histogram(weighted_hist, ax=ax, label=\"nominal reweighted to set 01\")\n",
    "plot_histogram(weighted_hist_no_tilt_corr, ax=ax, label=\"without tilt corr\")\n",
    "plt.semilogx()\n",
    "plt.legend()\n",
    "plt.show()"
   ]
  },
  {
   "cell_type": "code",
   "execution_count": 38,
   "id": "092dfd3a",
   "metadata": {},
   "outputs": [
    {
     "data": {
      "text/plain": [
       "<module 'surfaces.calculate_grads' from '/Users/trettin/Documents/ultrasurfaces/surfaces/calculate_grads.py'>"
      ]
     },
     "execution_count": 38,
     "metadata": {},
     "output_type": "execute_result"
    }
   ],
   "source": [
    "from surfaces import calculate_grads\n",
    "reload(calculate_grads)"
   ]
  },
  {
   "cell_type": "code",
   "execution_count": 62,
   "id": "b461cda3",
   "metadata": {},
   "outputs": [
    {
     "data": {
      "text/plain": [
       "['grad__mu', 'grad__mu__mu']"
      ]
     },
     "execution_count": 62,
     "metadata": {},
     "output_type": "execute_result"
    }
   ],
   "source": [
    "# get gradient names for systematic \"mu\"\n",
    "grad_names = calculate_grads.make_gradient_names([\"mu\"], 2)\n",
    "grad_names"
   ]
  },
  {
   "cell_type": "code",
   "execution_count": 63,
   "id": "c90ccfe0",
   "metadata": {},
   "outputs": [
    {
     "data": {
      "text/plain": [
       "array([[ 0.  ,  0.1 , -0.1 ],\n",
       "       [ 0.  ,  0.01,  0.01]])"
      ]
     },
     "execution_count": 63,
     "metadata": {},
     "output_type": "execute_result"
    }
   ],
   "source": [
    "# make delta_p matrix for the systematic \"mu\" \n",
    "# (i.e. the detector response)\n",
    "delta_p = calculate_grads.make_delta_p_from_grad_names(\n",
    "    grad_names, [gen_sys_1, gen_sys_2], gen_nominal\n",
    ")\n",
    "delta_p"
   ]
  },
  {
   "cell_type": "code",
   "execution_count": 64,
   "id": "e8191f83",
   "metadata": {},
   "outputs": [
    {
     "name": "stderr",
     "output_type": "stream",
     "text": [
      "100%|██████████| 100000/100000 [00:52<00:00, 1891.11it/s]\n"
     ]
    }
   ],
   "source": [
    "# reload(calculate_grads)\n",
    "df_with_grads = calculate_grads.fit_gradients(\n",
    "    df_with_probs, prob_columns=[\"prob_nominal\", \"prob_sys_01\", \"prob_sys_02\"], delta_p=delta_p, grad_names=grad_names\n",
    ")"
   ]
  },
  {
   "cell_type": "code",
   "execution_count": 65,
   "id": "7c1400b5",
   "metadata": {},
   "outputs": [
    {
     "data": {
      "text/html": [
       "<div>\n",
       "<style scoped>\n",
       "    .dataframe tbody tr th:only-of-type {\n",
       "        vertical-align: middle;\n",
       "    }\n",
       "\n",
       "    .dataframe tbody tr th {\n",
       "        vertical-align: top;\n",
       "    }\n",
       "\n",
       "    .dataframe thead th {\n",
       "        text-align: right;\n",
       "    }\n",
       "</style>\n",
       "<table border=\"1\" class=\"dataframe\">\n",
       "  <thead>\n",
       "    <tr style=\"text-align: right;\">\n",
       "      <th></th>\n",
       "      <th>true_energy</th>\n",
       "      <th>true_cos(zen)</th>\n",
       "      <th>weights_pre_detector</th>\n",
       "      <th>reco_energy</th>\n",
       "      <th>weights</th>\n",
       "      <th>set</th>\n",
       "      <th>prob_nominal</th>\n",
       "      <th>prob_sys_01</th>\n",
       "      <th>prob_sys_02</th>\n",
       "      <th>grad__mu</th>\n",
       "      <th>grad__mu__mu</th>\n",
       "    </tr>\n",
       "  </thead>\n",
       "  <tbody>\n",
       "    <tr>\n",
       "      <th>0</th>\n",
       "      <td>15.359421</td>\n",
       "      <td>-1.0</td>\n",
       "      <td>0.778676</td>\n",
       "      <td>16.658319</td>\n",
       "      <td>0.778676</td>\n",
       "      <td>nominal</td>\n",
       "      <td>0.678363</td>\n",
       "      <td>0.299540</td>\n",
       "      <td>0.022098</td>\n",
       "      <td>13.039702</td>\n",
       "      <td>-212.127942</td>\n",
       "    </tr>\n",
       "    <tr>\n",
       "      <th>1</th>\n",
       "      <td>3.288955</td>\n",
       "      <td>-1.0</td>\n",
       "      <td>0.959714</td>\n",
       "      <td>3.646297</td>\n",
       "      <td>0.959714</td>\n",
       "      <td>nominal</td>\n",
       "      <td>0.191253</td>\n",
       "      <td>0.808247</td>\n",
       "      <td>0.000499</td>\n",
       "      <td>36.908142</td>\n",
       "      <td>-224.975443</td>\n",
       "    </tr>\n",
       "    <tr>\n",
       "      <th>2</th>\n",
       "      <td>8.062961</td>\n",
       "      <td>-1.0</td>\n",
       "      <td>0.120370</td>\n",
       "      <td>8.160160</td>\n",
       "      <td>0.120370</td>\n",
       "      <td>nominal</td>\n",
       "      <td>0.783779</td>\n",
       "      <td>0.148108</td>\n",
       "      <td>0.068114</td>\n",
       "      <td>3.885177</td>\n",
       "      <td>-205.450525</td>\n",
       "    </tr>\n",
       "    <tr>\n",
       "      <th>3</th>\n",
       "      <td>8.035772</td>\n",
       "      <td>-1.0</td>\n",
       "      <td>0.130889</td>\n",
       "      <td>8.010161</td>\n",
       "      <td>0.130889</td>\n",
       "      <td>nominal</td>\n",
       "      <td>0.768255</td>\n",
       "      <td>0.121775</td>\n",
       "      <td>0.109971</td>\n",
       "      <td>0.508633</td>\n",
       "      <td>-189.235648</td>\n",
       "    </tr>\n",
       "    <tr>\n",
       "      <th>4</th>\n",
       "      <td>38.951530</td>\n",
       "      <td>-1.0</td>\n",
       "      <td>0.265525</td>\n",
       "      <td>37.449274</td>\n",
       "      <td>0.265525</td>\n",
       "      <td>nominal</td>\n",
       "      <td>0.790360</td>\n",
       "      <td>0.059422</td>\n",
       "      <td>0.150218</td>\n",
       "      <td>-4.638560</td>\n",
       "      <td>-212.364197</td>\n",
       "    </tr>\n",
       "    <tr>\n",
       "      <th>...</th>\n",
       "      <td>...</td>\n",
       "      <td>...</td>\n",
       "      <td>...</td>\n",
       "      <td>...</td>\n",
       "      <td>...</td>\n",
       "      <td>...</td>\n",
       "      <td>...</td>\n",
       "      <td>...</td>\n",
       "      <td>...</td>\n",
       "      <td>...</td>\n",
       "      <td>...</td>\n",
       "    </tr>\n",
       "    <tr>\n",
       "      <th>99995</th>\n",
       "      <td>10.482301</td>\n",
       "      <td>-1.0</td>\n",
       "      <td>0.555655</td>\n",
       "      <td>12.735878</td>\n",
       "      <td>0.555655</td>\n",
       "      <td>nominal</td>\n",
       "      <td>0.216161</td>\n",
       "      <td>0.783611</td>\n",
       "      <td>0.000229</td>\n",
       "      <td>40.347945</td>\n",
       "      <td>-274.731091</td>\n",
       "    </tr>\n",
       "    <tr>\n",
       "      <th>99996</th>\n",
       "      <td>19.151503</td>\n",
       "      <td>-1.0</td>\n",
       "      <td>0.287471</td>\n",
       "      <td>16.335219</td>\n",
       "      <td>0.287471</td>\n",
       "      <td>nominal</td>\n",
       "      <td>0.447413</td>\n",
       "      <td>0.012236</td>\n",
       "      <td>0.540351</td>\n",
       "      <td>-18.942150</td>\n",
       "      <td>-170.524603</td>\n",
       "    </tr>\n",
       "    <tr>\n",
       "      <th>99997</th>\n",
       "      <td>2.437564</td>\n",
       "      <td>-1.0</td>\n",
       "      <td>0.328732</td>\n",
       "      <td>2.622619</td>\n",
       "      <td>0.328732</td>\n",
       "      <td>nominal</td>\n",
       "      <td>0.246719</td>\n",
       "      <td>0.748373</td>\n",
       "      <td>0.004907</td>\n",
       "      <td>25.125697</td>\n",
       "      <td>-140.306942</td>\n",
       "    </tr>\n",
       "    <tr>\n",
       "      <th>99998</th>\n",
       "      <td>8.134756</td>\n",
       "      <td>-1.0</td>\n",
       "      <td>0.095088</td>\n",
       "      <td>8.592097</td>\n",
       "      <td>0.095088</td>\n",
       "      <td>nominal</td>\n",
       "      <td>0.720300</td>\n",
       "      <td>0.255498</td>\n",
       "      <td>0.024202</td>\n",
       "      <td>11.780463</td>\n",
       "      <td>-221.457125</td>\n",
       "    </tr>\n",
       "    <tr>\n",
       "      <th>99999</th>\n",
       "      <td>9.722809</td>\n",
       "      <td>-1.0</td>\n",
       "      <td>0.268566</td>\n",
       "      <td>8.739757</td>\n",
       "      <td>0.268566</td>\n",
       "      <td>nominal</td>\n",
       "      <td>0.524004</td>\n",
       "      <td>0.015573</td>\n",
       "      <td>0.460423</td>\n",
       "      <td>-16.922900</td>\n",
       "      <td>-182.162515</td>\n",
       "    </tr>\n",
       "  </tbody>\n",
       "</table>\n",
       "<p>100000 rows × 11 columns</p>\n",
       "</div>"
      ],
      "text/plain": [
       "       true_energy  true_cos(zen)  weights_pre_detector  reco_energy  \\\n",
       "0        15.359421           -1.0              0.778676    16.658319   \n",
       "1         3.288955           -1.0              0.959714     3.646297   \n",
       "2         8.062961           -1.0              0.120370     8.160160   \n",
       "3         8.035772           -1.0              0.130889     8.010161   \n",
       "4        38.951530           -1.0              0.265525    37.449274   \n",
       "...            ...            ...                   ...          ...   \n",
       "99995    10.482301           -1.0              0.555655    12.735878   \n",
       "99996    19.151503           -1.0              0.287471    16.335219   \n",
       "99997     2.437564           -1.0              0.328732     2.622619   \n",
       "99998     8.134756           -1.0              0.095088     8.592097   \n",
       "99999     9.722809           -1.0              0.268566     8.739757   \n",
       "\n",
       "        weights      set  prob_nominal  prob_sys_01  prob_sys_02   grad__mu  \\\n",
       "0      0.778676  nominal      0.678363     0.299540     0.022098  13.039702   \n",
       "1      0.959714  nominal      0.191253     0.808247     0.000499  36.908142   \n",
       "2      0.120370  nominal      0.783779     0.148108     0.068114   3.885177   \n",
       "3      0.130889  nominal      0.768255     0.121775     0.109971   0.508633   \n",
       "4      0.265525  nominal      0.790360     0.059422     0.150218  -4.638560   \n",
       "...         ...      ...           ...          ...          ...        ...   \n",
       "99995  0.555655  nominal      0.216161     0.783611     0.000229  40.347945   \n",
       "99996  0.287471  nominal      0.447413     0.012236     0.540351 -18.942150   \n",
       "99997  0.328732  nominal      0.246719     0.748373     0.004907  25.125697   \n",
       "99998  0.095088  nominal      0.720300     0.255498     0.024202  11.780463   \n",
       "99999  0.268566  nominal      0.524004     0.015573     0.460423 -16.922900   \n",
       "\n",
       "       grad__mu__mu  \n",
       "0       -212.127942  \n",
       "1       -224.975443  \n",
       "2       -205.450525  \n",
       "3       -189.235648  \n",
       "4       -212.364197  \n",
       "...             ...  \n",
       "99995   -274.731091  \n",
       "99996   -170.524603  \n",
       "99997   -140.306942  \n",
       "99998   -221.457125  \n",
       "99999   -182.162515  \n",
       "\n",
       "[100000 rows x 11 columns]"
      ]
     },
     "execution_count": 65,
     "metadata": {},
     "output_type": "execute_result"
    }
   ],
   "source": [
    "df_with_grads"
   ]
  },
  {
   "cell_type": "code",
   "execution_count": 60,
   "id": "daa8afd7",
   "metadata": {},
   "outputs": [],
   "source": [
    "# generate a histogram by weighting the nominal events to any detector response using the gradients in the dataframe\n",
    "def generate_histogram_at_response(df, nominal_response, response, bin_edges, use_systs=None):\n",
    "    \"\"\"Generate a histogram at a given detector response.\n",
    "\n",
    "    Parameters\n",
    "    ----------\n",
    "    df : pandas.DataFrame\n",
    "        DataFrame containing the events and gradients\n",
    "    nominal_response : toy_mc.generator.Response\n",
    "        Nominal detector response\n",
    "    response : toy_mc.generator.Response\n",
    "        Detector response to weight the events to\n",
    "    bin_edges : np.ndarray\n",
    "        Bin edges for the histogram\n",
    "    use_systs : list of str, optional\n",
    "        List of systematic names to use. If None, all systematics are used.\n",
    "    \"\"\"\n",
    "    if use_systs is None:\n",
    "        grad_names = df.columns[df.columns.str.startswith(\"grad__\")]\n",
    "    else:\n",
    "        grad_names = [\"grad_{}\".format(syst) for syst in use_systs]\n",
    "    delta_p = np.ones(len(grad_names))\n",
    "    for i, grad_name in enumerate(grad_names):\n",
    "        for param in grad_name.split(\"grad\")[-1].split(\"__\")[1:]:\n",
    "            delta_p[i] *= getattr(response, param) - getattr(nominal_response, param)\n",
    "    print(delta_p)\n",
    "    weights = df[\"weights\"] * np.exp(np.dot(df[grad_names], delta_p))\n",
    "    hist = Histogram(bin_edges)\n",
    "    hist.fill(df[\"reco_energy\"], weights)\n",
    "    return hist"
   ]
  },
  {
   "cell_type": "code",
   "execution_count": 66,
   "id": "5e6efaf1",
   "metadata": {},
   "outputs": [
    {
     "name": "stdout",
     "output_type": "stream",
     "text": [
      "[0.1  0.01]\n"
     ]
    },
    {
     "data": {
      "image/png": "[encoded data removed]",
      "text/plain": [
       "<Figure size 640x480 with 1 Axes>"
      ]
     },
     "metadata": {},
     "output_type": "display_data"
    }
   ],
   "source": [
    "# generate a histogram at the response of sys set 01 using gradients\n",
    "\n",
    "hist_at_sys_01 = generate_histogram_at_response( df_with_grads, default_response, gen_sys_1.detector_response, bin_edges)\n",
    "sys_hist = gen_sys_1.get_histogram(bin_edges)\n",
    "nominal_hist = gen_nominal.get_histogram(bin_edges)\n",
    "\n",
    "# plot the histograms\n",
    "fig, ax = plt.subplots()\n",
    "plot_histogram(hist_at_sys_01, ax=ax, label=\"weighted to sys set 01\")\n",
    "plot_histogram(sys_hist, ax=ax, label=\"sys set 01\")\n",
    "plot_histogram(nominal_hist, ax=ax, label=\"nominal\")\n",
    "plt.semilogx()\n",
    "plt.legend()\n",
    "plt.show()"
   ]
  },
  {
   "cell_type": "code",
   "execution_count": null,
   "id": "58d6b191",
   "metadata": {},
   "outputs": [],
   "source": []
  }
 ],
 "metadata": {
  "kernelspec": {
   "display_name": "venv",
   "language": "python",
   "name": "python3"
  },
  "language_info": {
   "codemirror_mode": {
    "name": "ipython",
    "version": 3
   },
   "file_extension": ".py",
   "mimetype": "text/x-python",
   "name": "python",
   "nbconvert_exporter": "python",
   "pygments_lexer": "ipython3",
   "version": "3.10.6"
  },
  "vscode": {
   "interpreter": {
    "hash": "2784ad643403f2dd4f50655d9c8ce199f08e51eaff9440c3911cd6de7f959aab"
   }
  }
 },
 "nbformat": 4,
 "nbformat_minor": 5
}
