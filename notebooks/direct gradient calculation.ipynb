{
 "cells": [
  {
   "cell_type": "code",
   "execution_count": 1,
   "id": "5fe846e1",
   "metadata": {},
   "outputs": [
    {
     "name": "stderr",
     "output_type": "stream",
     "text": [
      "<< PISA_TARGET env var is defined as: \"cpu\"; PISA is running in double precision (FP64) mode; numba is running on CPU (single core) >>\n"
     ]
    }
   ],
   "source": [
    "%matplotlib inline\n",
    "\n",
    "import sys, os\n",
    "\n",
    "import numpy as np\n",
    "import matplotlib.pyplot as plt\n",
    "\n",
    "import toy_osc_analysis_with_ultrasurfaces\n",
    "from utils.plotting.standard_modules import *"
   ]
  },
  {
   "cell_type": "markdown",
   "id": "acd56ce3",
   "metadata": {},
   "source": [
    "## Create systematic sets\n",
    "We create systematic sets with on-axis and off-axis variations of `scale` and `shape` as we usually would if we were fitting hypersurfaces."
   ]
  },
  {
   "cell_type": "code",
   "execution_count": 2,
   "id": "b9bb1389",
   "metadata": {},
   "outputs": [],
   "source": [
    "nominal_set = {\"scale\": 1.0, \"shape\": 0.3}\n",
    "# decrease size of variations to make linear approx. work better\n",
    "sys_sets = [\n",
    "    # on-axis variations\n",
    "    {\"scale\": 1.05, \"shape\": 0.3},\n",
    "    {\"scale\": 0.95, \"shape\": 0.3},\n",
    "    {\"scale\": 1.0, \"shape\": 0.25},\n",
    "    {\"scale\": 1.0, \"shape\": 0.35},\n",
    "    # off-axis variations\n",
    "    {\"scale\": 1.05, \"shape\": 0.25},\n",
    "    {\"scale\": 1.05, \"shape\": 0.35},\n",
    "    {\"scale\": 0.95, \"shape\": 0.25},\n",
    "    {\"scale\": 0.95, \"shape\": 0.35},\n",
    "]\n",
    "\n",
    "for dataset in sys_sets + [nominal_set]:\n",
    "    model = toy_osc_analysis_with_ultrasurfaces.ToyOscAnalysisUltrasurf(\n",
    "        num_mc_events=100000, num_data_events=100000, dropout=True\n",
    "    )\n",
    "    model.reco_energy_bins = np.geomspace(10., 100., 25)\n",
    "    dataset[\"events\"] = model.generate_mc_events(\n",
    "        random_state=np.random.RandomState(seed=0), **dataset\n",
    "    )\n",
    "    dataset[\"template\"] = model.get_template()\n",
    "    dataset[\"model\"] = model"
   ]
  },
  {
   "cell_type": "code",
   "execution_count": 3,
   "id": "7935fb63",
   "metadata": {},
   "outputs": [
    {
     "data": {
      "image/png": "[encoded data removed]",
      "text/plain": [
       "<Figure size 432x288 with 1 Axes>"
      ]
     },
     "metadata": {
      "needs_background": "light"
     },
     "output_type": "display_data"
    }
   ],
   "source": [
    "%matplotlib inline\n",
    "fig = Figure(figsize=(6, 4))\n",
    "ax = fig.get_ax()\n",
    "\n",
    "plot_hist(ax=ax, hist=nominal_set[\"template\"],\n",
    "          label=\"nominal\", color=\"purple\", errors=\"band\")\n",
    "\n",
    "colors = [\"tab:blue\", \"tab:orange\", \"tab:green\", \"tab:red\"]\n",
    "for i, dataset in enumerate(sys_sets[:2]):\n",
    "    plot_hist(\n",
    "        ax=ax, hist=dataset[\"model\"].get_template(),\n",
    "        label=fr\"$\\mu = {dataset['scale']}$, $\\sigma={dataset['shape']}$\",\n",
    "        color=colors[i],\n",
    "        errors=\"band\"\n",
    "    )\n",
    "plt.legend(ncol=2, fontsize=10)\n",
    "ax.set_xlabel(\"reco energy (GeV)\")\n",
    "ax.set_ylabel(\"count\")\n",
    "ax.set_xscale(\"log\")\n",
    "# plt.savefig(\"systematic_sets_scale.pdf\")"
   ]
  },
  {
   "cell_type": "code",
   "execution_count": 4,
   "id": "c9011a5a",
   "metadata": {},
   "outputs": [
    {
     "data": {
      "image/png": "[encoded data removed]",
      "text/plain": [
       "<Figure size 432x288 with 1 Axes>"
      ]
     },
     "metadata": {
      "needs_background": "light"
     },
     "output_type": "display_data"
    }
   ],
   "source": [
    "%matplotlib inline\n",
    "fig = Figure(figsize=(6, 4))\n",
    "ax = fig.get_ax()\n",
    "\n",
    "plot_hist(ax=ax, hist=nominal_set[\"template\"],\n",
    "          label=\"nominal\", color=\"purple\", errors=\"band\")\n",
    "\n",
    "colors = [\"tab:blue\", \"tab:orange\", \"tab:green\", \"tab:red\"]\n",
    "for i, dataset in enumerate(sys_sets[2:4]):\n",
    "    plot_hist(\n",
    "        ax=ax, hist=dataset[\"model\"].get_template(),\n",
    "        label=fr\"$\\mu = {dataset['scale']}$, $\\sigma={dataset['shape']}$\",\n",
    "        color=colors[i],\n",
    "        errors=\"band\"\n",
    "    )\n",
    "plt.legend(ncol=2, fontsize=10)\n",
    "ax.set_xlabel(\"reco energy (GeV)\")\n",
    "ax.set_ylabel(\"count\")\n",
    "ax.set_xscale(\"log\")"
   ]
  },
  {
   "cell_type": "code",
   "execution_count": 5,
   "id": "005f99f4",
   "metadata": {},
   "outputs": [],
   "source": [
    "import pandas as pd\n",
    "\n",
    "df_sys = [\n",
    "    pd.DataFrame({\n",
    "        \"true_energy\": sys_set[\"model\"].events[\"true_energy\"].astype(np.float32),\n",
    "        \"reco_energy\": sys_set[\"model\"].events[\"reco_energy\"].astype(np.float32),\n",
    "        \"reference_weights\": sys_set[\"model\"].events[\"reference_weights\"].astype(np.float32),\n",
    "        \"set\": i\n",
    "    }) for i, sys_set in enumerate([nominal_set] + sys_sets)\n",
    "]\n",
    "df_all = pd.concat(df_sys, ignore_index=True)"
   ]
  },
  {
   "cell_type": "code",
   "execution_count": 6,
   "id": "47e7111a",
   "metadata": {},
   "outputs": [
    {
     "data": {
      "text/html": [
       "<div>\n",
       "<style scoped>\n",
       "    .dataframe tbody tr th:only-of-type {\n",
       "        vertical-align: middle;\n",
       "    }\n",
       "\n",
       "    .dataframe tbody tr th {\n",
       "        vertical-align: top;\n",
       "    }\n",
       "\n",
       "    .dataframe thead th {\n",
       "        text-align: right;\n",
       "    }\n",
       "</style>\n",
       "<table border=\"1\" class=\"dataframe\">\n",
       "  <thead>\n",
       "    <tr style=\"text-align: right;\">\n",
       "      <th></th>\n",
       "      <th>true_energy</th>\n",
       "      <th>reco_energy</th>\n",
       "      <th>reference_weights</th>\n",
       "      <th>set</th>\n",
       "    </tr>\n",
       "  </thead>\n",
       "  <tbody>\n",
       "    <tr>\n",
       "      <th>0</th>\n",
       "      <td>587.986755</td>\n",
       "      <td>998.166565</td>\n",
       "      <td>0.008464</td>\n",
       "      <td>0</td>\n",
       "    </tr>\n",
       "    <tr>\n",
       "      <th>1</th>\n",
       "      <td>39.720741</td>\n",
       "      <td>44.787125</td>\n",
       "      <td>0.035026</td>\n",
       "      <td>0</td>\n",
       "    </tr>\n",
       "    <tr>\n",
       "      <th>2</th>\n",
       "      <td>22.322433</td>\n",
       "      <td>29.940544</td>\n",
       "      <td>0.012202</td>\n",
       "      <td>0</td>\n",
       "    </tr>\n",
       "    <tr>\n",
       "      <th>3</th>\n",
       "      <td>33.900597</td>\n",
       "      <td>66.400238</td>\n",
       "      <td>0.020431</td>\n",
       "      <td>0</td>\n",
       "    </tr>\n",
       "    <tr>\n",
       "      <th>4</th>\n",
       "      <td>73.104897</td>\n",
       "      <td>128.016968</td>\n",
       "      <td>0.049613</td>\n",
       "      <td>0</td>\n",
       "    </tr>\n",
       "    <tr>\n",
       "      <th>...</th>\n",
       "      <td>...</td>\n",
       "      <td>...</td>\n",
       "      <td>...</td>\n",
       "      <td>...</td>\n",
       "    </tr>\n",
       "    <tr>\n",
       "      <th>899995</th>\n",
       "      <td>147.930222</td>\n",
       "      <td>202.740234</td>\n",
       "      <td>0.031350</td>\n",
       "      <td>8</td>\n",
       "    </tr>\n",
       "    <tr>\n",
       "      <th>899996</th>\n",
       "      <td>97.262772</td>\n",
       "      <td>56.050735</td>\n",
       "      <td>0.043066</td>\n",
       "      <td>8</td>\n",
       "    </tr>\n",
       "    <tr>\n",
       "      <th>899997</th>\n",
       "      <td>5.389289</td>\n",
       "      <td>4.468573</td>\n",
       "      <td>0.122581</td>\n",
       "      <td>8</td>\n",
       "    </tr>\n",
       "    <tr>\n",
       "      <th>899998</th>\n",
       "      <td>13.145469</td>\n",
       "      <td>13.897813</td>\n",
       "      <td>0.378270</td>\n",
       "      <td>8</td>\n",
       "    </tr>\n",
       "    <tr>\n",
       "      <th>899999</th>\n",
       "      <td>36.574783</td>\n",
       "      <td>20.086601</td>\n",
       "      <td>0.027855</td>\n",
       "      <td>8</td>\n",
       "    </tr>\n",
       "  </tbody>\n",
       "</table>\n",
       "<p>900000 rows × 4 columns</p>\n",
       "</div>"
      ],
      "text/plain": [
       "        true_energy  reco_energy  reference_weights  set\n",
       "0        587.986755   998.166565           0.008464    0\n",
       "1         39.720741    44.787125           0.035026    0\n",
       "2         22.322433    29.940544           0.012202    0\n",
       "3         33.900597    66.400238           0.020431    0\n",
       "4         73.104897   128.016968           0.049613    0\n",
       "...             ...          ...                ...  ...\n",
       "899995   147.930222   202.740234           0.031350    8\n",
       "899996    97.262772    56.050735           0.043066    8\n",
       "899997     5.389289     4.468573           0.122581    8\n",
       "899998    13.145469    13.897813           0.378270    8\n",
       "899999    36.574783    20.086601           0.027855    8\n",
       "\n",
       "[900000 rows x 4 columns]"
      ]
     },
     "execution_count": 6,
     "metadata": {},
     "output_type": "execute_result"
    }
   ],
   "source": [
    "df_all"
   ]
  },
  {
   "cell_type": "code",
   "execution_count": 8,
   "id": "3c6ef204",
   "metadata": {},
   "outputs": [
    {
     "name": "stdout",
     "output_type": "stream",
     "text": [
      "[ WARNING] /afs/ifh.de/group/amanda/scratch/trettin/fridge3/pyenv3.7/lib/python3.7/site-packages/seaborn/distributions.py:376: FutureWarning: elementwise comparison failed; returning scalar instead, but in the future will perform elementwise comparison\n",
      "  and estimate_kws[\"bins\"] == \"auto\"\n",
      "\n"
     ]
    },
    {
     "data": {
      "text/plain": [
       "<AxesSubplot:xlabel='true_energy', ylabel='Count'>"
      ]
     },
     "execution_count": 8,
     "metadata": {},
     "output_type": "execute_result"
    },
    {
     "data": {
      "image/png": "[encoded data removed]",
      "text/plain": [
       "<Figure size 432x288 with 1 Axes>"
      ]
     },
     "metadata": {
      "needs_background": "light"
     },
     "output_type": "display_data"
    }
   ],
   "source": [
    "import seaborn as sns\n",
    "bins = np.linspace(1, 2, 50)\n",
    "sns.histplot(\n",
    "    df_all[df_all[\"set\"] == 0],\n",
    "    x=\"true_energy\",\n",
    "    weights=\"reference_weights\",\n",
    "    log_scale=True,\n",
    "    bins=bins,\n",
    "    element=\"step\"\n",
    ")"
   ]
  },
  {
   "cell_type": "code",
   "execution_count": 9,
   "id": "22cfcbef",
   "metadata": {},
   "outputs": [
    {
     "data": {
      "text/plain": [
       "array([[ 0.  ,  0.05, -0.05,  0.  ,  0.  ,  0.05,  0.05, -0.05, -0.05],\n",
       "       [ 0.  ,  0.  ,  0.  , -0.05,  0.05, -0.05,  0.05, -0.05,  0.05]],\n",
       "      dtype=float32)"
      ]
     },
     "execution_count": 9,
     "metadata": {},
     "output_type": "execute_result"
    }
   ],
   "source": [
    "# define the constant delta-param matrix, containing the\n",
    "# positions of the systematic sets in parameter space.\n",
    "# The dimensions are (number of systematic parameter (mu and sigma), number of sets (K))\n",
    "\n",
    "D = 2  # input dimensions\n",
    "K = 9  # classes (here: systematic sets)\n",
    "\n",
    "\n",
    "delta_p = np.zeros((2, K), dtype=np.float32)\n",
    "sig_nom = 0.3\n",
    "mu_nom = 1.0\n",
    "\n",
    "for i, dataset in enumerate([nominal_set] + sys_sets):\n",
    "    delta_p[0, i] = dataset[\"scale\"] - mu_nom\n",
    "    delta_p[1, i] = dataset[\"shape\"] - sig_nom\n",
    "delta_p"
   ]
  },
  {
   "cell_type": "code",
   "execution_count": 10,
   "id": "0145bc5f",
   "metadata": {},
   "outputs": [
    {
     "data": {
      "text/plain": [
       "array([[ 0.   ,  0.5  , -0.5  ,  0.   ,  0.   ,  0.5  ,  0.5  , -0.5  ,\n",
       "        -0.5  ],\n",
       "       [ 0.   ,  0.   ,  0.   , -0.5  ,  0.5  , -0.5  ,  0.5  , -0.5  ,\n",
       "         0.5  ],\n",
       "       [ 0.   ,  0.025,  0.025,  0.   ,  0.   ,  0.025,  0.025,  0.025,\n",
       "         0.025],\n",
       "       [ 0.   ,  0.   , -0.   , -0.   ,  0.   , -0.025,  0.025,  0.025,\n",
       "        -0.025],\n",
       "       [ 0.   ,  0.   ,  0.   ,  0.025,  0.025,  0.025,  0.025,  0.025,\n",
       "         0.025]], dtype=float32)"
      ]
     },
     "execution_count": 10,
     "metadata": {},
     "output_type": "execute_result"
    }
   ],
   "source": [
    "from sklearn import preprocessing\n",
    "\n",
    "poly = preprocessing.PolynomialFeatures(2, include_bias=False, interaction_only=False)\n",
    "\n",
    "delta_p_poly = poly.fit_transform(delta_p.T).T * 10.\n",
    "delta_p_poly"
   ]
  },
  {
   "cell_type": "markdown",
   "id": "eaac277e",
   "metadata": {},
   "source": [
    "### Build and train the classifier"
   ]
  },
  {
   "cell_type": "code",
   "execution_count": 11,
   "id": "d4a624c9",
   "metadata": {},
   "outputs": [],
   "source": [
    "from sklearn import preprocessing\n",
    "from sklearn.pipeline import Pipeline, make_pipeline\n",
    "from sklearn.compose import make_column_transformer\n",
    "from skorch import NeuralNetClassifier\n",
    "\n",
    "trafo = make_column_transformer(\n",
    "    (\n",
    "        make_pipeline(\n",
    "            preprocessing.PowerTransformer()\n",
    "        ), [\"reco_energy\", \"true_energy\"]\n",
    "    )\n",
    ")"
   ]
  },
  {
   "cell_type": "code",
   "execution_count": 12,
   "id": "2282b428",
   "metadata": {},
   "outputs": [
    {
     "name": "stdout",
     "output_type": "stream",
     "text": [
      "[ WARNING] /afs/ifh.de/group/amanda/scratch/trettin/fridge3/pyenv3.7/lib/python3.7/site-packages/numpy/core/_methods.py:233: RuntimeWarning: overflow encountered in multiply\n",
      "  x = um.multiply(x, x, out=x)\n",
      "\n"
     ]
    }
   ],
   "source": [
    "X_transformed = trafo.fit_transform(df_all)"
   ]
  },
  {
   "cell_type": "code",
   "execution_count": 13,
   "id": "d796d443",
   "metadata": {
    "scrolled": true
   },
   "outputs": [
    {
     "data": {
      "text/plain": [
       "array([[ 2.9114537 ,  2.5035512 ],\n",
       "       [-0.30724555, -0.45442948],\n",
       "       [-0.72676843, -1.0829246 ],\n",
       "       ...,\n",
       "       [-2.6104171 , -2.5585814 ],\n",
       "       [-1.5154077 , -1.6502115 ],\n",
       "       [-1.1394798 , -0.54485697]], dtype=float32)"
      ]
     },
     "execution_count": 13,
     "metadata": {},
     "output_type": "execute_result"
    }
   ],
   "source": [
    "X_transformed"
   ]
  },
  {
   "cell_type": "code",
   "execution_count": 14,
   "id": "ba1e8349",
   "metadata": {},
   "outputs": [
    {
     "data": {
      "image/png": "[encoded data removed]",
      "text/plain": [
       "<Figure size 432x288 with 1 Axes>"
      ]
     },
     "metadata": {
      "needs_background": "light"
     },
     "output_type": "display_data"
    }
   ],
   "source": [
    "plt.hist(X_transformed[:, 0], histtype=\"step\", bins=100)\n",
    "plt.hist(X_transformed[:, 1], histtype=\"step\", bins=100)\n",
    "plt.show()"
   ]
  },
  {
   "cell_type": "code",
   "execution_count": 15,
   "id": "b0f5ffe0",
   "metadata": {},
   "outputs": [],
   "source": [
    "import torch\n",
    "import torch.nn as nn\n",
    "import torch.nn.functional as F\n",
    "\n",
    "\n",
    "class GradientNetwork(nn.Module):\n",
    "    def __init__(self):\n",
    "        super().__init__()\n",
    "        # a network that predicts the gradient w.r.t each systematic parameter\n",
    "        self.grad_net = nn.Sequential(\n",
    "            nn.Linear(D, 40),\n",
    "            nn.Tanh(),\n",
    "            nn.Linear(40, 20),\n",
    "            nn.Tanh(),\n",
    "            nn.Linear(20, delta_p_poly.shape[0])\n",
    "        )\n",
    "        # this matrix is a non-trainable constant\n",
    "        self.delta_p = torch.from_numpy(delta_p_poly.copy())\n",
    "        self.delta_p.requires_grad = True\n",
    "\n",
    "    def forward(self, x):\n",
    "        grads = self.grad_net(x)\n",
    "        x = F.softmax(torch.matmul(grads, self.delta_p), dim=1)\n",
    "        return x"
   ]
  },
  {
   "cell_type": "code",
   "execution_count": 16,
   "id": "81c31bd1",
   "metadata": {},
   "outputs": [],
   "source": [
    "from collections.abc import Mapping\n",
    "from sklearn.preprocessing import LabelBinarizer\n",
    "\n",
    "\n",
    "class ReweightedChi2Scorer(object):\n",
    "    \n",
    "    reducers = {\n",
    "        \"mean\": np.mean,\n",
    "        \"median\": np.median,\n",
    "        \"min\": np.min\n",
    "    }\n",
    "    \n",
    "    def __init__(self, varname=\"reco_energy\", binning=None, nominal_index=0, reduce=\"mean\"):\n",
    "        # name of the variable to be checked\n",
    "        self.varname = varname\n",
    "        # binning for the variable\n",
    "        self.binning = binning\n",
    "        # the class corresponding to the nominal set\n",
    "        self.nominal_index = nominal_index\n",
    "        # the method to reduce the different scores to one score\n",
    "        if reduce in self.reducers:\n",
    "            self.reduce = self.reducers[reduce]\n",
    "        else:\n",
    "            self.reduce = reduce\n",
    "\n",
    "    def __call__(self, estimator, X, y_true, return_all=False):\n",
    "        # We attempt to re-create the variable distribution for every systematic set\n",
    "        # by re-weighting the nominal set\n",
    "        X_nom = X[y_true == self.nominal_index]\n",
    "        probs = estimator.predict_proba(X_nom)\n",
    "        probs /= np.atleast_2d(probs[:, self.nominal_index]).T\n",
    "        weights = X_nom[\"reference_weights\"]\n",
    "        values = X_nom[self.varname]\n",
    "\n",
    "        log_pvals = []\n",
    "        for set_nr in np.unique(y_true):\n",
    "            if set_nr == self.nominal_index:\n",
    "                continue\n",
    "            weights_scaled = weights * probs[:, set_nr]\n",
    "\n",
    "            hist_nom = np.histogram(\n",
    "                values, bins=self.binning, weights=weights_scaled\n",
    "            )[0]\n",
    "            # errors are sums of weights squared\n",
    "            varis_nom = stats.binned_statistic(\n",
    "                values,\n",
    "                bins=self.binning,\n",
    "                # super confusing nomenclature, but the values are the weights\n",
    "                values=weights_scaled,\n",
    "                statistic=lambda w : np.sum(np.square(w))\n",
    "            )[0]\n",
    "\n",
    "            X_set = X[y_true == set_nr]\n",
    "            values_set = X_set[self.varname]\n",
    "            weights_set = X_set[\"reference_weights\"]\n",
    "            hist_set = np.histogram(\n",
    "                values_set,\n",
    "                bins=self.binning,\n",
    "                weights=weights_set\n",
    "            )[0]\n",
    "            varis_set = stats.binned_statistic(\n",
    "                values_set,\n",
    "                bins=self.binning,\n",
    "                values=weights_set,\n",
    "                statistic=lambda w : np.sum(np.square(w))\n",
    "            )[0]\n",
    "            \n",
    "            chi2 = np.sum((hist_nom - hist_set)**2 / (varis_set + varis_nom))\n",
    "\n",
    "            # we assume that the sum of bin-wise squared residuals is chi-square distributed\n",
    "            # with DoF equal to the number of bins.\n",
    "            # We compute the p-value for the given differences using the CDF. To get a nicer\n",
    "            # number that we can use as score, we will put out\n",
    "            #   log10(1 - pval)\n",
    "            log_pvals.append(\n",
    "                np.log1p(-stats.chi2.cdf(chi2, df=len(hist_nom)) + 1e-10) / np.log(10.)\n",
    "            )\n",
    "        if return_all:\n",
    "            return log_pvals\n",
    "        else:\n",
    "            return self.reduce(log_pvals)"
   ]
  },
  {
   "cell_type": "code",
   "execution_count": 17,
   "id": "2fd01c48",
   "metadata": {},
   "outputs": [],
   "source": [
    "net = NeuralNetClassifier(\n",
    "    GradientNetwork,\n",
    "    max_epochs=50,\n",
    "    lr=1e-3,\n",
    "    # Shuffle training data on each epoch\n",
    "    iterator_train__shuffle=True,\n",
    "    optimizer=torch.optim.Adam,\n",
    "    optimizer__param_groups=[\n",
    "        # it's important that no decay is applied to biases!\n",
    "        ('*.bias', {'weight_decay': 0.}),\n",
    "        ('*.weight', {'weight_decay': 1e-5})\n",
    "    ],\n",
    "    batch_size=200,\n",
    "    warm_start=False,\n",
    "    callbacks=\"disable\"\n",
    ")\n",
    "pipe = Pipeline(\n",
    "    [(\"trafo\", trafo), (\"net\", net)],\n",
    ")"
   ]
  },
  {
   "cell_type": "code",
   "execution_count": 18,
   "id": "418ff973",
   "metadata": {},
   "outputs": [],
   "source": [
    "from sklearn.neural_network import MLPClassifier\n",
    "\n",
    "skl_mlp = MLPClassifier(\n",
    "    solver='adam',\n",
    "    alpha=1e-3,\n",
    "    # tanh activation function helps to prevent extreme values and makes the\n",
    "    # output smoother than ReLU\n",
    "    activation=\"tanh\",\n",
    "    hidden_layer_sizes=(40, 20),\n",
    "    random_state=1,\n",
    ")\n",
    "pipe_skl = Pipeline(\n",
    "    [(\"trafo\", trafo), (\"net\", skl_mlp)],\n",
    ")"
   ]
  },
  {
   "cell_type": "code",
   "execution_count": 61,
   "id": "6b46a6c1",
   "metadata": {
    "scrolled": true
   },
   "outputs": [
    {
     "name": "stdout",
     "output_type": "stream",
     "text": [
      "CPU times: user 904 ms, sys: 184 ms, total: 1.09 s\n",
      "Wall time: 2min 12s\n"
     ]
    }
   ],
   "source": [
    "%%time\n",
    "from sklearn.model_selection import learning_curve\n",
    "from sklearn.model_selection import ShuffleSplit\n",
    "\n",
    "\n",
    "cv = ShuffleSplit(n_splits=10, test_size=0.2, random_state=0)\n",
    "\n",
    "reco_e_score = ReweightedChi2Scorer(\n",
    "    varname=\"reco_energy\",\n",
    "    binning=np.geomspace(10., 100., 25),\n",
    "    reduce=\"mean\"\n",
    ")\n",
    "\n",
    "train_sizes, train_scores, test_scores = learning_curve(\n",
    "    pipe_skl,\n",
    "    df_all,\n",
    "    df_all[\"set\"],\n",
    "    cv=cv,\n",
    "    n_jobs=4,\n",
    "    train_sizes=np.geomspace(0.01, 0.1, 5),\n",
    "    scoring=reco_e_score\n",
    ")"
   ]
  },
  {
   "cell_type": "code",
   "execution_count": 62,
   "id": "8f13a388",
   "metadata": {},
   "outputs": [
    {
     "data": {
      "image/png": "[encoded data removed]",
      "text/plain": [
       "<Figure size 432x288 with 1 Axes>"
      ]
     },
     "metadata": {
      "needs_background": "light"
     },
     "output_type": "display_data"
    }
   ],
   "source": [
    "mean_scores = np.mean(test_scores, axis=1)\n",
    "score_std = np.std(test_scores, axis=1)\n",
    "\n",
    "plt.plot(\n",
    "    train_sizes,\n",
    "    mean_scores,\n",
    "    marker=\"o\"\n",
    ")\n",
    "plt.fill_between(\n",
    "    train_sizes,\n",
    "    mean_scores - score_std,\n",
    "    mean_scores + score_std,\n",
    "    alpha=0.2\n",
    ")\n",
    "plt.semilogx()\n",
    "plt.xlabel(\"training samples\")\n",
    "plt.ylabel(r\"$\\log_{10}(p)$\")\n",
    "plt.grid()"
   ]
  },
  {
   "cell_type": "code",
   "execution_count": 63,
   "id": "8475bb73",
   "metadata": {},
   "outputs": [
    {
     "name": "stdout",
     "output_type": "stream",
     "text": [
      "CPU times: user 962 ms, sys: 77.2 ms, total: 1.04 s\n",
      "Wall time: 9min 31s\n"
     ]
    }
   ],
   "source": [
    "%%time\n",
    "cv = ShuffleSplit(n_splits=10, test_size=0.2, random_state=0)\n",
    "\n",
    "reco_e_score = ReweightedChi2Scorer(\n",
    "    varname=\"reco_energy\",\n",
    "    binning=np.geomspace(10., 100., 25),\n",
    "    reduce=\"mean\"\n",
    ")\n",
    "\n",
    "train_sizes_gn, train_scores_gn, test_scores_gn = learning_curve(\n",
    "    pipe,\n",
    "    df_all,\n",
    "    df_all[\"set\"],\n",
    "    cv=cv,\n",
    "    n_jobs=4,\n",
    "    train_sizes=np.geomspace(0.01, 0.1, 5),\n",
    "    scoring=reco_e_score\n",
    ")"
   ]
  },
  {
   "cell_type": "code",
   "execution_count": 66,
   "id": "378f889f",
   "metadata": {},
   "outputs": [
    {
     "data": {
      "image/png": "[encoded data removed]",
      "text/plain": [
       "<Figure size 432x288 with 1 Axes>"
      ]
     },
     "metadata": {
      "needs_background": "light"
     },
     "output_type": "display_data"
    }
   ],
   "source": [
    "mean_scores_gn = np.mean(test_scores_gn, axis=1)\n",
    "score_std_gn = np.std(test_scores_gn, axis=1)\n",
    "\n",
    "plt.plot(\n",
    "    train_sizes,\n",
    "    # mean_scores,\n",
    "    np.median(test_scores, axis=1),\n",
    "    marker=\"o\",\n",
    "    color=\"tab:blue\",\n",
    "    label=\"sklearn-mlp\"\n",
    ")\n",
    "plt.fill_between(\n",
    "    train_sizes,\n",
    "    # mean_scores - score_std,\n",
    "    # mean_scores + score_std,\n",
    "    np.percentile(test_scores, 16, axis=1),\n",
    "    np.percentile(test_scores, 84, axis=1),\n",
    "    alpha=0.2,\n",
    "    color=\"tab:blue\"\n",
    ")\n",
    "\n",
    "plt.plot(\n",
    "    train_sizes_gn,\n",
    "    # mean_scores_gn,\n",
    "    np.median(test_scores_gn, axis=1),\n",
    "    marker=\"o\",\n",
    "    color=\"tab:orange\",\n",
    "    label=\"grad-net\"\n",
    ")\n",
    "plt.fill_between(\n",
    "    train_sizes_gn,\n",
    "    # mean_scores_gn - score_std_gn,\n",
    "    # mean_scores_gn + score_std_gn,\n",
    "    np.percentile(test_scores_gn, 16, axis=1),\n",
    "    np.percentile(test_scores_gn, 84, axis=1),\n",
    "    alpha=0.2,\n",
    "    color=\"tab:orange\"\n",
    ")\n",
    "# plt.xlim((5e2, 1.1e5))\n",
    "plt.semilogx()\n",
    "plt.legend()\n",
    "plt.xlabel(\"training samples\")\n",
    "plt.ylabel(r\"$\\log_{10}({\\rm p-value})$\")\n",
    "plt.grid()\n",
    "# plt.savefig(\"figures/learning_curve_grad_net_vs_sklearn_v2.pdf\")"
   ]
  },
  {
   "cell_type": "code",
   "execution_count": 128,
   "id": "8d14ee30",
   "metadata": {},
   "outputs": [
    {
     "name": "stdout",
     "output_type": "stream",
     "text": [
      "[ WARNING] /afs/ifh.de/group/amanda/scratch/trettin/fridge3/pyenv3.7/lib/python3.7/site-packages/numpy/core/_methods.py:233: RuntimeWarning: overflow encountered in multiply\n",
      "  x = um.multiply(x, x, out=x)\n",
      "\n",
      "  epoch    train_loss    valid_acc    valid_loss      dur\n",
      "-------  ------------  -----------  ------------  -------\n",
      "      1        \u001b[36m2.1854\u001b[0m       \u001b[32m0.1463\u001b[0m        \u001b[35m2.1719\u001b[0m  19.4439\n",
      "      2        \u001b[36m2.1713\u001b[0m       \u001b[32m0.1472\u001b[0m        \u001b[35m2.1708\u001b[0m  18.9786\n",
      "      3        \u001b[36m2.1709\u001b[0m       \u001b[32m0.1486\u001b[0m        \u001b[35m2.1701\u001b[0m  18.3742\n",
      "      4        \u001b[36m2.1708\u001b[0m       0.1478        2.1705  19.6698\n",
      "      5        \u001b[36m2.1707\u001b[0m       0.1483        \u001b[35m2.1699\u001b[0m  19.9119\n",
      "      6        2.1707       0.1476        2.1699  18.5168\n",
      "      7        \u001b[36m2.1707\u001b[0m       0.1482        2.1700  18.6427\n",
      "      8        \u001b[36m2.1706\u001b[0m       0.1472        2.1711  19.6618\n",
      "      9        2.1706       0.1471        2.1705  18.6497\n",
      "     10        \u001b[36m2.1706\u001b[0m       0.1475        2.1700  19.5786\n",
      "     11        2.1707       0.1470        2.1705  18.8068\n",
      "     12        2.1707       0.1473        2.1702  19.9014\n",
      "     13        2.1706       0.1478        2.1701  19.5440\n",
      "     14        2.1707       \u001b[32m0.1488\u001b[0m        2.1700  18.2609\n",
      "     15        \u001b[36m2.1706\u001b[0m       0.1469        2.1708  19.4573\n",
      "     16        \u001b[36m2.1705\u001b[0m       0.1474        \u001b[35m2.1699\u001b[0m  18.7848\n",
      "     17        2.1706       0.1480        2.1700  18.2181\n",
      "     18        2.1706       0.1472        \u001b[35m2.1698\u001b[0m  19.3409\n",
      "     19        \u001b[36m2.1705\u001b[0m       0.1472        2.1700  19.3059\n",
      "     20        2.1706       0.1478        \u001b[35m2.1698\u001b[0m  19.9771\n",
      "     21        2.1705       0.1482        2.1702  19.3413\n",
      "     22        2.1706       0.1480        2.1701  19.6533\n",
      "     23        2.1705       0.1484        2.1698  19.7632\n",
      "     24        2.1706       0.1474        2.1700  19.6242\n",
      "     25        2.1706       0.1475        2.1699  19.2282\n",
      "     26        \u001b[36m2.1705\u001b[0m       0.1478        2.1699  19.4245\n",
      "     27        \u001b[36m2.1705\u001b[0m       0.1482        2.1698  18.9287\n"
     ]
    },
    {
     "data": {
      "text/plain": [
       "Pipeline(steps=[('trafo',\n",
       "                 ColumnTransformer(transformers=[('pipeline',\n",
       "                                                  Pipeline(steps=[('powertransformer',\n",
       "                                                                   PowerTransformer())]),\n",
       "                                                  ['reco_energy',\n",
       "                                                   'true_energy'])])),\n",
       "                ('net',\n",
       "                 <class 'skorch.classifier.NeuralNetClassifier'>[initialized](\n",
       "  module_=GradientNetwork(\n",
       "    (grad_net): Sequential(\n",
       "      (0): Linear(in_features=2, out_features=40, bias=True)\n",
       "      (1): Sigmoid()\n",
       "      (2): Linear(in_features=40, out_features=20, bias=True)\n",
       "      (3): Sigmoid()\n",
       "      (4): Linear(in_features=20, out_features=5, bias=True)\n",
       "    )\n",
       "  ),\n",
       "))])"
      ]
     },
     "execution_count": 128,
     "metadata": {},
     "output_type": "execute_result"
    }
   ],
   "source": [
    "df_train = df_all.sample(n=100000)\n",
    "\n",
    "class GradientNetwork(nn.Module):\n",
    "    def __init__(self):\n",
    "        super().__init__()\n",
    "        # a network that predicts the gradient w.r.t each systematic parameter\n",
    "        self.grad_net = nn.Sequential(\n",
    "            nn.Linear(D, 40),\n",
    "            nn.Sigmoid(),\n",
    "            nn.Linear(40, 20),\n",
    "            nn.Sigmoid(),\n",
    "            nn.Linear(20, delta_p_poly.shape[0])\n",
    "        )\n",
    "        # this matrix is a non-trainable constant\n",
    "        self.delta_p = torch.from_numpy(delta_p_poly.copy())\n",
    "        self.delta_p.requires_grad = True\n",
    "\n",
    "    def forward(self, x):\n",
    "        grads = self.grad_net(x)\n",
    "        x = F.softmax(torch.matmul(grads, self.delta_p), dim=1)\n",
    "        return x\n",
    "    \n",
    "net = NeuralNetClassifier(\n",
    "    GradientNetwork,\n",
    "    max_epochs=50,\n",
    "    lr=2e-3,\n",
    "    # Shuffle training data on each epoch\n",
    "    iterator_train__shuffle=True,\n",
    "    optimizer=torch.optim.Adam,\n",
    "    optimizer__param_groups=[\n",
    "        # it's important that no decay is applied to biases!\n",
    "        ('*.bias', {'weight_decay': 0.}),\n",
    "        ('*.weight', {'weight_decay': 1e-5})\n",
    "    ],\n",
    "    batch_size=200,\n",
    "    warm_start=False,\n",
    "    # callbacks=\"disable\"\n",
    ")\n",
    "pipe = Pipeline(\n",
    "    [(\"trafo\", trafo), (\"net\", net)],\n",
    ")\n",
    "pipe.fit(df_all, df_all[\"set\"])"
   ]
  },
  {
   "cell_type": "code",
   "execution_count": 129,
   "id": "51dea249",
   "metadata": {
    "scrolled": false
   },
   "outputs": [
    {
     "data": {
      "text/plain": [
       "[-0.24376053920715848,\n",
       " -0.6543421996475923,\n",
       " -0.3698432380191309,\n",
       " -2.370270721054351,\n",
       " -0.44937633069818944,\n",
       " -1.7723158351867037,\n",
       " -1.746148279578953,\n",
       " -1.5064531768078684]"
      ]
     },
     "execution_count": 129,
     "metadata": {},
     "output_type": "execute_result"
    }
   ],
   "source": [
    "reco_e_score(pipe, df_all, df_all[\"set\"], return_all=True)"
   ]
  },
  {
   "cell_type": "code",
   "execution_count": 130,
   "id": "6f1ce262",
   "metadata": {},
   "outputs": [
    {
     "data": {
      "text/plain": [
       "[-0.14525958429315564,\n",
       " -0.8559845500248975,\n",
       " -0.09691934849247708,\n",
       " -1.3682528234003872,\n",
       " -0.08456617125191966,\n",
       " -1.2333297329416886,\n",
       " -0.627007171932557,\n",
       " -1.7382669297517064]"
      ]
     },
     "execution_count": 130,
     "metadata": {},
     "output_type": "execute_result"
    }
   ],
   "source": [
    "reco_e_score = ReweightedChi2Scorer(\n",
    "    varname=\"reco_energy\",\n",
    "    binning=np.geomspace(10., 100., 25),\n",
    "    reduce=\"min\"\n",
    ")\n",
    "reco_e_score(pipe, df_train, df_train[\"set\"], return_all=True)"
   ]
  },
  {
   "cell_type": "markdown",
   "id": "863d79e4",
   "metadata": {},
   "source": [
    "## Plotting the prediction\n",
    "The first thing we need to establish is that the probability ratio can actually be reproduced. We choose a given true energy and scan over the reco energy and plot the output from the network."
   ]
  },
  {
   "cell_type": "code",
   "execution_count": 131,
   "id": "fa07e858",
   "metadata": {},
   "outputs": [
    {
     "data": {
      "text/plain": [
       "array([8, 8, 8, 8, 8, 8, 8, 8, 8, 8, 8, 8, 8, 8, 8, 8, 8, 8, 8, 8, 8, 8,\n",
       "       8, 8, 8, 8, 2, 2, 7, 7, 7, 7, 7, 7, 7, 7, 7, 7, 7, 7, 3, 3, 5, 5,\n",
       "       5, 5, 5, 5, 5, 5, 5, 5, 5, 5, 5, 5, 5, 5, 5, 5, 5, 5, 1, 1, 1, 1,\n",
       "       6, 6, 6, 6, 6, 6, 6, 6, 6, 6, 6, 6, 6, 6, 6, 6, 6, 6, 6, 6, 6, 6,\n",
       "       6, 6, 6, 6, 6, 6, 6, 6, 6, 6, 6, 6])"
      ]
     },
     "execution_count": 131,
     "metadata": {},
     "output_type": "execute_result"
    }
   ],
   "source": [
    "df_plot = pd.DataFrame({\n",
    "    \"true_energy\": 50.,\n",
    "    \"reco_energy\": np.linspace(10, 100, 100),\n",
    "}, dtype=np.float32)\n",
    "# class predictions aren't super meaningful yet, but a good first step\n",
    "pipe.predict(df_plot)"
   ]
  },
  {
   "cell_type": "code",
   "execution_count": 132,
   "id": "d15d52c8",
   "metadata": {},
   "outputs": [
    {
     "data": {
      "image/png": "[encoded data removed]",
      "text/plain": [
       "<Figure size 432x288 with 1 Axes>"
      ]
     },
     "metadata": {
      "needs_background": "light"
     },
     "output_type": "display_data"
    }
   ],
   "source": [
    "# These are the predicted *posterior* probabilities\n",
    "set_nr = 5\n",
    "\n",
    "posterior_nom = pipe.predict_proba(df_plot)[:, 0]\n",
    "posterior_sys = pipe.predict_proba(df_plot)[:, set_nr]\n",
    "\n",
    "plt.plot(df_plot[\"reco_energy\"], posterior_nom, label=\"nominal\", color=\"tab:orange\", linestyle=\"--\")\n",
    "plt.plot(df_plot[\"reco_energy\"], posterior_sys, label=f\"set {set_nr}\", color=\"tab:orange\")\n",
    "plt.axvline(x=50, label=\"true energy\", color=\"gray\", linestyle=\"--\")\n",
    "plt.xlabel(\"reco energy (GeV)\")\n",
    "plt.ylabel(\"posterior prob.\")\n",
    "plt.legend(fontsize=10)\n",
    "plt.tight_layout()\n",
    "# plt.savefig(\"figures/mlp_posterior.pdf\")"
   ]
  },
  {
   "cell_type": "code",
   "execution_count": 133,
   "id": "d3ce37c3",
   "metadata": {},
   "outputs": [
    {
     "data": {
      "image/png": "[encoded data removed]",
      "text/plain": [
       "<Figure size 432x288 with 1 Axes>"
      ]
     },
     "metadata": {
      "needs_background": "light"
     },
     "output_type": "display_data"
    }
   ],
   "source": [
    "from scipy.stats import lognorm\n",
    "\n",
    "prob_nom = lognorm.pdf(\n",
    "    df_plot[\"reco_energy\"],\n",
    "    nominal_set[\"shape\"],\n",
    "    loc=0,\n",
    "    scale=df_plot[\"true_energy\"] * nominal_set[\"scale\"]\n",
    ")\n",
    "prob_sys = lognorm.pdf(\n",
    "    df_plot[\"reco_energy\"],\n",
    "    sys_sets[set_nr-1][\"shape\"],\n",
    "    loc=0,\n",
    "    scale=df_plot[\"true_energy\"] * sys_sets[set_nr-1][\"scale\"]\n",
    ")\n",
    "\n",
    "prob_sys *= sys_sets[set_nr-1][\"scale\"] / nominal_set[\"scale\"]\n",
    "\n",
    "plt.plot(\n",
    "    df_plot[\"reco_energy\"],\n",
    "    prob_nom,\n",
    "    label=\"nominal\",\n",
    "    color=\"tab:blue\",\n",
    "    linestyle=\"--\"\n",
    ")\n",
    "plt.plot(\n",
    "    df_plot[\"reco_energy\"],\n",
    "    prob_sys,\n",
    "    label=f\"set {set_nr}\",\n",
    "    color=\"tab:blue\"\n",
    ")\n",
    "plt.axvline(x=50, label=\"true energy\", color=\"gray\", linestyle=\"--\")\n",
    "plt.xlabel(\"reco energy (GeV)\")\n",
    "plt.ylabel(\"normalized likelihood\")\n",
    "plt.legend(fontsize=10)\n",
    "plt.tight_layout()\n",
    "# plt.savefig(\"figures/true_likelihood.pdf\")"
   ]
  },
  {
   "cell_type": "markdown",
   "id": "71f5b21b",
   "metadata": {},
   "source": [
    "### Plot the re-weighting ratio\n",
    "We claimed that the ratio of likelihoods shoul be equal to the ratio of posteriors. We find that that is indeed the case, up to some threshold in energy. If we look at the distributions above, we see that events at these energies or above are exceedingly unlikely, so that the network doesn't see enough examples to estimate the likelihood fraction accurately. That shouldn't be too much of a problem since those events are, by construction, very rare."
   ]
  },
  {
   "cell_type": "code",
   "execution_count": 134,
   "id": "70a92acd",
   "metadata": {},
   "outputs": [
    {
     "data": {
      "image/png": "[encoded data removed]",
      "text/plain": [
       "<Figure size 432x288 with 1 Axes>"
      ]
     },
     "metadata": {
      "needs_background": "light"
     },
     "output_type": "display_data"
    }
   ],
   "source": [
    "plt.plot(df_plot[\"reco_energy\"], prob_sys / prob_nom, label=\"exact LH ratio\")\n",
    "plt.plot(df_plot[\"reco_energy\"], posterior_sys / posterior_nom, label=\"ML learned posterior ratio\")\n",
    "plt.axvline(x=50, label=\"true energy\", color=\"gray\", linestyle=\"--\")\n",
    "# plt.axhline(y=sys_sets[set_nr-1][\"scale\"] / nominal_set[\"scale\"], label=\"class prior\", color=\"gray\", linestyle=\":\")\n",
    "plt.legend(fontsize=10)\n",
    "plt.xlabel(\"reco energy\")\n",
    "plt.ylabel(\"re-weight ratio\")\n",
    "plt.tight_layout()\n",
    "# plt.savefig(\"figures/mlp_reweight_ratio_compare_exact.pdf\")"
   ]
  },
  {
   "cell_type": "markdown",
   "id": "c6ba17b4",
   "metadata": {},
   "source": [
    "## Emulating any systematic set using the ML learned weights\n",
    "To put is all together, we should now be able to emulate any systematic set by re-weighting according to the posterior ratio predicted by our model."
   ]
  },
  {
   "cell_type": "code",
   "execution_count": 135,
   "id": "43c6bff9",
   "metadata": {},
   "outputs": [],
   "source": [
    "df_nom = pd.DataFrame({\n",
    "    \"true_energy\": nominal_set[\"model\"].events[\"true_energy\"],\n",
    "    \"reco_energy\": nominal_set[\"model\"].events[\"reco_energy\"]\n",
    "}, dtype=np.float32)\n",
    "nominal_set_probabilities = pipe.predict_proba(df_nom)\n",
    "# systematic set to be emulated\n",
    "set_nr = 8\n",
    "# calculate the denominator of the ratio\n",
    "posterior_nominal = nominal_set_probabilities[:, 0]\n",
    "# calculate the nominator\n",
    "posterior_sys = nominal_set_probabilities[:, set_nr]\n",
    "# adjust weights (but don't change the initial weights so we don't have to re-create the model)\n",
    "nominal_set[\"model\"].events[\"weights\"] = (\n",
    "    nominal_set[\"model\"].events[\"initial_weights\"] * posterior_sys / posterior_nominal\n",
    ")"
   ]
  },
  {
   "cell_type": "code",
   "execution_count": 136,
   "id": "52cf446f",
   "metadata": {},
   "outputs": [
    {
     "data": {
      "image/png": "[encoded data removed]",
      "text/plain": [
       "<Figure size 432x288 with 1 Axes>"
      ]
     },
     "metadata": {
      "needs_background": "light"
     },
     "output_type": "display_data"
    }
   ],
   "source": [
    "fig = Figure(figsize=(6, 4))\n",
    "ax = fig.get_ax()\n",
    "\n",
    "plot_hist(\n",
    "    ax=ax, hist=sys_sets[set_nr - 1][\"model\"].get_template(),\n",
    "    label=fr\"$\\mu = {sys_sets[set_nr - 1]['scale']}$, $\\sigma={sys_sets[set_nr - 1]['shape']}$\",\n",
    "    color=None,\n",
    "    errors=\"band\"\n",
    ")\n",
    "plot_hist(ax=ax, hist=nominal_set[\"model\"].get_template(), label=\"nominal re-weighted\", errors=\"band\")\n",
    "\n",
    "plt.legend(ncol=2, fontsize=10)\n",
    "ax.set_xlabel(\"reco energy (GeV)\")\n",
    "ax.set_ylabel(\"count\")\n",
    "ax.set_xscale(\"log\")\n",
    "plt.tight_layout()\n",
    "# plt.savefig(f\"figures/ml_re-weighting_mu_{sys_sets[set_nr - 1]['scale']}_sig_{sys_sets[set_nr - 1]['shape']}.pdf\")"
   ]
  },
  {
   "cell_type": "code",
   "execution_count": 137,
   "id": "35743387",
   "metadata": {},
   "outputs": [
    {
     "name": "stdout",
     "output_type": "stream",
     "text": [
      "[185.96689907 200.63101332 206.46759517 204.43864556 181.33854614\n",
      " 168.50013592 145.75974209 131.60077579 120.38019121 106.09360712\n",
      "  93.37625512  92.18736506 103.21305336 110.05872685 125.04644374\n",
      " 141.04628997 145.42673211 159.67672802 159.66732261 164.39477826\n",
      " 163.49909492 149.98527682 142.97141698 139.78367465]\n",
      "[59.17326612 56.41138245 51.47223261 47.36730963 39.04886066 35.91888847\n",
      " 30.0729298  25.2334716  22.49486005 19.27514037 13.819014   10.22648979\n",
      " 10.03596062  8.74578795  6.94722179  8.31584444  6.8089255   7.09062664\n",
      "  7.02665745  7.04641056  6.87457832  6.19075796  5.77601688  5.52545213]\n"
     ]
    }
   ],
   "source": [
    "hist1 = sys_sets[set_nr - 1][\"model\"].get_template().hist\n",
    "vars1 = sys_sets[set_nr - 1][\"model\"].get_template().variance\n",
    "hist2 = nominal_set[\"model\"].get_template().hist\n",
    "vars2 = nominal_set[\"model\"].get_template().variance\n",
    "\n",
    "print(hist2)\n",
    "print(vars2)\n",
    "\n",
    "bin_edges = sys_sets[set_nr - 1][\"model\"].get_template().bin_edges()"
   ]
  },
  {
   "cell_type": "code",
   "execution_count": 138,
   "id": "7df5baa2",
   "metadata": {},
   "outputs": [
    {
     "data": {
      "text/plain": [
       "[]"
      ]
     },
     "execution_count": 138,
     "metadata": {},
     "output_type": "execute_result"
    },
    {
     "data": {
      "image/png": "[encoded data removed]",
      "text/plain": [
       "<Figure size 432x288 with 1 Axes>"
      ]
     },
     "metadata": {
      "needs_background": "light"
     },
     "output_type": "display_data"
    }
   ],
   "source": [
    "# prepending zero for the step plot\n",
    "chi2 = np.insert((hist1 - hist2)**2 / (vars1 + vars2), 0, 0)\n",
    "plt.step(bin_edges, chi2)\n",
    "plt.semilogx()"
   ]
  },
  {
   "cell_type": "code",
   "execution_count": 139,
   "id": "84412c6c",
   "metadata": {
    "scrolled": true
   },
   "outputs": [
    {
     "name": "stdout",
     "output_type": "stream",
     "text": [
      "38.49566896953529\n"
     ]
    },
    {
     "data": {
      "text/plain": [
       "-1.511086252960877"
      ]
     },
     "execution_count": 139,
     "metadata": {},
     "output_type": "execute_result"
    }
   ],
   "source": [
    "chi2 = (hist1 - hist2)**2 / (vars1 + vars2)\n",
    "print(np.sum(chi2))\n",
    "np.log1p(-stats.chi2.cdf(np.sum(chi2), df=len(chi2)) + 1e-10) / np.log(10)"
   ]
  },
  {
   "cell_type": "code",
   "execution_count": 119,
   "id": "b62523f9",
   "metadata": {},
   "outputs": [],
   "source": [
    "reco_e_score = ReweightedChi2Scorer(\n",
    "    varname=\"reco_energy\",\n",
    "    binning=np.geomspace(10., 100., 25),\n",
    "    reduce=\"min\"\n",
    ")"
   ]
  },
  {
   "cell_type": "code",
   "execution_count": null,
   "id": "011f823f",
   "metadata": {},
   "outputs": [],
   "source": []
  }
 ],
 "metadata": {
  "kernelspec": {
   "display_name": "Python 3 (ipykernel)",
   "language": "python",
   "name": "python3"
  },
  "language_info": {
   "codemirror_mode": {
    "name": "ipython",
    "version": 3
   },
   "file_extension": ".py",
   "mimetype": "text/x-python",
   "name": "python",
   "nbconvert_exporter": "python",
   "pygments_lexer": "ipython3",
   "version": "3.10.2"
  }
 },
 "nbformat": 4,
 "nbformat_minor": 5
}
